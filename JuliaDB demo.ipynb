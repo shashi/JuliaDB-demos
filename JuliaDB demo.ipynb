{
 "cells": [
  {
   "cell_type": "markdown",
   "metadata": {
    "slideshow": {
     "slide_type": "slide"
    }
   },
   "source": [
    "<center><img src = \"https://juliacomputing.com/assets/img/new/JuliaDB_logo2.svg\" width=400>\n",
    "\n",
    "# A data system for Julia\n",
    "</center>\n",
    "<br>\n",
    "<table>\n",
    "    <tr>\n",
    "        <td style=\"width: 200px\"><strong style=\"font-size:20px;\">Jeff Bezanson<br>Shashi Gowda<br>Josh Day</strong></td>\n",
    "        <td><img src = \"https://juliacomputing.com/assets/img/new/julia-computing.svg\" width=400></td>\n",
    "    </tr>\n",
    "</table>\n"
   ]
  },
  {
   "cell_type": "markdown",
   "metadata": {
    "slideshow": {
     "slide_type": "slide"
    }
   },
   "source": [
    "# Overview\n",
    "\n",
    "- Why JuliaDB\n",
    "- Analytics with JuliaDB\n",
    "- Benchmarks\n",
    "- API Overview"
   ]
  },
  {
   "cell_type": "markdown",
   "metadata": {
    "slideshow": {
     "slide_type": "skip"
    }
   },
   "source": [
    "## Why Do We Need Another Language?\n",
    "\n",
    "https://julialang.org/blog/2012/02/why-we-created-julia"
   ]
  },
  {
   "cell_type": "markdown",
   "metadata": {
    "slideshow": {
     "slide_type": "skip"
    }
   },
   "source": [
    "# The Two Language Problem\n",
    "\n",
    "- **Prototype** code goes into a high-level language\n",
    "- **Production** code goes into a low-level language"
   ]
  },
  {
   "cell_type": "markdown",
   "metadata": {
    "slideshow": {
     "slide_type": "skip"
    }
   },
   "source": [
    "<center><img src=\"https://upload.wikimedia.org/wikipedia/commons/thumb/6/69/Julia_prog_language.svg/1280px-Julia_prog_language.svg.png\" width=200></center>\n",
    "\n",
    "# The dream:"
   ]
  },
  {
   "cell_type": "markdown",
   "metadata": {
    "slideshow": {
     "slide_type": "skip"
    }
   },
   "source": [
    "- Be (at least) as nice as Python/R/Matlab"
   ]
  },
  {
   "cell_type": "markdown",
   "metadata": {
    "slideshow": {
     "slide_type": "skip"
    }
   },
   "source": [
    "- Be as fast as C/Fortran"
   ]
  },
  {
   "cell_type": "markdown",
   "metadata": {
    "slideshow": {
     "slide_type": "skip"
    }
   },
   "source": [
    "*Julia is fast because of features which work well together, and it is more than \"Fast Python/R/Matlab\"*"
   ]
  },
  {
   "cell_type": "markdown",
   "metadata": {
    "slideshow": {
     "slide_type": "slide"
    }
   },
   "source": [
    "# Julia Features\n",
    "\n",
    "- **JIT Compiler**: User code runs fast\n",
    "- **Multiple Dispatch**:  Code specialized to argument types\n",
    "- **Type System**: Express yourself\n",
    "- **Metaprogramming**: Transform and generate code\n",
    "- **Parallelism**: Built-in\n",
    "- **Interop** (Call C directly, RCall.jl, PyCall.jl), **Unicode Support**, **MIT Licensed**, ..."
   ]
  },
  {
   "cell_type": "markdown",
   "metadata": {
    "slideshow": {
     "slide_type": "slide"
    }
   },
   "source": [
    "# Introducing JuliaDB"
   ]
  },
  {
   "cell_type": "markdown",
   "metadata": {
    "slideshow": {
     "slide_type": "skip"
    }
   },
   "source": [
    "# Julia \"Developers\"\n",
    "\n",
    "![](https://pkg.julialang.org/img/allver.svg)"
   ]
  },
  {
   "cell_type": "markdown",
   "metadata": {
    "slideshow": {
     "slide_type": "skip"
    }
   },
   "source": [
    "# Julia \"Users\"\n",
    "\n",
    "![](https://pkg.julialang.org/img/stars.svg)"
   ]
  },
  {
   "cell_type": "markdown",
   "metadata": {
    "slideshow": {
     "slide_type": "slide"
    }
   },
   "source": [
    "# Why JuliaDB?\n",
    "\n",
    "We shouldn't need to glue together tools to get performance\n",
    "\n",
    "<iframe width=\"560\" height=\"315\" src=\"https://www.youtube.com/embed/X5SkW7K0e3Y\" frameborder=\"0\" gesture=\"media\" allow=\"encrypted-media\" allowfullscreen></iframe>\n",
    "\n",
    "<img src=\"https://media.giphy.com/media/xT0xelg3s22Ni7gYO4/giphy.gif\" width=400>"
   ]
  },
  {
   "cell_type": "markdown",
   "metadata": {
    "slideshow": {
     "slide_type": "slide"
    }
   },
   "source": [
    "<table>\n",
    "    <tr>\n",
    "        <td width=\"100\"><h1>pandas</h1></td>\n",
    "        <td><img src = \"images/pandas.png\"></td>\n",
    "    </tr>\n",
    "</table>"
   ]
  },
  {
   "cell_type": "markdown",
   "metadata": {
    "slideshow": {
     "slide_type": "fragment"
    }
   },
   "source": [
    "<table>\n",
    "    <tr>\n",
    "        <td width=\"100\"><h1>pandas</h1></td>\n",
    "        <td><img src = \"images/pandas-2.png\"></td>\n",
    "    </tr>\n",
    "</table>"
   ]
  },
  {
   "cell_type": "markdown",
   "metadata": {
    "slideshow": {
     "slide_type": "fragment"
    }
   },
   "source": [
    "<table>\n",
    "    <tr>\n",
    "        <td width=\"100\"><h1>dplyr</h1></td>\n",
    "        <td><img src = \"images/dplyr.png\"></td>\n",
    "    </tr>\n",
    "</table>"
   ]
  },
  {
   "cell_type": "markdown",
   "metadata": {
    "slideshow": {
     "slide_type": "fragment"
    }
   },
   "source": [
    "<table>\n",
    "    <tr>\n",
    "        <td width=\"100\"><h1>data.table</h1></td>\n",
    "        <td><img src = \"images/datatable.png\"></td>\n",
    "    </tr>\n",
    "</table>"
   ]
  },
  {
   "cell_type": "markdown",
   "metadata": {
    "slideshow": {
     "slide_type": "fragment"
    }
   },
   "source": [
    "<table>\n",
    "    <tr>\n",
    "        <td width=\"100\"><h1>JuliaDB</h1></td>\n",
    "        <td><img src = \"images/juliadb.png\"></td>\n",
    "    </tr>\n",
    "</table>"
   ]
  },
  {
   "cell_type": "markdown",
   "metadata": {
    "slideshow": {
     "slide_type": "slide"
    }
   },
   "source": [
    "# JuliaDB Goals\n",
    "\n",
    "**JuliaDB brings the promise of Julia to Data Science**\n",
    "\n",
    "- Efficiently work with multi-file persistent datasets\n",
    "- Queries/user-defined functions are fast\n",
    "- Perform the heavy lifting of distributed computing\n",
    "- Batteries are included (tools for analytics)"
   ]
  },
  {
   "cell_type": "markdown",
   "metadata": {
    "slideshow": {
     "slide_type": "slide"
    }
   },
   "source": [
    "# Example: NYC Taxi Data\n",
    "\n",
    "![](http://www.nyc.gov/html/tlc/includes/site_images/branding/banner.gif)\n",
    "\n",
    "- First 4 months of yellow cab data for 2017 (3.2 GB)\n",
    "- One file per month"
   ]
  },
  {
   "cell_type": "code",
   "execution_count": 1,
   "metadata": {
    "slideshow": {
     "slide_type": "-"
    }
   },
   "outputs": [
    {
     "name": "stdout",
     "output_type": "stream",
     "text": [
      "yellow_tripdata_2016-01.csv\n",
      "yellow_tripdata_2016-02.csv\n",
      "yellow_tripdata_2016-03.csv\n",
      "yellow_tripdata_2016-04.csv\n"
     ]
    }
   ],
   "source": [
    ";ls taxi"
   ]
  },
  {
   "cell_type": "code",
   "execution_count": 2,
   "metadata": {
    "slideshow": {
     "slide_type": "skip"
    }
   },
   "outputs": [
    {
     "name": "stdout",
     "output_type": "stream",
     "text": [
      "8.0K\ttaxi/.juliadb\n",
      "3.4G\ttaxi\n"
     ]
    }
   ],
   "source": [
    ";du -h taxi"
   ]
  },
  {
   "cell_type": "code",
   "execution_count": 13,
   "metadata": {
    "slideshow": {
     "slide_type": "slide"
    }
   },
   "outputs": [
    {
     "name": "stdout",
     "output_type": "stream",
     "text": [
      "VendorID,tpep_pickup_datetime,tpep_dropoff_datetime,passenger_count,trip_distance,pickup_longitude,pickup_latitude,RatecodeID,store_and_fwd_flag,dropoff_longitude,dropoff_latitude,payment_type,fare_amount,extra,mta_tax,tip_amount,tolls_amount,improvement_surcharge,total_amount\r\n",
      "2,2016-01-01 00:00:00,2016-01-01 00:00:00,2,1.10,-73.990371704101563,40.734695434570313,1,N,-73.981842041015625,40.732406616210937,2,7.5,0.5,0.5,0,0,0.3,8.8\r\n",
      "2,2016-01-01 00:00:00,2016-01-01 00:00:00,1,10.54,-73.984550476074219,40.6795654296875,1,N,-73.950271606445313,40.788925170898438,1,33,0.5,0.5,0,0,0.3,34.3\r\n",
      "2,2016-01-01 00:00:00,2016-01-01 00:00:00,3,1.76,-73.960624694824219,40.781330108642578,1,N,-73.977264404296875,40.758514404296875,2,8,0,0.5,0,0,0.3,8.8\r\n",
      "2,2016-01-01 00:00:00,2016-01-01 00:26:45,2,7.45,-73.994056701660156,40.719989776611328,1,N,-73.966361999511719,40.789871215820313,2,26,0.5,0.5,0,0,0.3,27.3\r\n",
      "1,2016-01-01 00:00:02,2016-01-01 00:11:14,1,6.00,-73.947151184082031,40.791046142578125,1,N,-73.920768737792969,40.865577697753906,2,18,0.5,0.5,0,0,0.3,19.3\r\n",
      "2,2016-01-01 00:00:03,2016-01-01 00:06:19,1,.79,-74.006149291992188,40.744918823242188,1,N,-73.993797302246094,40.741439819335938,2,6,0.5,0.5,0,0,0.3,7.3\r\n",
      "2,2016-01-01 00:00:03,2016-01-01 00:00:11,4,.01,-73.989021301269531,40.721538543701172,1,N,-73.988960266113281,40.721698760986328,2,2.5,0.5,0.5,0,0,0.3,3.8\r\n",
      "1,2016-01-01 00:00:05,2016-01-01 00:14:27,2,2.20,-73.991996765136719,40.718578338623047,1,N,-74.005134582519531,40.739944458007813,1,11,0.5,0.5,1.5,0,0.3,13.8\r\n",
      "2,2016-01-01 00:00:05,2016-01-01 00:07:14,1,1.92,-73.973091125488281,40.795360565185547,1,N,-73.978370666503906,40.773151397705078,2,7.5,0.5,0.5,0,0,0.3,8.8\r\n"
     ]
    }
   ],
   "source": [
    ";head taxi/yellow_tripdata_2016-01.csv"
   ]
  },
  {
   "cell_type": "code",
   "execution_count": 4,
   "metadata": {
    "slideshow": {
     "slide_type": "skip"
    }
   },
   "outputs": [
    {
     "name": "stdout",
     "output_type": "stream",
     "text": [
      "addprocs(4) = [2, 3, 4, 5]\n",
      "Metadata for 4 / 4 files can be loaded from cache.\n"
     ]
    },
    {
     "data": {
      "text/plain": [
       "Distributed Table with 23217099 rows in 4 chunks:\n",
       "Columns:\n",
       "\u001b[1m#   \u001b[22m\u001b[1mcolname                \u001b[22m\u001b[1mtype\u001b[22m\n",
       "───────────────────────────────────\n",
       "1   VendorID               Int64\n",
       "2   tpep_pickup_datetime   DateTime\n",
       "3   tpep_dropoff_datetime  DateTime\n",
       "4   passenger_count        Int64\n",
       "5   trip_distance          Float64\n",
       "6   pickup_longitude       Float64\n",
       "7   pickup_latitude        Float64\n",
       "8   RatecodeID             Int64\n",
       "9   store_and_fwd_flag     String\n",
       "10  dropoff_longitude      Float64\n",
       "11  dropoff_latitude       Float64\n",
       "12  payment_type           Int64\n",
       "13  fare_amount            Float64\n",
       "14  extra                  Float64\n",
       "15  mta_tax                Float64\n",
       "16  tip_amount             Float64\n",
       "17  tolls_amount           Float64\n",
       "18  improvement_surcharge  Float64\n",
       "19  total_amount           Float64"
      ]
     },
     "execution_count": 4,
     "metadata": {},
     "output_type": "execute_result"
    }
   ],
   "source": [
    "if nprocs() == 1\n",
    "    @show addprocs(4)\n",
    "end\n",
    "using JuliaDB\n",
    "\n",
    "\n",
    "path = \"taxi\"\n",
    "db = loadtable(path; indexcols=[1, 2])\n",
    "save(db, \"mydata\")"
   ]
  },
  {
   "cell_type": "code",
   "execution_count": 1,
   "metadata": {},
   "outputs": [
    {
     "name": "stdout",
     "output_type": "stream",
     "text": [
      "addprocs(4) = [2, 3, 4, 5]\n"
     ]
    }
   ],
   "source": [
    "if nprocs() == 1\n",
    "    @show addprocs(4)\n",
    "end\n",
    "using JuliaDB"
   ]
  },
  {
   "cell_type": "markdown",
   "metadata": {
    "slideshow": {
     "slide_type": "slide"
    }
   },
   "source": [
    "# Run This Once:\n",
    "\n",
    "```julia\n",
    "addprocs()\n",
    "using JuliaDB\n",
    "\n",
    "db = loadtable(\"taxi\"; indexcols=[1, 2])\n",
    "\n",
    "save(db, \"mydata\")\n",
    "```"
   ]
  },
  {
   "cell_type": "markdown",
   "metadata": {
    "slideshow": {
     "slide_type": "slide"
    }
   },
   "source": [
    "### Future Julia Sessions  Quickly Reload Data"
   ]
  },
  {
   "cell_type": "code",
   "execution_count": 15,
   "metadata": {
    "slideshow": {
     "slide_type": "-"
    }
   },
   "outputs": [
    {
     "name": "stdout",
     "output_type": "stream",
     "text": [
      "  0.006143 seconds (2.66 k allocations: 141.906 KiB)\n"
     ]
    },
    {
     "data": {
      "text/plain": [
       "Distributed Table with 23217099 rows in 4 chunks:\n",
       "Columns:\n",
       "\u001b[1m#   \u001b[22m\u001b[1mcolname                \u001b[22m\u001b[1mtype\u001b[22m\n",
       "───────────────────────────────────\n",
       "1   VendorID               Int64\n",
       "2   tpep_pickup_datetime   DateTime\n",
       "3   tpep_dropoff_datetime  DateTime\n",
       "4   passenger_count        Int64\n",
       "5   trip_distance          Float64\n",
       "6   pickup_longitude       Float64\n",
       "7   pickup_latitude        Float64\n",
       "8   RatecodeID             Int64\n",
       "9   store_and_fwd_flag     String\n",
       "10  dropoff_longitude      Float64\n",
       "11  dropoff_latitude       Float64\n",
       "12  payment_type           Int64\n",
       "13  fare_amount            Float64\n",
       "14  extra                  Float64\n",
       "15  mta_tax                Float64\n",
       "16  tip_amount             Float64\n",
       "17  tolls_amount           Float64\n",
       "18  improvement_surcharge  Float64\n",
       "19  total_amount           Float64"
      ]
     },
     "execution_count": 15,
     "metadata": {},
     "output_type": "execute_result"
    }
   ],
   "source": [
    "@time db = load(\"mydata\")"
   ]
  },
  {
   "cell_type": "markdown",
   "metadata": {
    "slideshow": {
     "slide_type": "slide"
    }
   },
   "source": [
    "# Analytics With OnlineStats\n",
    " \n",
    " http://joshday.github.io/OnlineStats.jl/latest/\n",
    " \n",
    "- Each statistic/model has its own type\n",
    "- Values are updated one observation at a time"
   ]
  },
  {
   "cell_type": "markdown",
   "metadata": {
    "slideshow": {
     "slide_type": "slide"
    }
   },
   "source": [
    "# OnlineStats (Batteries included)\n",
    "\n",
    "- **Summary Statistics** (`Mean`, `CovMatrix`, `Quantile`, etc.)\n",
    "- **Density Estimation** (`OHistogram`, `IHistogram`, `FitCategorical`)\n",
    "- **Regression** (`LinReg`, `LinRegBuilder`)\n",
    "- **(Approximate) Penalized GLMs** with a variety of:\n",
    "    - **Algorithms**: `SGD`, `ADAGRAD`, `ADAM`,...\n",
    "    - **Losses**: `L2DistLoss`, `L1HingeLoss`,...\n",
    "    - **Penalties**: `ElasticNetPenalty`, ..."
   ]
  },
  {
   "cell_type": "markdown",
   "metadata": {
    "slideshow": {
     "slide_type": "slide"
    }
   },
   "source": [
    "# OnlineStats Features\n",
    "\n",
    "- Different weighting schemes to handle parameter drift\n",
    "\n",
    "<center>\n",
    "![](https://user-images.githubusercontent.com/8075494/27964296-c249baec-6305-11e7-89d0-9875d3bdab3e.gif)\n",
    "</center>"
   ]
  },
  {
   "cell_type": "markdown",
   "metadata": {
    "slideshow": {
     "slide_type": "slide"
    }
   },
   "source": [
    "# OnlineStats Features\n",
    "\n",
    "- Calculations can be done in parallel\n",
    "\n",
    "<center><img src=\"https://user-images.githubusercontent.com/8075494/32748459-519986e8-c88a-11e7-89b3-80dedf7f261b.png\" width=500></center>"
   ]
  },
  {
   "cell_type": "code",
   "execution_count": 19,
   "metadata": {
    "slideshow": {
     "slide_type": "slide"
    }
   },
   "outputs": [
    {
     "data": {
      "text/plain": [
       "Plots.GRBackend()"
      ]
     },
     "execution_count": 19,
     "metadata": {},
     "output_type": "execute_result"
    }
   ],
   "source": [
    "using Plots, OnlineStats\n",
    "gr()  # Use gr backend"
   ]
  },
  {
   "cell_type": "markdown",
   "metadata": {
    "slideshow": {
     "slide_type": "slide"
    }
   },
   "source": [
    "# `reduce` Operations"
   ]
  },
  {
   "cell_type": "code",
   "execution_count": 17,
   "metadata": {},
   "outputs": [
    {
     "data": {
      "text/plain": [
       "12.682048214981304"
      ]
     },
     "execution_count": 17,
     "metadata": {},
     "output_type": "execute_result"
    }
   ],
   "source": [
    "reduce(+, db; select = :fare_amount) / length(db)"
   ]
  },
  {
   "cell_type": "code",
   "execution_count": 80,
   "metadata": {},
   "outputs": [
    {
     "data": {
      "text/plain": [
       "4-element Array{Int64,1}:\n",
       " 5453429\n",
       " 5691025\n",
       " 6105476\n",
       " 5967169"
      ]
     },
     "execution_count": 80,
     "metadata": {},
     "output_type": "execute_result"
    }
   ],
   "source": [
    "x = column(db, 1)\n",
    "\n",
    "map(length∘collect, x.chunks)"
   ]
  },
  {
   "cell_type": "code",
   "execution_count": 28,
   "metadata": {},
   "outputs": [
    {
     "name": "stdout",
     "output_type": "stream",
     "text": [
      "  0.142868 seconds (3.99 k allocations: 212.984 KiB)\n"
     ]
    },
    {
     "data": {
      "text/plain": [
       "23217099"
      ]
     },
     "execution_count": 28,
     "metadata": {},
     "output_type": "execute_result"
    }
   ],
   "source": [
    "s = @time reduce(Mean(), db; select = :fare_amount)\n",
    "s.n"
   ]
  },
  {
   "cell_type": "code",
   "execution_count": 29,
   "metadata": {
    "slideshow": {
     "slide_type": "slide"
    }
   },
   "outputs": [
    {
     "name": "stdout",
     "output_type": "stream",
     "text": [
      "  2.133162 seconds (194.09 k allocations: 10.717 MiB)\n"
     ]
    },
    {
     "data": {
      "text/html": [
       "<?xml version=\"1.0\" encoding=\"utf-8\"?>\n",
       "<svg xmlns=\"http://www.w3.org/2000/svg\" xmlns:xlink=\"http://www.w3.org/1999/xlink\" width=\"600\" height=\"400\" viewBox=\"0 0 600 400\">\n",
       "<defs>\n",
       "  <clipPath id=\"clip00\">\n",
       "    <rect x=\"0\" y=\"0\" width=\"600\" height=\"400\"/>\n",
       "  </clipPath>\n",
       "</defs>\n",
       "<polygon clip-path=\"url(#clip5600)\" points=\"\n",
       "0,400 600,400 600,0 0,0 \n",
       "  \" fill=\"#ffffff\" fill-opacity=\"1\"/>\n",
       "<defs>\n",
       "  <clipPath id=\"clip01\">\n",
       "    <rect x=\"120\" y=\"0\" width=\"421\" height=\"400\"/>\n",
       "  </clipPath>\n",
       "</defs>\n",
       "<polygon clip-path=\"url(#clip5600)\" points=\"\n",
       "61.8754,360.065 580.315,360.065 580.315,11.811 61.8754,11.811 \n",
       "  \" fill=\"#ffffff\" fill-opacity=\"1\"/>\n",
       "<defs>\n",
       "  <clipPath id=\"clip02\">\n",
       "    <rect x=\"61\" y=\"11\" width=\"519\" height=\"349\"/>\n",
       "  </clipPath>\n",
       "</defs>\n",
       "<polyline clip-path=\"url(#clip5602)\" style=\"stroke:#000000; stroke-width:0.5; stroke-opacity:0.1; fill:none\" points=\"\n",
       "  96.5113,354.842 96.5113,17.0348 \n",
       "  \"/>\n",
       "<polyline clip-path=\"url(#clip5602)\" style=\"stroke:#000000; stroke-width:0.5; stroke-opacity:0.1; fill:none\" points=\"\n",
       "  196.326,354.842 196.326,17.0348 \n",
       "  \"/>\n",
       "<polyline clip-path=\"url(#clip5602)\" style=\"stroke:#000000; stroke-width:0.5; stroke-opacity:0.1; fill:none\" points=\"\n",
       "  296.141,354.842 296.141,17.0348 \n",
       "  \"/>\n",
       "<polyline clip-path=\"url(#clip5602)\" style=\"stroke:#000000; stroke-width:0.5; stroke-opacity:0.1; fill:none\" points=\"\n",
       "  395.957,354.842 395.957,17.0348 \n",
       "  \"/>\n",
       "<polyline clip-path=\"url(#clip5602)\" style=\"stroke:#000000; stroke-width:0.5; stroke-opacity:0.1; fill:none\" points=\"\n",
       "  495.772,354.842 495.772,17.0348 \n",
       "  \"/>\n",
       "<polyline clip-path=\"url(#clip5602)\" style=\"stroke:#000000; stroke-width:0.5; stroke-opacity:0.1; fill:none\" points=\"\n",
       "  69.652,360.065 572.538,360.065 \n",
       "  \"/>\n",
       "<polyline clip-path=\"url(#clip5602)\" style=\"stroke:#000000; stroke-width:0.5; stroke-opacity:0.1; fill:none\" points=\"\n",
       "  69.652,277.681 572.538,277.681 \n",
       "  \"/>\n",
       "<polyline clip-path=\"url(#clip5602)\" style=\"stroke:#000000; stroke-width:0.5; stroke-opacity:0.1; fill:none\" points=\"\n",
       "  69.652,195.296 572.538,195.296 \n",
       "  \"/>\n",
       "<polyline clip-path=\"url(#clip5602)\" style=\"stroke:#000000; stroke-width:0.5; stroke-opacity:0.1; fill:none\" points=\"\n",
       "  69.652,112.911 572.538,112.911 \n",
       "  \"/>\n",
       "<polyline clip-path=\"url(#clip5602)\" style=\"stroke:#000000; stroke-width:0.5; stroke-opacity:0.1; fill:none\" points=\"\n",
       "  69.652,30.5268 572.538,30.5268 \n",
       "  \"/>\n",
       "<polyline clip-path=\"url(#clip5600)\" style=\"stroke:#000000; stroke-width:1; stroke-opacity:1; fill:none\" points=\"\n",
       "  61.8754,360.065 580.315,360.065 \n",
       "  \"/>\n",
       "<polyline clip-path=\"url(#clip5600)\" style=\"stroke:#000000; stroke-width:1; stroke-opacity:1; fill:none\" points=\"\n",
       "  61.8754,360.065 61.8754,11.811 \n",
       "  \"/>\n",
       "<polyline clip-path=\"url(#clip5600)\" style=\"stroke:#000000; stroke-width:1; stroke-opacity:1; fill:none\" points=\"\n",
       "  96.5113,360.065 96.5113,354.842 \n",
       "  \"/>\n",
       "<polyline clip-path=\"url(#clip5600)\" style=\"stroke:#000000; stroke-width:1; stroke-opacity:1; fill:none\" points=\"\n",
       "  196.326,360.065 196.326,354.842 \n",
       "  \"/>\n",
       "<polyline clip-path=\"url(#clip5600)\" style=\"stroke:#000000; stroke-width:1; stroke-opacity:1; fill:none\" points=\"\n",
       "  296.141,360.065 296.141,354.842 \n",
       "  \"/>\n",
       "<polyline clip-path=\"url(#clip5600)\" style=\"stroke:#000000; stroke-width:1; stroke-opacity:1; fill:none\" points=\"\n",
       "  395.957,360.065 395.957,354.842 \n",
       "  \"/>\n",
       "<polyline clip-path=\"url(#clip5600)\" style=\"stroke:#000000; stroke-width:1; stroke-opacity:1; fill:none\" points=\"\n",
       "  495.772,360.065 495.772,354.842 \n",
       "  \"/>\n",
       "<polyline clip-path=\"url(#clip5600)\" style=\"stroke:#000000; stroke-width:1; stroke-opacity:1; fill:none\" points=\"\n",
       "  61.8754,360.065 69.652,360.065 \n",
       "  \"/>\n",
       "<polyline clip-path=\"url(#clip5600)\" style=\"stroke:#000000; stroke-width:1; stroke-opacity:1; fill:none\" points=\"\n",
       "  61.8754,277.681 69.652,277.681 \n",
       "  \"/>\n",
       "<polyline clip-path=\"url(#clip5600)\" style=\"stroke:#000000; stroke-width:1; stroke-opacity:1; fill:none\" points=\"\n",
       "  61.8754,195.296 69.652,195.296 \n",
       "  \"/>\n",
       "<polyline clip-path=\"url(#clip5600)\" style=\"stroke:#000000; stroke-width:1; stroke-opacity:1; fill:none\" points=\"\n",
       "  61.8754,112.911 69.652,112.911 \n",
       "  \"/>\n",
       "<polyline clip-path=\"url(#clip5600)\" style=\"stroke:#000000; stroke-width:1; stroke-opacity:1; fill:none\" points=\"\n",
       "  61.8754,30.5268 69.652,30.5268 \n",
       "  \"/>\n",
       "<g clip-path=\"url(#clip5600)\">\n",
       "<text style=\"fill:#000000; fill-opacity:1; font-family:Arial,Helvetica Neue,Helvetica,sans-serif; font-size:12; text-anchor:middle;\" transform=\"rotate(0, 96.5113, 373.865)\" x=\"96.5113\" y=\"373.865\">0</text>\n",
       "</g>\n",
       "<g clip-path=\"url(#clip5600)\">\n",
       "<text style=\"fill:#000000; fill-opacity:1; font-family:Arial,Helvetica Neue,Helvetica,sans-serif; font-size:12; text-anchor:middle;\" transform=\"rotate(0, 196.326, 373.865)\" x=\"196.326\" y=\"373.865\">2</text>\n",
       "</g>\n",
       "<g clip-path=\"url(#clip5600)\">\n",
       "<text style=\"fill:#000000; fill-opacity:1; font-family:Arial,Helvetica Neue,Helvetica,sans-serif; font-size:12; text-anchor:middle;\" transform=\"rotate(0, 296.141, 373.865)\" x=\"296.141\" y=\"373.865\">4</text>\n",
       "</g>\n",
       "<g clip-path=\"url(#clip5600)\">\n",
       "<text style=\"fill:#000000; fill-opacity:1; font-family:Arial,Helvetica Neue,Helvetica,sans-serif; font-size:12; text-anchor:middle;\" transform=\"rotate(0, 395.957, 373.865)\" x=\"395.957\" y=\"373.865\">6</text>\n",
       "</g>\n",
       "<g clip-path=\"url(#clip5600)\">\n",
       "<text style=\"fill:#000000; fill-opacity:1; font-family:Arial,Helvetica Neue,Helvetica,sans-serif; font-size:12; text-anchor:middle;\" transform=\"rotate(0, 495.772, 373.865)\" x=\"495.772\" y=\"373.865\">8</text>\n",
       "</g>\n",
       "<g clip-path=\"url(#clip5600)\">\n",
       "<text style=\"fill:#000000; fill-opacity:1; font-family:Arial,Helvetica Neue,Helvetica,sans-serif; font-size:12; text-anchor:end;\" transform=\"rotate(0, 55.8754, 364.565)\" x=\"55.8754\" y=\"364.565\">0</text>\n",
       "</g>\n",
       "<g clip-path=\"url(#clip5600)\">\n",
       "<text style=\"fill:#000000; fill-opacity:1; font-family:Arial,Helvetica Neue,Helvetica,sans-serif; font-size:12; text-anchor:end;\" transform=\"rotate(0, 55.8754, 282.181)\" x=\"55.8754\" y=\"282.181\">1000000</text>\n",
       "</g>\n",
       "<g clip-path=\"url(#clip5600)\">\n",
       "<text style=\"fill:#000000; fill-opacity:1; font-family:Arial,Helvetica Neue,Helvetica,sans-serif; font-size:12; text-anchor:end;\" transform=\"rotate(0, 55.8754, 199.796)\" x=\"55.8754\" y=\"199.796\">2000000</text>\n",
       "</g>\n",
       "<g clip-path=\"url(#clip5600)\">\n",
       "<text style=\"fill:#000000; fill-opacity:1; font-family:Arial,Helvetica Neue,Helvetica,sans-serif; font-size:12; text-anchor:end;\" transform=\"rotate(0, 55.8754, 117.411)\" x=\"55.8754\" y=\"117.411\">3000000</text>\n",
       "</g>\n",
       "<g clip-path=\"url(#clip5600)\">\n",
       "<text style=\"fill:#000000; fill-opacity:1; font-family:Arial,Helvetica Neue,Helvetica,sans-serif; font-size:12; text-anchor:end;\" transform=\"rotate(0, 55.8754, 35.0268)\" x=\"55.8754\" y=\"35.0268\">4000000</text>\n",
       "</g>\n",
       "<g clip-path=\"url(#clip5600)\">\n",
       "<text style=\"fill:#000000; fill-opacity:1; font-family:Arial,Helvetica Neue,Helvetica,sans-serif; font-size:16; text-anchor:middle;\" transform=\"rotate(0, 321.095, 397.6)\" x=\"321.095\" y=\"397.6\">Number of Passengers</text>\n",
       "</g>\n",
       "<polygon clip-path=\"url(#clip5602)\" points=\"\n",
       "76.5483,359.723 76.5483,360.065 116.474,360.065 116.474,359.723 76.5483,359.723 76.5483,359.723 \n",
       "  \" fill=\"#009af9\" fill-opacity=\"1\"/>\n",
       "<polyline clip-path=\"url(#clip5602)\" style=\"stroke:#000000; stroke-width:1; stroke-opacity:1; fill:none\" points=\"\n",
       "  76.5483,359.723 76.5483,360.065 116.474,360.065 116.474,359.723 76.5483,359.723 \n",
       "  \"/>\n",
       "<polygon clip-path=\"url(#clip5602)\" points=\"\n",
       "276.178,350.372 276.178,360.065 316.104,360.065 316.104,350.372 276.178,350.372 276.178,350.372 \n",
       "  \" fill=\"#009af9\" fill-opacity=\"1\"/>\n",
       "<polyline clip-path=\"url(#clip5602)\" style=\"stroke:#000000; stroke-width:1; stroke-opacity:1; fill:none\" points=\"\n",
       "  276.178,350.372 276.178,360.065 316.104,360.065 316.104,350.372 276.178,350.372 \n",
       "  \"/>\n",
       "<polygon clip-path=\"url(#clip5602)\" points=\"\n",
       "525.716,360.064 525.716,360.065 565.642,360.065 565.642,360.064 525.716,360.064 525.716,360.064 \n",
       "  \" fill=\"#009af9\" fill-opacity=\"1\"/>\n",
       "<polyline clip-path=\"url(#clip5602)\" style=\"stroke:#000000; stroke-width:1; stroke-opacity:1; fill:none\" points=\"\n",
       "  525.716,360.064 525.716,360.065 565.642,360.065 565.642,360.064 525.716,360.064 \n",
       "  \"/>\n",
       "<polygon clip-path=\"url(#clip5602)\" points=\"\n",
       "425.901,360.065 425.901,360.065 465.827,360.065 465.827,360.065 425.901,360.065 425.901,360.065 \n",
       "  \" fill=\"#009af9\" fill-opacity=\"1\"/>\n",
       "<polyline clip-path=\"url(#clip5602)\" style=\"stroke:#000000; stroke-width:1; stroke-opacity:1; fill:none\" points=\"\n",
       "  425.901,360.065 425.901,360.065 465.827,360.065 465.827,360.065 425.901,360.065 \n",
       "  \"/>\n",
       "<polygon clip-path=\"url(#clip5602)\" points=\"\n",
       "176.363,288.959 176.363,360.065 216.289,360.065 216.289,288.959 176.363,288.959 176.363,288.959 \n",
       "  \" fill=\"#009af9\" fill-opacity=\"1\"/>\n",
       "<polyline clip-path=\"url(#clip5602)\" style=\"stroke:#000000; stroke-width:1; stroke-opacity:1; fill:none\" points=\"\n",
       "  176.363,288.959 176.363,360.065 216.289,360.065 216.289,288.959 176.363,288.959 \n",
       "  \"/>\n",
       "<polygon clip-path=\"url(#clip5602)\" points=\"\n",
       "226.271,339.758 226.271,360.065 266.197,360.065 266.197,339.758 226.271,339.758 226.271,339.758 \n",
       "  \" fill=\"#009af9\" fill-opacity=\"1\"/>\n",
       "<polyline clip-path=\"url(#clip5602)\" style=\"stroke:#000000; stroke-width:1; stroke-opacity:1; fill:none\" points=\"\n",
       "  226.271,339.758 226.271,360.065 266.197,360.065 266.197,339.758 226.271,339.758 \n",
       "  \"/>\n",
       "<polygon clip-path=\"url(#clip5602)\" points=\"\n",
       "326.086,334.093 326.086,360.065 366.012,360.065 366.012,334.093 326.086,334.093 326.086,334.093 \n",
       "  \" fill=\"#009af9\" fill-opacity=\"1\"/>\n",
       "<polyline clip-path=\"url(#clip5602)\" style=\"stroke:#000000; stroke-width:1; stroke-opacity:1; fill:none\" points=\"\n",
       "  326.086,334.093 326.086,360.065 366.012,360.065 366.012,334.093 326.086,334.093 \n",
       "  \"/>\n",
       "<polygon clip-path=\"url(#clip5602)\" points=\"\n",
       "475.809,360.064 475.809,360.065 515.735,360.065 515.735,360.064 475.809,360.064 475.809,360.064 \n",
       "  \" fill=\"#009af9\" fill-opacity=\"1\"/>\n",
       "<polyline clip-path=\"url(#clip5602)\" style=\"stroke:#000000; stroke-width:1; stroke-opacity:1; fill:none\" points=\"\n",
       "  475.809,360.064 475.809,360.065 515.735,360.065 515.735,360.064 475.809,360.064 \n",
       "  \"/>\n",
       "<polygon clip-path=\"url(#clip5602)\" points=\"\n",
       "375.993,344.142 375.993,360.065 415.92,360.065 415.92,344.142 375.993,344.142 375.993,344.142 \n",
       "  \" fill=\"#009af9\" fill-opacity=\"1\"/>\n",
       "<polyline clip-path=\"url(#clip5602)\" style=\"stroke:#000000; stroke-width:1; stroke-opacity:1; fill:none\" points=\"\n",
       "  375.993,344.142 375.993,360.065 415.92,360.065 415.92,344.142 375.993,344.142 \n",
       "  \"/>\n",
       "<polygon clip-path=\"url(#clip5602)\" points=\"\n",
       "126.456,11.811 126.456,360.065 166.382,360.065 166.382,11.811 126.456,11.811 126.456,11.811 \n",
       "  \" fill=\"#009af9\" fill-opacity=\"1\"/>\n",
       "<polyline clip-path=\"url(#clip5602)\" style=\"stroke:#000000; stroke-width:1; stroke-opacity:1; fill:none\" points=\"\n",
       "  126.456,11.811 126.456,360.065 166.382,360.065 166.382,11.811 126.456,11.811 \n",
       "  \"/>\n",
       "<polygon clip-path=\"url(#clip5600)\" points=\"\n",
       "489.799,62.931 562.315,62.931 562.315,32.691 489.799,32.691 \n",
       "  \" fill=\"#ffffff\" fill-opacity=\"1\"/>\n",
       "<polyline clip-path=\"url(#clip5600)\" style=\"stroke:#000000; stroke-width:1; stroke-opacity:1; fill:none\" points=\"\n",
       "  489.799,62.931 562.315,62.931 562.315,32.691 489.799,32.691 489.799,62.931 \n",
       "  \"/>\n",
       "<polygon clip-path=\"url(#clip5600)\" points=\"\n",
       "495.799,53.859 531.799,53.859 531.799,41.763 495.799,41.763 495.799,53.859 \n",
       "  \" fill=\"#009af9\" fill-opacity=\"1\"/>\n",
       "<polyline clip-path=\"url(#clip5600)\" style=\"stroke:#000000; stroke-width:1; stroke-opacity:1; fill:none\" points=\"\n",
       "  495.799,53.859 531.799,53.859 531.799,41.763 495.799,41.763 495.799,53.859 \n",
       "  \"/>\n",
       "<g clip-path=\"url(#clip5600)\">\n",
       "<text style=\"fill:#000000; fill-opacity:1; font-family:Arial,Helvetica Neue,Helvetica,sans-serif; font-size:12; text-anchor:start;\" transform=\"rotate(0, 537.799, 52.311)\" x=\"537.799\" y=\"52.311\">y1</text>\n",
       "</g>\n",
       "</svg>\n"
      ]
     },
     "execution_count": 29,
     "metadata": {},
     "output_type": "execute_result"
    }
   ],
   "source": [
    "@time h = reduce(FitCategorical(Int64), db; select = :passenger_count)\n",
    "plot(h, xlab = \"Number of Passengers\")"
   ]
  },
  {
   "cell_type": "code",
   "execution_count": 36,
   "metadata": {
    "scrolled": false,
    "slideshow": {
     "slide_type": "slide"
    }
   },
   "outputs": [
    {
     "name": "stdout",
     "output_type": "stream",
     "text": [
      "  0.488377 seconds (4.82 k allocations: 274.219 KiB)\n"
     ]
    },
    {
     "data": {
      "text/html": [
       "<?xml version=\"1.0\" encoding=\"utf-8\"?>\n",
       "<svg xmlns=\"http://www.w3.org/2000/svg\" xmlns:xlink=\"http://www.w3.org/1999/xlink\" width=\"600\" height=\"400\" viewBox=\"0 0 600 400\">\n",
       "<defs>\n",
       "  <clipPath id=\"clip00\">\n",
       "    <rect x=\"0\" y=\"0\" width=\"600\" height=\"400\"/>\n",
       "  </clipPath>\n",
       "</defs>\n",
       "<polygon clip-path=\"url(#clip6400)\" points=\"\n",
       "0,400 600,400 600,0 0,0 \n",
       "  \" fill=\"#ffffff\" fill-opacity=\"1\"/>\n",
       "<defs>\n",
       "  <clipPath id=\"clip01\">\n",
       "    <rect x=\"120\" y=\"0\" width=\"421\" height=\"400\"/>\n",
       "  </clipPath>\n",
       "</defs>\n",
       "<polygon clip-path=\"url(#clip6400)\" points=\"\n",
       "61.8754,360.065 580.315,360.065 580.315,31.4961 61.8754,31.4961 \n",
       "  \" fill=\"#ffffff\" fill-opacity=\"1\"/>\n",
       "<defs>\n",
       "  <clipPath id=\"clip02\">\n",
       "    <rect x=\"61\" y=\"31\" width=\"519\" height=\"330\"/>\n",
       "  </clipPath>\n",
       "</defs>\n",
       "<polyline clip-path=\"url(#clip6402)\" style=\"stroke:#000000; stroke-width:0.5; stroke-opacity:0.1; fill:none\" points=\"\n",
       "  76.5483,355.137 76.5483,36.4246 \n",
       "  \"/>\n",
       "<polyline clip-path=\"url(#clip6402)\" style=\"stroke:#000000; stroke-width:0.5; stroke-opacity:0.1; fill:none\" points=\"\n",
       "  158.064,355.137 158.064,36.4246 \n",
       "  \"/>\n",
       "<polyline clip-path=\"url(#clip6402)\" style=\"stroke:#000000; stroke-width:0.5; stroke-opacity:0.1; fill:none\" points=\"\n",
       "  239.58,355.137 239.58,36.4246 \n",
       "  \"/>\n",
       "<polyline clip-path=\"url(#clip6402)\" style=\"stroke:#000000; stroke-width:0.5; stroke-opacity:0.1; fill:none\" points=\"\n",
       "  321.095,355.137 321.095,36.4246 \n",
       "  \"/>\n",
       "<polyline clip-path=\"url(#clip6402)\" style=\"stroke:#000000; stroke-width:0.5; stroke-opacity:0.1; fill:none\" points=\"\n",
       "  402.611,355.137 402.611,36.4246 \n",
       "  \"/>\n",
       "<polyline clip-path=\"url(#clip6402)\" style=\"stroke:#000000; stroke-width:0.5; stroke-opacity:0.1; fill:none\" points=\"\n",
       "  484.126,355.137 484.126,36.4246 \n",
       "  \"/>\n",
       "<polyline clip-path=\"url(#clip6402)\" style=\"stroke:#000000; stroke-width:0.5; stroke-opacity:0.1; fill:none\" points=\"\n",
       "  565.642,355.137 565.642,36.4246 \n",
       "  \"/>\n",
       "<polyline clip-path=\"url(#clip6402)\" style=\"stroke:#000000; stroke-width:0.5; stroke-opacity:0.1; fill:none\" points=\"\n",
       "  69.652,360.065 572.538,360.065 \n",
       "  \"/>\n",
       "<polyline clip-path=\"url(#clip6402)\" style=\"stroke:#000000; stroke-width:0.5; stroke-opacity:0.1; fill:none\" points=\"\n",
       "  69.652,281.421 572.538,281.421 \n",
       "  \"/>\n",
       "<polyline clip-path=\"url(#clip6402)\" style=\"stroke:#000000; stroke-width:0.5; stroke-opacity:0.1; fill:none\" points=\"\n",
       "  69.652,202.777 572.538,202.777 \n",
       "  \"/>\n",
       "<polyline clip-path=\"url(#clip6402)\" style=\"stroke:#000000; stroke-width:0.5; stroke-opacity:0.1; fill:none\" points=\"\n",
       "  69.652,124.133 572.538,124.133 \n",
       "  \"/>\n",
       "<polyline clip-path=\"url(#clip6402)\" style=\"stroke:#000000; stroke-width:0.5; stroke-opacity:0.1; fill:none\" points=\"\n",
       "  69.652,45.4882 572.538,45.4882 \n",
       "  \"/>\n",
       "<polyline clip-path=\"url(#clip6400)\" style=\"stroke:#000000; stroke-width:1; stroke-opacity:1; fill:none\" points=\"\n",
       "  61.8754,360.065 580.315,360.065 \n",
       "  \"/>\n",
       "<polyline clip-path=\"url(#clip6400)\" style=\"stroke:#000000; stroke-width:1; stroke-opacity:1; fill:none\" points=\"\n",
       "  61.8754,360.065 61.8754,31.4961 \n",
       "  \"/>\n",
       "<polyline clip-path=\"url(#clip6400)\" style=\"stroke:#000000; stroke-width:1; stroke-opacity:1; fill:none\" points=\"\n",
       "  76.5483,360.065 76.5483,355.137 \n",
       "  \"/>\n",
       "<polyline clip-path=\"url(#clip6400)\" style=\"stroke:#000000; stroke-width:1; stroke-opacity:1; fill:none\" points=\"\n",
       "  158.064,360.065 158.064,355.137 \n",
       "  \"/>\n",
       "<polyline clip-path=\"url(#clip6400)\" style=\"stroke:#000000; stroke-width:1; stroke-opacity:1; fill:none\" points=\"\n",
       "  239.58,360.065 239.58,355.137 \n",
       "  \"/>\n",
       "<polyline clip-path=\"url(#clip6400)\" style=\"stroke:#000000; stroke-width:1; stroke-opacity:1; fill:none\" points=\"\n",
       "  321.095,360.065 321.095,355.137 \n",
       "  \"/>\n",
       "<polyline clip-path=\"url(#clip6400)\" style=\"stroke:#000000; stroke-width:1; stroke-opacity:1; fill:none\" points=\"\n",
       "  402.611,360.065 402.611,355.137 \n",
       "  \"/>\n",
       "<polyline clip-path=\"url(#clip6400)\" style=\"stroke:#000000; stroke-width:1; stroke-opacity:1; fill:none\" points=\"\n",
       "  484.126,360.065 484.126,355.137 \n",
       "  \"/>\n",
       "<polyline clip-path=\"url(#clip6400)\" style=\"stroke:#000000; stroke-width:1; stroke-opacity:1; fill:none\" points=\"\n",
       "  565.642,360.065 565.642,355.137 \n",
       "  \"/>\n",
       "<polyline clip-path=\"url(#clip6400)\" style=\"stroke:#000000; stroke-width:1; stroke-opacity:1; fill:none\" points=\"\n",
       "  61.8754,360.065 69.652,360.065 \n",
       "  \"/>\n",
       "<polyline clip-path=\"url(#clip6400)\" style=\"stroke:#000000; stroke-width:1; stroke-opacity:1; fill:none\" points=\"\n",
       "  61.8754,281.421 69.652,281.421 \n",
       "  \"/>\n",
       "<polyline clip-path=\"url(#clip6400)\" style=\"stroke:#000000; stroke-width:1; stroke-opacity:1; fill:none\" points=\"\n",
       "  61.8754,202.777 69.652,202.777 \n",
       "  \"/>\n",
       "<polyline clip-path=\"url(#clip6400)\" style=\"stroke:#000000; stroke-width:1; stroke-opacity:1; fill:none\" points=\"\n",
       "  61.8754,124.133 69.652,124.133 \n",
       "  \"/>\n",
       "<polyline clip-path=\"url(#clip6400)\" style=\"stroke:#000000; stroke-width:1; stroke-opacity:1; fill:none\" points=\"\n",
       "  61.8754,45.4882 69.652,45.4882 \n",
       "  \"/>\n",
       "<g clip-path=\"url(#clip6400)\">\n",
       "<text style=\"fill:#000000; fill-opacity:1; font-family:Arial,Helvetica Neue,Helvetica,sans-serif; font-size:12; text-anchor:middle;\" transform=\"rotate(0, 76.5483, 373.865)\" x=\"76.5483\" y=\"373.865\">0</text>\n",
       "</g>\n",
       "<g clip-path=\"url(#clip6400)\">\n",
       "<text style=\"fill:#000000; fill-opacity:1; font-family:Arial,Helvetica Neue,Helvetica,sans-serif; font-size:12; text-anchor:middle;\" transform=\"rotate(0, 158.064, 373.865)\" x=\"158.064\" y=\"373.865\">10</text>\n",
       "</g>\n",
       "<g clip-path=\"url(#clip6400)\">\n",
       "<text style=\"fill:#000000; fill-opacity:1; font-family:Arial,Helvetica Neue,Helvetica,sans-serif; font-size:12; text-anchor:middle;\" transform=\"rotate(0, 239.58, 373.865)\" x=\"239.58\" y=\"373.865\">20</text>\n",
       "</g>\n",
       "<g clip-path=\"url(#clip6400)\">\n",
       "<text style=\"fill:#000000; fill-opacity:1; font-family:Arial,Helvetica Neue,Helvetica,sans-serif; font-size:12; text-anchor:middle;\" transform=\"rotate(0, 321.095, 373.865)\" x=\"321.095\" y=\"373.865\">30</text>\n",
       "</g>\n",
       "<g clip-path=\"url(#clip6400)\">\n",
       "<text style=\"fill:#000000; fill-opacity:1; font-family:Arial,Helvetica Neue,Helvetica,sans-serif; font-size:12; text-anchor:middle;\" transform=\"rotate(0, 402.611, 373.865)\" x=\"402.611\" y=\"373.865\">40</text>\n",
       "</g>\n",
       "<g clip-path=\"url(#clip6400)\">\n",
       "<text style=\"fill:#000000; fill-opacity:1; font-family:Arial,Helvetica Neue,Helvetica,sans-serif; font-size:12; text-anchor:middle;\" transform=\"rotate(0, 484.126, 373.865)\" x=\"484.126\" y=\"373.865\">50</text>\n",
       "</g>\n",
       "<g clip-path=\"url(#clip6400)\">\n",
       "<text style=\"fill:#000000; fill-opacity:1; font-family:Arial,Helvetica Neue,Helvetica,sans-serif; font-size:12; text-anchor:middle;\" transform=\"rotate(0, 565.642, 373.865)\" x=\"565.642\" y=\"373.865\">60</text>\n",
       "</g>\n",
       "<g clip-path=\"url(#clip6400)\">\n",
       "<text style=\"fill:#000000; fill-opacity:1; font-family:Arial,Helvetica Neue,Helvetica,sans-serif; font-size:12; text-anchor:end;\" transform=\"rotate(0, 55.8754, 364.565)\" x=\"55.8754\" y=\"364.565\">0</text>\n",
       "</g>\n",
       "<g clip-path=\"url(#clip6400)\">\n",
       "<text style=\"fill:#000000; fill-opacity:1; font-family:Arial,Helvetica Neue,Helvetica,sans-serif; font-size:12; text-anchor:end;\" transform=\"rotate(0, 55.8754, 285.921)\" x=\"55.8754\" y=\"285.921\">2000000</text>\n",
       "</g>\n",
       "<g clip-path=\"url(#clip6400)\">\n",
       "<text style=\"fill:#000000; fill-opacity:1; font-family:Arial,Helvetica Neue,Helvetica,sans-serif; font-size:12; text-anchor:end;\" transform=\"rotate(0, 55.8754, 207.277)\" x=\"55.8754\" y=\"207.277\">4000000</text>\n",
       "</g>\n",
       "<g clip-path=\"url(#clip6400)\">\n",
       "<text style=\"fill:#000000; fill-opacity:1; font-family:Arial,Helvetica Neue,Helvetica,sans-serif; font-size:12; text-anchor:end;\" transform=\"rotate(0, 55.8754, 128.633)\" x=\"55.8754\" y=\"128.633\">6000000</text>\n",
       "</g>\n",
       "<g clip-path=\"url(#clip6400)\">\n",
       "<text style=\"fill:#000000; fill-opacity:1; font-family:Arial,Helvetica Neue,Helvetica,sans-serif; font-size:12; text-anchor:end;\" transform=\"rotate(0, 55.8754, 49.9882)\" x=\"55.8754\" y=\"49.9882\">8000000</text>\n",
       "</g>\n",
       "<g clip-path=\"url(#clip6400)\">\n",
       "<text style=\"fill:#000000; fill-opacity:1; font-family:Arial,Helvetica Neue,Helvetica,sans-serif; font-size:21; text-anchor:middle;\" transform=\"rotate(0, 321.095, 18)\" x=\"321.095\" y=\"18\">Fare and Tips</text>\n",
       "</g>\n",
       "<g clip-path=\"url(#clip6400)\">\n",
       "<text style=\"fill:#000000; fill-opacity:1; font-family:Arial,Helvetica Neue,Helvetica,sans-serif; font-size:16; text-anchor:middle;\" transform=\"rotate(0, 321.095, 397.6)\" x=\"321.095\" y=\"397.6\">Amount</text>\n",
       "</g>\n",
       "<polygon clip-path=\"url(#clip6402)\" points=\"\n",
       "76.5483,359.681 76.5483,360.065 80.624,360.065 80.624,359.681 76.5483,359.681 76.5483,359.681 \n",
       "  \" fill=\"#009af9\" fill-opacity=\"1\"/>\n",
       "<polyline clip-path=\"url(#clip6402)\" style=\"stroke:#000000; stroke-width:1; stroke-opacity:1; fill:none\" points=\"\n",
       "  76.5483,359.681 76.5483,360.065 80.624,360.065 80.624,359.681 76.5483,359.681 \n",
       "  \"/>\n",
       "<polygon clip-path=\"url(#clip6402)\" points=\"\n",
       "80.624,360.063 80.624,360.065 84.6998,360.065 84.6998,360.063 80.624,360.063 80.624,360.063 \n",
       "  \" fill=\"#009af9\" fill-opacity=\"1\"/>\n",
       "<polyline clip-path=\"url(#clip6402)\" style=\"stroke:#000000; stroke-width:1; stroke-opacity:1; fill:none\" points=\"\n",
       "  80.624,360.063 80.624,360.065 84.6998,360.065 84.6998,360.063 80.624,360.063 \n",
       "  \"/>\n",
       "<polygon clip-path=\"url(#clip6402)\" points=\"\n",
       "84.6998,360.05 84.6998,360.065 88.7756,360.065 88.7756,360.05 84.6998,360.05 84.6998,360.05 \n",
       "  \" fill=\"#009af9\" fill-opacity=\"1\"/>\n",
       "<polyline clip-path=\"url(#clip6402)\" style=\"stroke:#000000; stroke-width:1; stroke-opacity:1; fill:none\" points=\"\n",
       "  84.6998,360.05 84.6998,360.065 88.7756,360.065 88.7756,360.05 84.6998,360.05 \n",
       "  \"/>\n",
       "<polygon clip-path=\"url(#clip6402)\" points=\"\n",
       "88.7756,360.032 88.7756,360.065 92.8514,360.065 92.8514,360.032 88.7756,360.032 88.7756,360.032 \n",
       "  \" fill=\"#009af9\" fill-opacity=\"1\"/>\n",
       "<polyline clip-path=\"url(#clip6402)\" style=\"stroke:#000000; stroke-width:1; stroke-opacity:1; fill:none\" points=\"\n",
       "  88.7756,360.032 88.7756,360.065 92.8514,360.065 92.8514,360.032 88.7756,360.032 \n",
       "  \"/>\n",
       "<polygon clip-path=\"url(#clip6402)\" points=\"\n",
       "92.8514,360.059 92.8514,360.065 96.9272,360.065 96.9272,360.059 92.8514,360.059 92.8514,360.059 \n",
       "  \" fill=\"#009af9\" fill-opacity=\"1\"/>\n",
       "<polyline clip-path=\"url(#clip6402)\" style=\"stroke:#000000; stroke-width:1; stroke-opacity:1; fill:none\" points=\"\n",
       "  92.8514,360.059 92.8514,360.065 96.9272,360.065 96.9272,360.059 92.8514,360.059 \n",
       "  \"/>\n",
       "<polygon clip-path=\"url(#clip6402)\" points=\"\n",
       "96.9272,356.594 96.9272,360.065 101.003,360.065 101.003,356.594 96.9272,356.594 96.9272,356.594 \n",
       "  \" fill=\"#009af9\" fill-opacity=\"1\"/>\n",
       "<polyline clip-path=\"url(#clip6402)\" style=\"stroke:#000000; stroke-width:1; stroke-opacity:1; fill:none\" points=\"\n",
       "  96.9272,356.594 96.9272,360.065 101.003,360.065 101.003,356.594 96.9272,356.594 \n",
       "  \"/>\n",
       "<polygon clip-path=\"url(#clip6402)\" points=\"\n",
       "101.003,356.026 101.003,360.065 105.079,360.065 105.079,356.026 101.003,356.026 101.003,356.026 \n",
       "  \" fill=\"#009af9\" fill-opacity=\"1\"/>\n",
       "<polyline clip-path=\"url(#clip6402)\" style=\"stroke:#000000; stroke-width:1; stroke-opacity:1; fill:none\" points=\"\n",
       "  101.003,356.026 101.003,360.065 105.079,360.065 105.079,356.026 101.003,356.026 \n",
       "  \"/>\n",
       "<polygon clip-path=\"url(#clip6402)\" points=\"\n",
       "105.079,347.961 105.079,360.065 109.155,360.065 109.155,347.961 105.079,347.961 105.079,347.961 \n",
       "  \" fill=\"#009af9\" fill-opacity=\"1\"/>\n",
       "<polyline clip-path=\"url(#clip6402)\" style=\"stroke:#000000; stroke-width:1; stroke-opacity:1; fill:none\" points=\"\n",
       "  105.079,347.961 105.079,360.065 109.155,360.065 109.155,347.961 105.079,347.961 \n",
       "  \"/>\n",
       "<polygon clip-path=\"url(#clip6402)\" points=\"\n",
       "109.155,336.663 109.155,360.065 113.23,360.065 113.23,336.663 109.155,336.663 109.155,336.663 \n",
       "  \" fill=\"#009af9\" fill-opacity=\"1\"/>\n",
       "<polyline clip-path=\"url(#clip6402)\" style=\"stroke:#000000; stroke-width:1; stroke-opacity:1; fill:none\" points=\"\n",
       "  109.155,336.663 109.155,360.065 113.23,360.065 113.23,336.663 109.155,336.663 \n",
       "  \"/>\n",
       "<polygon clip-path=\"url(#clip6402)\" points=\"\n",
       "113.23,326.61 113.23,360.065 117.306,360.065 117.306,326.61 113.23,326.61 113.23,326.61 \n",
       "  \" fill=\"#009af9\" fill-opacity=\"1\"/>\n",
       "<polyline clip-path=\"url(#clip6402)\" style=\"stroke:#000000; stroke-width:1; stroke-opacity:1; fill:none\" points=\"\n",
       "  113.23,326.61 113.23,360.065 117.306,360.065 117.306,326.61 113.23,326.61 \n",
       "  \"/>\n",
       "<polygon clip-path=\"url(#clip6402)\" points=\"\n",
       "117.306,319.455 117.306,360.065 121.382,360.065 121.382,319.455 117.306,319.455 117.306,319.455 \n",
       "  \" fill=\"#009af9\" fill-opacity=\"1\"/>\n",
       "<polyline clip-path=\"url(#clip6402)\" style=\"stroke:#000000; stroke-width:1; stroke-opacity:1; fill:none\" points=\"\n",
       "  117.306,319.455 117.306,360.065 121.382,360.065 121.382,319.455 117.306,319.455 \n",
       "  \"/>\n",
       "<polygon clip-path=\"url(#clip6402)\" points=\"\n",
       "121.382,315.889 121.382,360.065 125.458,360.065 125.458,315.889 121.382,315.889 121.382,315.889 \n",
       "  \" fill=\"#009af9\" fill-opacity=\"1\"/>\n",
       "<polyline clip-path=\"url(#clip6402)\" style=\"stroke:#000000; stroke-width:1; stroke-opacity:1; fill:none\" points=\"\n",
       "  121.382,315.889 121.382,360.065 125.458,360.065 125.458,315.889 121.382,315.889 \n",
       "  \"/>\n",
       "<polygon clip-path=\"url(#clip6402)\" points=\"\n",
       "125.458,314.537 125.458,360.065 129.533,360.065 129.533,314.537 125.458,314.537 125.458,314.537 \n",
       "  \" fill=\"#009af9\" fill-opacity=\"1\"/>\n",
       "<polyline clip-path=\"url(#clip6402)\" style=\"stroke:#000000; stroke-width:1; stroke-opacity:1; fill:none\" points=\"\n",
       "  125.458,314.537 125.458,360.065 129.533,360.065 129.533,314.537 125.458,314.537 \n",
       "  \"/>\n",
       "<polygon clip-path=\"url(#clip6402)\" points=\"\n",
       "129.533,314.875 129.533,360.065 133.609,360.065 133.609,314.875 129.533,314.875 129.533,314.875 \n",
       "  \" fill=\"#009af9\" fill-opacity=\"1\"/>\n",
       "<polyline clip-path=\"url(#clip6402)\" style=\"stroke:#000000; stroke-width:1; stroke-opacity:1; fill:none\" points=\"\n",
       "  129.533,314.875 129.533,360.065 133.609,360.065 133.609,314.875 129.533,314.875 \n",
       "  \"/>\n",
       "<polygon clip-path=\"url(#clip6402)\" points=\"\n",
       "133.609,315.941 133.609,360.065 137.685,360.065 137.685,315.941 133.609,315.941 133.609,315.941 \n",
       "  \" fill=\"#009af9\" fill-opacity=\"1\"/>\n",
       "<polyline clip-path=\"url(#clip6402)\" style=\"stroke:#000000; stroke-width:1; stroke-opacity:1; fill:none\" points=\"\n",
       "  133.609,315.941 133.609,360.065 137.685,360.065 137.685,315.941 133.609,315.941 \n",
       "  \"/>\n",
       "<polygon clip-path=\"url(#clip6402)\" points=\"\n",
       "137.685,317.645 137.685,360.065 141.761,360.065 141.761,317.645 137.685,317.645 137.685,317.645 \n",
       "  \" fill=\"#009af9\" fill-opacity=\"1\"/>\n",
       "<polyline clip-path=\"url(#clip6402)\" style=\"stroke:#000000; stroke-width:1; stroke-opacity:1; fill:none\" points=\"\n",
       "  137.685,317.645 137.685,360.065 141.761,360.065 141.761,317.645 137.685,317.645 \n",
       "  \"/>\n",
       "<polygon clip-path=\"url(#clip6402)\" points=\"\n",
       "141.761,319.614 141.761,360.065 145.837,360.065 145.837,319.614 141.761,319.614 141.761,319.614 \n",
       "  \" fill=\"#009af9\" fill-opacity=\"1\"/>\n",
       "<polyline clip-path=\"url(#clip6402)\" style=\"stroke:#000000; stroke-width:1; stroke-opacity:1; fill:none\" points=\"\n",
       "  141.761,319.614 141.761,360.065 145.837,360.065 145.837,319.614 141.761,319.614 \n",
       "  \"/>\n",
       "<polygon clip-path=\"url(#clip6402)\" points=\"\n",
       "145.837,322.042 145.837,360.065 149.912,360.065 149.912,322.042 145.837,322.042 145.837,322.042 \n",
       "  \" fill=\"#009af9\" fill-opacity=\"1\"/>\n",
       "<polyline clip-path=\"url(#clip6402)\" style=\"stroke:#000000; stroke-width:1; stroke-opacity:1; fill:none\" points=\"\n",
       "  145.837,322.042 145.837,360.065 149.912,360.065 149.912,322.042 145.837,322.042 \n",
       "  \"/>\n",
       "<polygon clip-path=\"url(#clip6402)\" points=\"\n",
       "149.912,324.487 149.912,360.065 153.988,360.065 153.988,324.487 149.912,324.487 149.912,324.487 \n",
       "  \" fill=\"#009af9\" fill-opacity=\"1\"/>\n",
       "<polyline clip-path=\"url(#clip6402)\" style=\"stroke:#000000; stroke-width:1; stroke-opacity:1; fill:none\" points=\"\n",
       "  149.912,324.487 149.912,360.065 153.988,360.065 153.988,324.487 149.912,324.487 \n",
       "  \"/>\n",
       "<polygon clip-path=\"url(#clip6402)\" points=\"\n",
       "153.988,327.116 153.988,360.065 158.064,360.065 158.064,327.116 153.988,327.116 153.988,327.116 \n",
       "  \" fill=\"#009af9\" fill-opacity=\"1\"/>\n",
       "<polyline clip-path=\"url(#clip6402)\" style=\"stroke:#000000; stroke-width:1; stroke-opacity:1; fill:none\" points=\"\n",
       "  153.988,327.116 153.988,360.065 158.064,360.065 158.064,327.116 153.988,327.116 \n",
       "  \"/>\n",
       "<polygon clip-path=\"url(#clip6402)\" points=\"\n",
       "158.064,329.531 158.064,360.065 162.14,360.065 162.14,329.531 158.064,329.531 158.064,329.531 \n",
       "  \" fill=\"#009af9\" fill-opacity=\"1\"/>\n",
       "<polyline clip-path=\"url(#clip6402)\" style=\"stroke:#000000; stroke-width:1; stroke-opacity:1; fill:none\" points=\"\n",
       "  158.064,329.531 158.064,360.065 162.14,360.065 162.14,329.531 158.064,329.531 \n",
       "  \"/>\n",
       "<polygon clip-path=\"url(#clip6402)\" points=\"\n",
       "162.14,332.236 162.14,360.065 166.215,360.065 166.215,332.236 162.14,332.236 162.14,332.236 \n",
       "  \" fill=\"#009af9\" fill-opacity=\"1\"/>\n",
       "<polyline clip-path=\"url(#clip6402)\" style=\"stroke:#000000; stroke-width:1; stroke-opacity:1; fill:none\" points=\"\n",
       "  162.14,332.236 162.14,360.065 166.215,360.065 166.215,332.236 162.14,332.236 \n",
       "  \"/>\n",
       "<polygon clip-path=\"url(#clip6402)\" points=\"\n",
       "166.215,334.631 166.215,360.065 170.291,360.065 170.291,334.631 166.215,334.631 166.215,334.631 \n",
       "  \" fill=\"#009af9\" fill-opacity=\"1\"/>\n",
       "<polyline clip-path=\"url(#clip6402)\" style=\"stroke:#000000; stroke-width:1; stroke-opacity:1; fill:none\" points=\"\n",
       "  166.215,334.631 166.215,360.065 170.291,360.065 170.291,334.631 166.215,334.631 \n",
       "  \"/>\n",
       "<polygon clip-path=\"url(#clip6402)\" points=\"\n",
       "170.291,336.933 170.291,360.065 174.367,360.065 174.367,336.933 170.291,336.933 170.291,336.933 \n",
       "  \" fill=\"#009af9\" fill-opacity=\"1\"/>\n",
       "<polyline clip-path=\"url(#clip6402)\" style=\"stroke:#000000; stroke-width:1; stroke-opacity:1; fill:none\" points=\"\n",
       "  170.291,336.933 170.291,360.065 174.367,360.065 174.367,336.933 170.291,336.933 \n",
       "  \"/>\n",
       "<polygon clip-path=\"url(#clip6402)\" points=\"\n",
       "174.367,338.829 174.367,360.065 178.443,360.065 178.443,338.829 174.367,338.829 174.367,338.829 \n",
       "  \" fill=\"#009af9\" fill-opacity=\"1\"/>\n",
       "<polyline clip-path=\"url(#clip6402)\" style=\"stroke:#000000; stroke-width:1; stroke-opacity:1; fill:none\" points=\"\n",
       "  174.367,338.829 174.367,360.065 178.443,360.065 178.443,338.829 174.367,338.829 \n",
       "  \"/>\n",
       "<polygon clip-path=\"url(#clip6402)\" points=\"\n",
       "178.443,340.808 178.443,360.065 182.519,360.065 182.519,340.808 178.443,340.808 178.443,340.808 \n",
       "  \" fill=\"#009af9\" fill-opacity=\"1\"/>\n",
       "<polyline clip-path=\"url(#clip6402)\" style=\"stroke:#000000; stroke-width:1; stroke-opacity:1; fill:none\" points=\"\n",
       "  178.443,340.808 178.443,360.065 182.519,360.065 182.519,340.808 178.443,340.808 \n",
       "  \"/>\n",
       "<polygon clip-path=\"url(#clip6402)\" points=\"\n",
       "182.519,342.449 182.519,360.065 186.594,360.065 186.594,342.449 182.519,342.449 182.519,342.449 \n",
       "  \" fill=\"#009af9\" fill-opacity=\"1\"/>\n",
       "<polyline clip-path=\"url(#clip6402)\" style=\"stroke:#000000; stroke-width:1; stroke-opacity:1; fill:none\" points=\"\n",
       "  182.519,342.449 182.519,360.065 186.594,360.065 186.594,342.449 182.519,342.449 \n",
       "  \"/>\n",
       "<polygon clip-path=\"url(#clip6402)\" points=\"\n",
       "186.594,344.033 186.594,360.065 190.67,360.065 190.67,344.033 186.594,344.033 186.594,344.033 \n",
       "  \" fill=\"#009af9\" fill-opacity=\"1\"/>\n",
       "<polyline clip-path=\"url(#clip6402)\" style=\"stroke:#000000; stroke-width:1; stroke-opacity:1; fill:none\" points=\"\n",
       "  186.594,344.033 186.594,360.065 190.67,360.065 190.67,344.033 186.594,344.033 \n",
       "  \"/>\n",
       "<polygon clip-path=\"url(#clip6402)\" points=\"\n",
       "190.67,345.309 190.67,360.065 194.746,360.065 194.746,345.309 190.67,345.309 190.67,345.309 \n",
       "  \" fill=\"#009af9\" fill-opacity=\"1\"/>\n",
       "<polyline clip-path=\"url(#clip6402)\" style=\"stroke:#000000; stroke-width:1; stroke-opacity:1; fill:none\" points=\"\n",
       "  190.67,345.309 190.67,360.065 194.746,360.065 194.746,345.309 190.67,345.309 \n",
       "  \"/>\n",
       "<polygon clip-path=\"url(#clip6402)\" points=\"\n",
       "194.746,346.658 194.746,360.065 198.822,360.065 198.822,346.658 194.746,346.658 194.746,346.658 \n",
       "  \" fill=\"#009af9\" fill-opacity=\"1\"/>\n",
       "<polyline clip-path=\"url(#clip6402)\" style=\"stroke:#000000; stroke-width:1; stroke-opacity:1; fill:none\" points=\"\n",
       "  194.746,346.658 194.746,360.065 198.822,360.065 198.822,346.658 194.746,346.658 \n",
       "  \"/>\n",
       "<polygon clip-path=\"url(#clip6402)\" points=\"\n",
       "198.822,347.727 198.822,360.065 202.898,360.065 202.898,347.727 198.822,347.727 198.822,347.727 \n",
       "  \" fill=\"#009af9\" fill-opacity=\"1\"/>\n",
       "<polyline clip-path=\"url(#clip6402)\" style=\"stroke:#000000; stroke-width:1; stroke-opacity:1; fill:none\" points=\"\n",
       "  198.822,347.727 198.822,360.065 202.898,360.065 202.898,347.727 198.822,347.727 \n",
       "  \"/>\n",
       "<polygon clip-path=\"url(#clip6402)\" points=\"\n",
       "202.898,348.786 202.898,360.065 206.973,360.065 206.973,348.786 202.898,348.786 202.898,348.786 \n",
       "  \" fill=\"#009af9\" fill-opacity=\"1\"/>\n",
       "<polyline clip-path=\"url(#clip6402)\" style=\"stroke:#000000; stroke-width:1; stroke-opacity:1; fill:none\" points=\"\n",
       "  202.898,348.786 202.898,360.065 206.973,360.065 206.973,348.786 202.898,348.786 \n",
       "  \"/>\n",
       "<polygon clip-path=\"url(#clip6402)\" points=\"\n",
       "206.973,349.606 206.973,360.065 211.049,360.065 211.049,349.606 206.973,349.606 206.973,349.606 \n",
       "  \" fill=\"#009af9\" fill-opacity=\"1\"/>\n",
       "<polyline clip-path=\"url(#clip6402)\" style=\"stroke:#000000; stroke-width:1; stroke-opacity:1; fill:none\" points=\"\n",
       "  206.973,349.606 206.973,360.065 211.049,360.065 211.049,349.606 206.973,349.606 \n",
       "  \"/>\n",
       "<polygon clip-path=\"url(#clip6402)\" points=\"\n",
       "211.049,350.418 211.049,360.065 215.125,360.065 215.125,350.418 211.049,350.418 211.049,350.418 \n",
       "  \" fill=\"#009af9\" fill-opacity=\"1\"/>\n",
       "<polyline clip-path=\"url(#clip6402)\" style=\"stroke:#000000; stroke-width:1; stroke-opacity:1; fill:none\" points=\"\n",
       "  211.049,350.418 211.049,360.065 215.125,360.065 215.125,350.418 211.049,350.418 \n",
       "  \"/>\n",
       "<polygon clip-path=\"url(#clip6402)\" points=\"\n",
       "215.125,351.152 215.125,360.065 219.201,360.065 219.201,351.152 215.125,351.152 215.125,351.152 \n",
       "  \" fill=\"#009af9\" fill-opacity=\"1\"/>\n",
       "<polyline clip-path=\"url(#clip6402)\" style=\"stroke:#000000; stroke-width:1; stroke-opacity:1; fill:none\" points=\"\n",
       "  215.125,351.152 215.125,360.065 219.201,360.065 219.201,351.152 215.125,351.152 \n",
       "  \"/>\n",
       "<polygon clip-path=\"url(#clip6402)\" points=\"\n",
       "219.201,351.845 219.201,360.065 223.276,360.065 223.276,351.845 219.201,351.845 219.201,351.845 \n",
       "  \" fill=\"#009af9\" fill-opacity=\"1\"/>\n",
       "<polyline clip-path=\"url(#clip6402)\" style=\"stroke:#000000; stroke-width:1; stroke-opacity:1; fill:none\" points=\"\n",
       "  219.201,351.845 219.201,360.065 223.276,360.065 223.276,351.845 219.201,351.845 \n",
       "  \"/>\n",
       "<polygon clip-path=\"url(#clip6402)\" points=\"\n",
       "223.276,352.439 223.276,360.065 227.352,360.065 227.352,352.439 223.276,352.439 223.276,352.439 \n",
       "  \" fill=\"#009af9\" fill-opacity=\"1\"/>\n",
       "<polyline clip-path=\"url(#clip6402)\" style=\"stroke:#000000; stroke-width:1; stroke-opacity:1; fill:none\" points=\"\n",
       "  223.276,352.439 223.276,360.065 227.352,360.065 227.352,352.439 223.276,352.439 \n",
       "  \"/>\n",
       "<polygon clip-path=\"url(#clip6402)\" points=\"\n",
       "227.352,353.021 227.352,360.065 231.428,360.065 231.428,353.021 227.352,353.021 227.352,353.021 \n",
       "  \" fill=\"#009af9\" fill-opacity=\"1\"/>\n",
       "<polyline clip-path=\"url(#clip6402)\" style=\"stroke:#000000; stroke-width:1; stroke-opacity:1; fill:none\" points=\"\n",
       "  227.352,353.021 227.352,360.065 231.428,360.065 231.428,353.021 227.352,353.021 \n",
       "  \"/>\n",
       "<polygon clip-path=\"url(#clip6402)\" points=\"\n",
       "231.428,353.468 231.428,360.065 235.504,360.065 235.504,353.468 231.428,353.468 231.428,353.468 \n",
       "  \" fill=\"#009af9\" fill-opacity=\"1\"/>\n",
       "<polyline clip-path=\"url(#clip6402)\" style=\"stroke:#000000; stroke-width:1; stroke-opacity:1; fill:none\" points=\"\n",
       "  231.428,353.468 231.428,360.065 235.504,360.065 235.504,353.468 231.428,353.468 \n",
       "  \"/>\n",
       "<polygon clip-path=\"url(#clip6402)\" points=\"\n",
       "235.504,353.992 235.504,360.065 239.58,360.065 239.58,353.992 235.504,353.992 235.504,353.992 \n",
       "  \" fill=\"#009af9\" fill-opacity=\"1\"/>\n",
       "<polyline clip-path=\"url(#clip6402)\" style=\"stroke:#000000; stroke-width:1; stroke-opacity:1; fill:none\" points=\"\n",
       "  235.504,353.992 235.504,360.065 239.58,360.065 239.58,353.992 235.504,353.992 \n",
       "  \"/>\n",
       "<polygon clip-path=\"url(#clip6402)\" points=\"\n",
       "239.58,354.223 239.58,360.065 243.655,360.065 243.655,354.223 239.58,354.223 239.58,354.223 \n",
       "  \" fill=\"#009af9\" fill-opacity=\"1\"/>\n",
       "<polyline clip-path=\"url(#clip6402)\" style=\"stroke:#000000; stroke-width:1; stroke-opacity:1; fill:none\" points=\"\n",
       "  239.58,354.223 239.58,360.065 243.655,360.065 243.655,354.223 239.58,354.223 \n",
       "  \"/>\n",
       "<polygon clip-path=\"url(#clip6402)\" points=\"\n",
       "243.655,354.801 243.655,360.065 247.731,360.065 247.731,354.801 243.655,354.801 243.655,354.801 \n",
       "  \" fill=\"#009af9\" fill-opacity=\"1\"/>\n",
       "<polyline clip-path=\"url(#clip6402)\" style=\"stroke:#000000; stroke-width:1; stroke-opacity:1; fill:none\" points=\"\n",
       "  243.655,354.801 243.655,360.065 247.731,360.065 247.731,354.801 243.655,354.801 \n",
       "  \"/>\n",
       "<polygon clip-path=\"url(#clip6402)\" points=\"\n",
       "247.731,355.11 247.731,360.065 251.807,360.065 251.807,355.11 247.731,355.11 247.731,355.11 \n",
       "  \" fill=\"#009af9\" fill-opacity=\"1\"/>\n",
       "<polyline clip-path=\"url(#clip6402)\" style=\"stroke:#000000; stroke-width:1; stroke-opacity:1; fill:none\" points=\"\n",
       "  247.731,355.11 247.731,360.065 251.807,360.065 251.807,355.11 247.731,355.11 \n",
       "  \"/>\n",
       "<polygon clip-path=\"url(#clip6402)\" points=\"\n",
       "251.807,355.474 251.807,360.065 255.883,360.065 255.883,355.474 251.807,355.474 251.807,355.474 \n",
       "  \" fill=\"#009af9\" fill-opacity=\"1\"/>\n",
       "<polyline clip-path=\"url(#clip6402)\" style=\"stroke:#000000; stroke-width:1; stroke-opacity:1; fill:none\" points=\"\n",
       "  251.807,355.474 251.807,360.065 255.883,360.065 255.883,355.474 251.807,355.474 \n",
       "  \"/>\n",
       "<polygon clip-path=\"url(#clip6402)\" points=\"\n",
       "255.883,355.779 255.883,360.065 259.958,360.065 259.958,355.779 255.883,355.779 255.883,355.779 \n",
       "  \" fill=\"#009af9\" fill-opacity=\"1\"/>\n",
       "<polyline clip-path=\"url(#clip6402)\" style=\"stroke:#000000; stroke-width:1; stroke-opacity:1; fill:none\" points=\"\n",
       "  255.883,355.779 255.883,360.065 259.958,360.065 259.958,355.779 255.883,355.779 \n",
       "  \"/>\n",
       "<polygon clip-path=\"url(#clip6402)\" points=\"\n",
       "259.958,356.069 259.958,360.065 264.034,360.065 264.034,356.069 259.958,356.069 259.958,356.069 \n",
       "  \" fill=\"#009af9\" fill-opacity=\"1\"/>\n",
       "<polyline clip-path=\"url(#clip6402)\" style=\"stroke:#000000; stroke-width:1; stroke-opacity:1; fill:none\" points=\"\n",
       "  259.958,356.069 259.958,360.065 264.034,360.065 264.034,356.069 259.958,356.069 \n",
       "  \"/>\n",
       "<polygon clip-path=\"url(#clip6402)\" points=\"\n",
       "264.034,356.281 264.034,360.065 268.11,360.065 268.11,356.281 264.034,356.281 264.034,356.281 \n",
       "  \" fill=\"#009af9\" fill-opacity=\"1\"/>\n",
       "<polyline clip-path=\"url(#clip6402)\" style=\"stroke:#000000; stroke-width:1; stroke-opacity:1; fill:none\" points=\"\n",
       "  264.034,356.281 264.034,360.065 268.11,360.065 268.11,356.281 264.034,356.281 \n",
       "  \"/>\n",
       "<polygon clip-path=\"url(#clip6402)\" points=\"\n",
       "268.11,356.512 268.11,360.065 272.186,360.065 272.186,356.512 268.11,356.512 268.11,356.512 \n",
       "  \" fill=\"#009af9\" fill-opacity=\"1\"/>\n",
       "<polyline clip-path=\"url(#clip6402)\" style=\"stroke:#000000; stroke-width:1; stroke-opacity:1; fill:none\" points=\"\n",
       "  268.11,356.512 268.11,360.065 272.186,360.065 272.186,356.512 268.11,356.512 \n",
       "  \"/>\n",
       "<polygon clip-path=\"url(#clip6402)\" points=\"\n",
       "272.186,356.667 272.186,360.065 276.262,360.065 276.262,356.667 272.186,356.667 272.186,356.667 \n",
       "  \" fill=\"#009af9\" fill-opacity=\"1\"/>\n",
       "<polyline clip-path=\"url(#clip6402)\" style=\"stroke:#000000; stroke-width:1; stroke-opacity:1; fill:none\" points=\"\n",
       "  272.186,356.667 272.186,360.065 276.262,360.065 276.262,356.667 272.186,356.667 \n",
       "  \"/>\n",
       "<polygon clip-path=\"url(#clip6402)\" points=\"\n",
       "276.262,356.892 276.262,360.065 280.337,360.065 280.337,356.892 276.262,356.892 276.262,356.892 \n",
       "  \" fill=\"#009af9\" fill-opacity=\"1\"/>\n",
       "<polyline clip-path=\"url(#clip6402)\" style=\"stroke:#000000; stroke-width:1; stroke-opacity:1; fill:none\" points=\"\n",
       "  276.262,356.892 276.262,360.065 280.337,360.065 280.337,356.892 276.262,356.892 \n",
       "  \"/>\n",
       "<polygon clip-path=\"url(#clip6402)\" points=\"\n",
       "280.337,356.997 280.337,360.065 284.413,360.065 284.413,356.997 280.337,356.997 280.337,356.997 \n",
       "  \" fill=\"#009af9\" fill-opacity=\"1\"/>\n",
       "<polyline clip-path=\"url(#clip6402)\" style=\"stroke:#000000; stroke-width:1; stroke-opacity:1; fill:none\" points=\"\n",
       "  280.337,356.997 280.337,360.065 284.413,360.065 284.413,356.997 280.337,356.997 \n",
       "  \"/>\n",
       "<polygon clip-path=\"url(#clip6402)\" points=\"\n",
       "284.413,357.147 284.413,360.065 288.489,360.065 288.489,357.147 284.413,357.147 284.413,357.147 \n",
       "  \" fill=\"#009af9\" fill-opacity=\"1\"/>\n",
       "<polyline clip-path=\"url(#clip6402)\" style=\"stroke:#000000; stroke-width:1; stroke-opacity:1; fill:none\" points=\"\n",
       "  284.413,357.147 284.413,360.065 288.489,360.065 288.489,357.147 284.413,357.147 \n",
       "  \"/>\n",
       "<polygon clip-path=\"url(#clip6402)\" points=\"\n",
       "288.489,357.278 288.489,360.065 292.565,360.065 292.565,357.278 288.489,357.278 288.489,357.278 \n",
       "  \" fill=\"#009af9\" fill-opacity=\"1\"/>\n",
       "<polyline clip-path=\"url(#clip6402)\" style=\"stroke:#000000; stroke-width:1; stroke-opacity:1; fill:none\" points=\"\n",
       "  288.489,357.278 288.489,360.065 292.565,360.065 292.565,357.278 288.489,357.278 \n",
       "  \"/>\n",
       "<polygon clip-path=\"url(#clip6402)\" points=\"\n",
       "292.565,357.394 292.565,360.065 296.641,360.065 296.641,357.394 292.565,357.394 292.565,357.394 \n",
       "  \" fill=\"#009af9\" fill-opacity=\"1\"/>\n",
       "<polyline clip-path=\"url(#clip6402)\" style=\"stroke:#000000; stroke-width:1; stroke-opacity:1; fill:none\" points=\"\n",
       "  292.565,357.394 292.565,360.065 296.641,360.065 296.641,357.394 292.565,357.394 \n",
       "  \"/>\n",
       "<polygon clip-path=\"url(#clip6402)\" points=\"\n",
       "296.641,357.49 296.641,360.065 300.716,360.065 300.716,357.49 296.641,357.49 296.641,357.49 \n",
       "  \" fill=\"#009af9\" fill-opacity=\"1\"/>\n",
       "<polyline clip-path=\"url(#clip6402)\" style=\"stroke:#000000; stroke-width:1; stroke-opacity:1; fill:none\" points=\"\n",
       "  296.641,357.49 296.641,360.065 300.716,360.065 300.716,357.49 296.641,357.49 \n",
       "  \"/>\n",
       "<polygon clip-path=\"url(#clip6402)\" points=\"\n",
       "300.716,357.592 300.716,360.065 304.792,360.065 304.792,357.592 300.716,357.592 300.716,357.592 \n",
       "  \" fill=\"#009af9\" fill-opacity=\"1\"/>\n",
       "<polyline clip-path=\"url(#clip6402)\" style=\"stroke:#000000; stroke-width:1; stroke-opacity:1; fill:none\" points=\"\n",
       "  300.716,357.592 300.716,360.065 304.792,360.065 304.792,357.592 300.716,357.592 \n",
       "  \"/>\n",
       "<polygon clip-path=\"url(#clip6402)\" points=\"\n",
       "304.792,357.647 304.792,360.065 308.868,360.065 308.868,357.647 304.792,357.647 304.792,357.647 \n",
       "  \" fill=\"#009af9\" fill-opacity=\"1\"/>\n",
       "<polyline clip-path=\"url(#clip6402)\" style=\"stroke:#000000; stroke-width:1; stroke-opacity:1; fill:none\" points=\"\n",
       "  304.792,357.647 304.792,360.065 308.868,360.065 308.868,357.647 304.792,357.647 \n",
       "  \"/>\n",
       "<polygon clip-path=\"url(#clip6402)\" points=\"\n",
       "308.868,357.752 308.868,360.065 312.944,360.065 312.944,357.752 308.868,357.752 308.868,357.752 \n",
       "  \" fill=\"#009af9\" fill-opacity=\"1\"/>\n",
       "<polyline clip-path=\"url(#clip6402)\" style=\"stroke:#000000; stroke-width:1; stroke-opacity:1; fill:none\" points=\"\n",
       "  308.868,357.752 308.868,360.065 312.944,360.065 312.944,357.752 308.868,357.752 \n",
       "  \"/>\n",
       "<polygon clip-path=\"url(#clip6402)\" points=\"\n",
       "312.944,357.798 312.944,360.065 317.019,360.065 317.019,357.798 312.944,357.798 312.944,357.798 \n",
       "  \" fill=\"#009af9\" fill-opacity=\"1\"/>\n",
       "<polyline clip-path=\"url(#clip6402)\" style=\"stroke:#000000; stroke-width:1; stroke-opacity:1; fill:none\" points=\"\n",
       "  312.944,357.798 312.944,360.065 317.019,360.065 317.019,357.798 312.944,357.798 \n",
       "  \"/>\n",
       "<polygon clip-path=\"url(#clip6402)\" points=\"\n",
       "317.019,357.9 317.019,360.065 321.095,360.065 321.095,357.9 317.019,357.9 317.019,357.9 \n",
       "  \" fill=\"#009af9\" fill-opacity=\"1\"/>\n",
       "<polyline clip-path=\"url(#clip6402)\" style=\"stroke:#000000; stroke-width:1; stroke-opacity:1; fill:none\" points=\"\n",
       "  317.019,357.9 317.019,360.065 321.095,360.065 321.095,357.9 317.019,357.9 \n",
       "  \"/>\n",
       "<polygon clip-path=\"url(#clip6402)\" points=\"\n",
       "321.095,357.93 321.095,360.065 325.171,360.065 325.171,357.93 321.095,357.93 321.095,357.93 \n",
       "  \" fill=\"#009af9\" fill-opacity=\"1\"/>\n",
       "<polyline clip-path=\"url(#clip6402)\" style=\"stroke:#000000; stroke-width:1; stroke-opacity:1; fill:none\" points=\"\n",
       "  321.095,357.93 321.095,360.065 325.171,360.065 325.171,357.93 321.095,357.93 \n",
       "  \"/>\n",
       "<polygon clip-path=\"url(#clip6402)\" points=\"\n",
       "325.171,358.036 325.171,360.065 329.247,360.065 329.247,358.036 325.171,358.036 325.171,358.036 \n",
       "  \" fill=\"#009af9\" fill-opacity=\"1\"/>\n",
       "<polyline clip-path=\"url(#clip6402)\" style=\"stroke:#000000; stroke-width:1; stroke-opacity:1; fill:none\" points=\"\n",
       "  325.171,358.036 325.171,360.065 329.247,360.065 329.247,358.036 325.171,358.036 \n",
       "  \"/>\n",
       "<polygon clip-path=\"url(#clip6402)\" points=\"\n",
       "329.247,358.099 329.247,360.065 333.323,360.065 333.323,358.099 329.247,358.099 329.247,358.099 \n",
       "  \" fill=\"#009af9\" fill-opacity=\"1\"/>\n",
       "<polyline clip-path=\"url(#clip6402)\" style=\"stroke:#000000; stroke-width:1; stroke-opacity:1; fill:none\" points=\"\n",
       "  329.247,358.099 329.247,360.065 333.323,360.065 333.323,358.099 329.247,358.099 \n",
       "  \"/>\n",
       "<polygon clip-path=\"url(#clip6402)\" points=\"\n",
       "333.323,358.172 333.323,360.065 337.398,360.065 337.398,358.172 333.323,358.172 333.323,358.172 \n",
       "  \" fill=\"#009af9\" fill-opacity=\"1\"/>\n",
       "<polyline clip-path=\"url(#clip6402)\" style=\"stroke:#000000; stroke-width:1; stroke-opacity:1; fill:none\" points=\"\n",
       "  333.323,358.172 333.323,360.065 337.398,360.065 337.398,358.172 333.323,358.172 \n",
       "  \"/>\n",
       "<polygon clip-path=\"url(#clip6402)\" points=\"\n",
       "337.398,358.246 337.398,360.065 341.474,360.065 341.474,358.246 337.398,358.246 337.398,358.246 \n",
       "  \" fill=\"#009af9\" fill-opacity=\"1\"/>\n",
       "<polyline clip-path=\"url(#clip6402)\" style=\"stroke:#000000; stroke-width:1; stroke-opacity:1; fill:none\" points=\"\n",
       "  337.398,358.246 337.398,360.065 341.474,360.065 341.474,358.246 337.398,358.246 \n",
       "  \"/>\n",
       "<polygon clip-path=\"url(#clip6402)\" points=\"\n",
       "341.474,358.334 341.474,360.065 345.55,360.065 345.55,358.334 341.474,358.334 341.474,358.334 \n",
       "  \" fill=\"#009af9\" fill-opacity=\"1\"/>\n",
       "<polyline clip-path=\"url(#clip6402)\" style=\"stroke:#000000; stroke-width:1; stroke-opacity:1; fill:none\" points=\"\n",
       "  341.474,358.334 341.474,360.065 345.55,360.065 345.55,358.334 341.474,358.334 \n",
       "  \"/>\n",
       "<polygon clip-path=\"url(#clip6402)\" points=\"\n",
       "345.55,358.395 345.55,360.065 349.626,360.065 349.626,358.395 345.55,358.395 345.55,358.395 \n",
       "  \" fill=\"#009af9\" fill-opacity=\"1\"/>\n",
       "<polyline clip-path=\"url(#clip6402)\" style=\"stroke:#000000; stroke-width:1; stroke-opacity:1; fill:none\" points=\"\n",
       "  345.55,358.395 345.55,360.065 349.626,360.065 349.626,358.395 345.55,358.395 \n",
       "  \"/>\n",
       "<polygon clip-path=\"url(#clip6402)\" points=\"\n",
       "349.626,358.493 349.626,360.065 353.701,360.065 353.701,358.493 349.626,358.493 349.626,358.493 \n",
       "  \" fill=\"#009af9\" fill-opacity=\"1\"/>\n",
       "<polyline clip-path=\"url(#clip6402)\" style=\"stroke:#000000; stroke-width:1; stroke-opacity:1; fill:none\" points=\"\n",
       "  349.626,358.493 349.626,360.065 353.701,360.065 353.701,358.493 349.626,358.493 \n",
       "  \"/>\n",
       "<polygon clip-path=\"url(#clip6402)\" points=\"\n",
       "353.701,358.57 353.701,360.065 357.777,360.065 357.777,358.57 353.701,358.57 353.701,358.57 \n",
       "  \" fill=\"#009af9\" fill-opacity=\"1\"/>\n",
       "<polyline clip-path=\"url(#clip6402)\" style=\"stroke:#000000; stroke-width:1; stroke-opacity:1; fill:none\" points=\"\n",
       "  353.701,358.57 353.701,360.065 357.777,360.065 357.777,358.57 353.701,358.57 \n",
       "  \"/>\n",
       "<polygon clip-path=\"url(#clip6402)\" points=\"\n",
       "357.777,358.664 357.777,360.065 361.853,360.065 361.853,358.664 357.777,358.664 357.777,358.664 \n",
       "  \" fill=\"#009af9\" fill-opacity=\"1\"/>\n",
       "<polyline clip-path=\"url(#clip6402)\" style=\"stroke:#000000; stroke-width:1; stroke-opacity:1; fill:none\" points=\"\n",
       "  357.777,358.664 357.777,360.065 361.853,360.065 361.853,358.664 357.777,358.664 \n",
       "  \"/>\n",
       "<polygon clip-path=\"url(#clip6402)\" points=\"\n",
       "361.853,358.724 361.853,360.065 365.929,360.065 365.929,358.724 361.853,358.724 361.853,358.724 \n",
       "  \" fill=\"#009af9\" fill-opacity=\"1\"/>\n",
       "<polyline clip-path=\"url(#clip6402)\" style=\"stroke:#000000; stroke-width:1; stroke-opacity:1; fill:none\" points=\"\n",
       "  361.853,358.724 361.853,360.065 365.929,360.065 365.929,358.724 361.853,358.724 \n",
       "  \"/>\n",
       "<polygon clip-path=\"url(#clip6402)\" points=\"\n",
       "365.929,358.838 365.929,360.065 370.005,360.065 370.005,358.838 365.929,358.838 365.929,358.838 \n",
       "  \" fill=\"#009af9\" fill-opacity=\"1\"/>\n",
       "<polyline clip-path=\"url(#clip6402)\" style=\"stroke:#000000; stroke-width:1; stroke-opacity:1; fill:none\" points=\"\n",
       "  365.929,358.838 365.929,360.065 370.005,360.065 370.005,358.838 365.929,358.838 \n",
       "  \"/>\n",
       "<polygon clip-path=\"url(#clip6402)\" points=\"\n",
       "370.005,358.912 370.005,360.065 374.08,360.065 374.08,358.912 370.005,358.912 370.005,358.912 \n",
       "  \" fill=\"#009af9\" fill-opacity=\"1\"/>\n",
       "<polyline clip-path=\"url(#clip6402)\" style=\"stroke:#000000; stroke-width:1; stroke-opacity:1; fill:none\" points=\"\n",
       "  370.005,358.912 370.005,360.065 374.08,360.065 374.08,358.912 370.005,358.912 \n",
       "  \"/>\n",
       "<polygon clip-path=\"url(#clip6402)\" points=\"\n",
       "374.08,359.002 374.08,360.065 378.156,360.065 378.156,359.002 374.08,359.002 374.08,359.002 \n",
       "  \" fill=\"#009af9\" fill-opacity=\"1\"/>\n",
       "<polyline clip-path=\"url(#clip6402)\" style=\"stroke:#000000; stroke-width:1; stroke-opacity:1; fill:none\" points=\"\n",
       "  374.08,359.002 374.08,360.065 378.156,360.065 378.156,359.002 374.08,359.002 \n",
       "  \"/>\n",
       "<polygon clip-path=\"url(#clip6402)\" points=\"\n",
       "378.156,359.054 378.156,360.065 382.232,360.065 382.232,359.054 378.156,359.054 378.156,359.054 \n",
       "  \" fill=\"#009af9\" fill-opacity=\"1\"/>\n",
       "<polyline clip-path=\"url(#clip6402)\" style=\"stroke:#000000; stroke-width:1; stroke-opacity:1; fill:none\" points=\"\n",
       "  378.156,359.054 378.156,360.065 382.232,360.065 382.232,359.054 378.156,359.054 \n",
       "  \"/>\n",
       "<polygon clip-path=\"url(#clip6402)\" points=\"\n",
       "382.232,359.126 382.232,360.065 386.308,360.065 386.308,359.126 382.232,359.126 382.232,359.126 \n",
       "  \" fill=\"#009af9\" fill-opacity=\"1\"/>\n",
       "<polyline clip-path=\"url(#clip6402)\" style=\"stroke:#000000; stroke-width:1; stroke-opacity:1; fill:none\" points=\"\n",
       "  382.232,359.126 382.232,360.065 386.308,360.065 386.308,359.126 382.232,359.126 \n",
       "  \"/>\n",
       "<polygon clip-path=\"url(#clip6402)\" points=\"\n",
       "386.308,359.184 386.308,360.065 390.384,360.065 390.384,359.184 386.308,359.184 386.308,359.184 \n",
       "  \" fill=\"#009af9\" fill-opacity=\"1\"/>\n",
       "<polyline clip-path=\"url(#clip6402)\" style=\"stroke:#000000; stroke-width:1; stroke-opacity:1; fill:none\" points=\"\n",
       "  386.308,359.184 386.308,360.065 390.384,360.065 390.384,359.184 386.308,359.184 \n",
       "  \"/>\n",
       "<polygon clip-path=\"url(#clip6402)\" points=\"\n",
       "390.384,359.244 390.384,360.065 394.459,360.065 394.459,359.244 390.384,359.244 390.384,359.244 \n",
       "  \" fill=\"#009af9\" fill-opacity=\"1\"/>\n",
       "<polyline clip-path=\"url(#clip6402)\" style=\"stroke:#000000; stroke-width:1; stroke-opacity:1; fill:none\" points=\"\n",
       "  390.384,359.244 390.384,360.065 394.459,360.065 394.459,359.244 390.384,359.244 \n",
       "  \"/>\n",
       "<polygon clip-path=\"url(#clip6402)\" points=\"\n",
       "394.459,359.281 394.459,360.065 398.535,360.065 398.535,359.281 394.459,359.281 394.459,359.281 \n",
       "  \" fill=\"#009af9\" fill-opacity=\"1\"/>\n",
       "<polyline clip-path=\"url(#clip6402)\" style=\"stroke:#000000; stroke-width:1; stroke-opacity:1; fill:none\" points=\"\n",
       "  394.459,359.281 394.459,360.065 398.535,360.065 398.535,359.281 394.459,359.281 \n",
       "  \"/>\n",
       "<polygon clip-path=\"url(#clip6402)\" points=\"\n",
       "398.535,359.336 398.535,360.065 402.611,360.065 402.611,359.336 398.535,359.336 398.535,359.336 \n",
       "  \" fill=\"#009af9\" fill-opacity=\"1\"/>\n",
       "<polyline clip-path=\"url(#clip6402)\" style=\"stroke:#000000; stroke-width:1; stroke-opacity:1; fill:none\" points=\"\n",
       "  398.535,359.336 398.535,360.065 402.611,360.065 402.611,359.336 398.535,359.336 \n",
       "  \"/>\n",
       "<polygon clip-path=\"url(#clip6402)\" points=\"\n",
       "402.611,359.305 402.611,360.065 406.687,360.065 406.687,359.305 402.611,359.305 402.611,359.305 \n",
       "  \" fill=\"#009af9\" fill-opacity=\"1\"/>\n",
       "<polyline clip-path=\"url(#clip6402)\" style=\"stroke:#000000; stroke-width:1; stroke-opacity:1; fill:none\" points=\"\n",
       "  402.611,359.305 402.611,360.065 406.687,360.065 406.687,359.305 402.611,359.305 \n",
       "  \"/>\n",
       "<polygon clip-path=\"url(#clip6402)\" points=\"\n",
       "406.687,359.415 406.687,360.065 410.762,360.065 410.762,359.415 406.687,359.415 406.687,359.415 \n",
       "  \" fill=\"#009af9\" fill-opacity=\"1\"/>\n",
       "<polyline clip-path=\"url(#clip6402)\" style=\"stroke:#000000; stroke-width:1; stroke-opacity:1; fill:none\" points=\"\n",
       "  406.687,359.415 406.687,360.065 410.762,360.065 410.762,359.415 406.687,359.415 \n",
       "  \"/>\n",
       "<polygon clip-path=\"url(#clip6402)\" points=\"\n",
       "410.762,359.447 410.762,360.065 414.838,360.065 414.838,359.447 410.762,359.447 410.762,359.447 \n",
       "  \" fill=\"#009af9\" fill-opacity=\"1\"/>\n",
       "<polyline clip-path=\"url(#clip6402)\" style=\"stroke:#000000; stroke-width:1; stroke-opacity:1; fill:none\" points=\"\n",
       "  410.762,359.447 410.762,360.065 414.838,360.065 414.838,359.447 410.762,359.447 \n",
       "  \"/>\n",
       "<polygon clip-path=\"url(#clip6402)\" points=\"\n",
       "414.838,359.487 414.838,360.065 418.914,360.065 418.914,359.487 414.838,359.487 414.838,359.487 \n",
       "  \" fill=\"#009af9\" fill-opacity=\"1\"/>\n",
       "<polyline clip-path=\"url(#clip6402)\" style=\"stroke:#000000; stroke-width:1; stroke-opacity:1; fill:none\" points=\"\n",
       "  414.838,359.487 414.838,360.065 418.914,360.065 418.914,359.487 414.838,359.487 \n",
       "  \"/>\n",
       "<polygon clip-path=\"url(#clip6402)\" points=\"\n",
       "418.914,359.508 418.914,360.065 422.99,360.065 422.99,359.508 418.914,359.508 418.914,359.508 \n",
       "  \" fill=\"#009af9\" fill-opacity=\"1\"/>\n",
       "<polyline clip-path=\"url(#clip6402)\" style=\"stroke:#000000; stroke-width:1; stroke-opacity:1; fill:none\" points=\"\n",
       "  418.914,359.508 418.914,360.065 422.99,360.065 422.99,359.508 418.914,359.508 \n",
       "  \"/>\n",
       "<polygon clip-path=\"url(#clip6402)\" points=\"\n",
       "422.99,359.549 422.99,360.065 427.066,360.065 427.066,359.549 422.99,359.549 422.99,359.549 \n",
       "  \" fill=\"#009af9\" fill-opacity=\"1\"/>\n",
       "<polyline clip-path=\"url(#clip6402)\" style=\"stroke:#000000; stroke-width:1; stroke-opacity:1; fill:none\" points=\"\n",
       "  422.99,359.549 422.99,360.065 427.066,360.065 427.066,359.549 422.99,359.549 \n",
       "  \"/>\n",
       "<polygon clip-path=\"url(#clip6402)\" points=\"\n",
       "427.066,359.573 427.066,360.065 431.141,360.065 431.141,359.573 427.066,359.573 427.066,359.573 \n",
       "  \" fill=\"#009af9\" fill-opacity=\"1\"/>\n",
       "<polyline clip-path=\"url(#clip6402)\" style=\"stroke:#000000; stroke-width:1; stroke-opacity:1; fill:none\" points=\"\n",
       "  427.066,359.573 427.066,360.065 431.141,360.065 431.141,359.573 427.066,359.573 \n",
       "  \"/>\n",
       "<polygon clip-path=\"url(#clip6402)\" points=\"\n",
       "431.141,359.6 431.141,360.065 435.217,360.065 435.217,359.6 431.141,359.6 431.141,359.6 \n",
       "  \" fill=\"#009af9\" fill-opacity=\"1\"/>\n",
       "<polyline clip-path=\"url(#clip6402)\" style=\"stroke:#000000; stroke-width:1; stroke-opacity:1; fill:none\" points=\"\n",
       "  431.141,359.6 431.141,360.065 435.217,360.065 435.217,359.6 431.141,359.6 \n",
       "  \"/>\n",
       "<polygon clip-path=\"url(#clip6402)\" points=\"\n",
       "435.217,359.621 435.217,360.065 439.293,360.065 439.293,359.621 435.217,359.621 435.217,359.621 \n",
       "  \" fill=\"#009af9\" fill-opacity=\"1\"/>\n",
       "<polyline clip-path=\"url(#clip6402)\" style=\"stroke:#000000; stroke-width:1; stroke-opacity:1; fill:none\" points=\"\n",
       "  435.217,359.621 435.217,360.065 439.293,360.065 439.293,359.621 435.217,359.621 \n",
       "  \"/>\n",
       "<polygon clip-path=\"url(#clip6402)\" points=\"\n",
       "439.293,359.656 439.293,360.065 443.369,360.065 443.369,359.656 439.293,359.656 439.293,359.656 \n",
       "  \" fill=\"#009af9\" fill-opacity=\"1\"/>\n",
       "<polyline clip-path=\"url(#clip6402)\" style=\"stroke:#000000; stroke-width:1; stroke-opacity:1; fill:none\" points=\"\n",
       "  439.293,359.656 439.293,360.065 443.369,360.065 443.369,359.656 439.293,359.656 \n",
       "  \"/>\n",
       "<polygon clip-path=\"url(#clip6402)\" points=\"\n",
       "443.369,359.583 443.369,360.065 447.444,360.065 447.444,359.583 443.369,359.583 443.369,359.583 \n",
       "  \" fill=\"#009af9\" fill-opacity=\"1\"/>\n",
       "<polyline clip-path=\"url(#clip6402)\" style=\"stroke:#000000; stroke-width:1; stroke-opacity:1; fill:none\" points=\"\n",
       "  443.369,359.583 443.369,360.065 447.444,360.065 447.444,359.583 443.369,359.583 \n",
       "  \"/>\n",
       "<polygon clip-path=\"url(#clip6402)\" points=\"\n",
       "447.444,359.71 447.444,360.065 451.52,360.065 451.52,359.71 447.444,359.71 447.444,359.71 \n",
       "  \" fill=\"#009af9\" fill-opacity=\"1\"/>\n",
       "<polyline clip-path=\"url(#clip6402)\" style=\"stroke:#000000; stroke-width:1; stroke-opacity:1; fill:none\" points=\"\n",
       "  447.444,359.71 447.444,360.065 451.52,360.065 451.52,359.71 447.444,359.71 \n",
       "  \"/>\n",
       "<polygon clip-path=\"url(#clip6402)\" points=\"\n",
       "451.52,359.731 451.52,360.065 455.596,360.065 455.596,359.731 451.52,359.731 451.52,359.731 \n",
       "  \" fill=\"#009af9\" fill-opacity=\"1\"/>\n",
       "<polyline clip-path=\"url(#clip6402)\" style=\"stroke:#000000; stroke-width:1; stroke-opacity:1; fill:none\" points=\"\n",
       "  451.52,359.731 451.52,360.065 455.596,360.065 455.596,359.731 451.52,359.731 \n",
       "  \"/>\n",
       "<polygon clip-path=\"url(#clip6402)\" points=\"\n",
       "455.596,359.771 455.596,360.065 459.672,360.065 459.672,359.771 455.596,359.771 455.596,359.771 \n",
       "  \" fill=\"#009af9\" fill-opacity=\"1\"/>\n",
       "<polyline clip-path=\"url(#clip6402)\" style=\"stroke:#000000; stroke-width:1; stroke-opacity:1; fill:none\" points=\"\n",
       "  455.596,359.771 455.596,360.065 459.672,360.065 459.672,359.771 455.596,359.771 \n",
       "  \"/>\n",
       "<polygon clip-path=\"url(#clip6402)\" points=\"\n",
       "459.672,359.793 459.672,360.065 463.748,360.065 463.748,359.793 459.672,359.793 459.672,359.793 \n",
       "  \" fill=\"#009af9\" fill-opacity=\"1\"/>\n",
       "<polyline clip-path=\"url(#clip6402)\" style=\"stroke:#000000; stroke-width:1; stroke-opacity:1; fill:none\" points=\"\n",
       "  459.672,359.793 459.672,360.065 463.748,360.065 463.748,359.793 459.672,359.793 \n",
       "  \"/>\n",
       "<polygon clip-path=\"url(#clip6402)\" points=\"\n",
       "463.748,359.815 463.748,360.065 467.823,360.065 467.823,359.815 463.748,359.815 463.748,359.815 \n",
       "  \" fill=\"#009af9\" fill-opacity=\"1\"/>\n",
       "<polyline clip-path=\"url(#clip6402)\" style=\"stroke:#000000; stroke-width:1; stroke-opacity:1; fill:none\" points=\"\n",
       "  463.748,359.815 463.748,360.065 467.823,360.065 467.823,359.815 463.748,359.815 \n",
       "  \"/>\n",
       "<polygon clip-path=\"url(#clip6402)\" points=\"\n",
       "467.823,359.827 467.823,360.065 471.899,360.065 471.899,359.827 467.823,359.827 467.823,359.827 \n",
       "  \" fill=\"#009af9\" fill-opacity=\"1\"/>\n",
       "<polyline clip-path=\"url(#clip6402)\" style=\"stroke:#000000; stroke-width:1; stroke-opacity:1; fill:none\" points=\"\n",
       "  467.823,359.827 467.823,360.065 471.899,360.065 471.899,359.827 467.823,359.827 \n",
       "  \"/>\n",
       "<polygon clip-path=\"url(#clip6402)\" points=\"\n",
       "471.899,359.849 471.899,360.065 475.975,360.065 475.975,359.849 471.899,359.849 471.899,359.849 \n",
       "  \" fill=\"#009af9\" fill-opacity=\"1\"/>\n",
       "<polyline clip-path=\"url(#clip6402)\" style=\"stroke:#000000; stroke-width:1; stroke-opacity:1; fill:none\" points=\"\n",
       "  471.899,359.849 471.899,360.065 475.975,360.065 475.975,359.849 471.899,359.849 \n",
       "  \"/>\n",
       "<polygon clip-path=\"url(#clip6402)\" points=\"\n",
       "475.975,359.86 475.975,360.065 480.051,360.065 480.051,359.86 475.975,359.86 475.975,359.86 \n",
       "  \" fill=\"#009af9\" fill-opacity=\"1\"/>\n",
       "<polyline clip-path=\"url(#clip6402)\" style=\"stroke:#000000; stroke-width:1; stroke-opacity:1; fill:none\" points=\"\n",
       "  475.975,359.86 475.975,360.065 480.051,360.065 480.051,359.86 475.975,359.86 \n",
       "  \"/>\n",
       "<polygon clip-path=\"url(#clip6402)\" points=\"\n",
       "480.051,359.874 480.051,360.065 484.126,360.065 484.126,359.874 480.051,359.874 480.051,359.874 \n",
       "  \" fill=\"#009af9\" fill-opacity=\"1\"/>\n",
       "<polyline clip-path=\"url(#clip6402)\" style=\"stroke:#000000; stroke-width:1; stroke-opacity:1; fill:none\" points=\"\n",
       "  480.051,359.874 480.051,360.065 484.126,360.065 484.126,359.874 480.051,359.874 \n",
       "  \"/>\n",
       "<polygon clip-path=\"url(#clip6402)\" points=\"\n",
       "484.126,359.748 484.126,360.065 488.202,360.065 488.202,359.748 484.126,359.748 484.126,359.748 \n",
       "  \" fill=\"#009af9\" fill-opacity=\"1\"/>\n",
       "<polyline clip-path=\"url(#clip6402)\" style=\"stroke:#000000; stroke-width:1; stroke-opacity:1; fill:none\" points=\"\n",
       "  484.126,359.748 484.126,360.065 488.202,360.065 488.202,359.748 484.126,359.748 \n",
       "  \"/>\n",
       "<polygon clip-path=\"url(#clip6402)\" points=\"\n",
       "488.202,359.899 488.202,360.065 492.278,360.065 492.278,359.899 488.202,359.899 488.202,359.899 \n",
       "  \" fill=\"#009af9\" fill-opacity=\"1\"/>\n",
       "<polyline clip-path=\"url(#clip6402)\" style=\"stroke:#000000; stroke-width:1; stroke-opacity:1; fill:none\" points=\"\n",
       "  488.202,359.899 488.202,360.065 492.278,360.065 492.278,359.899 488.202,359.899 \n",
       "  \"/>\n",
       "<polygon clip-path=\"url(#clip6402)\" points=\"\n",
       "492.278,359.904 492.278,360.065 496.354,360.065 496.354,359.904 492.278,359.904 492.278,359.904 \n",
       "  \" fill=\"#009af9\" fill-opacity=\"1\"/>\n",
       "<polyline clip-path=\"url(#clip6402)\" style=\"stroke:#000000; stroke-width:1; stroke-opacity:1; fill:none\" points=\"\n",
       "  492.278,359.904 492.278,360.065 496.354,360.065 496.354,359.904 492.278,359.904 \n",
       "  \"/>\n",
       "<polygon clip-path=\"url(#clip6402)\" points=\"\n",
       "496.354,359.915 496.354,360.065 500.43,360.065 500.43,359.915 496.354,359.915 496.354,359.915 \n",
       "  \" fill=\"#009af9\" fill-opacity=\"1\"/>\n",
       "<polyline clip-path=\"url(#clip6402)\" style=\"stroke:#000000; stroke-width:1; stroke-opacity:1; fill:none\" points=\"\n",
       "  496.354,359.915 496.354,360.065 500.43,360.065 500.43,359.915 496.354,359.915 \n",
       "  \"/>\n",
       "<polygon clip-path=\"url(#clip6402)\" points=\"\n",
       "500.43,341.355 500.43,360.065 504.505,360.065 504.505,341.355 500.43,341.355 500.43,341.355 \n",
       "  \" fill=\"#009af9\" fill-opacity=\"1\"/>\n",
       "<polyline clip-path=\"url(#clip6402)\" style=\"stroke:#000000; stroke-width:1; stroke-opacity:1; fill:none\" points=\"\n",
       "  500.43,341.355 500.43,360.065 504.505,360.065 504.505,341.355 500.43,341.355 \n",
       "  \"/>\n",
       "<polygon clip-path=\"url(#clip6402)\" points=\"\n",
       "504.505,359.926 504.505,360.065 508.581,360.065 508.581,359.926 504.505,359.926 504.505,359.926 \n",
       "  \" fill=\"#009af9\" fill-opacity=\"1\"/>\n",
       "<polyline clip-path=\"url(#clip6402)\" style=\"stroke:#000000; stroke-width:1; stroke-opacity:1; fill:none\" points=\"\n",
       "  504.505,359.926 504.505,360.065 508.581,360.065 508.581,359.926 504.505,359.926 \n",
       "  \"/>\n",
       "<polygon clip-path=\"url(#clip6402)\" points=\"\n",
       "508.581,359.927 508.581,360.065 512.657,360.065 512.657,359.927 508.581,359.927 508.581,359.927 \n",
       "  \" fill=\"#009af9\" fill-opacity=\"1\"/>\n",
       "<polyline clip-path=\"url(#clip6402)\" style=\"stroke:#000000; stroke-width:1; stroke-opacity:1; fill:none\" points=\"\n",
       "  508.581,359.927 508.581,360.065 512.657,360.065 512.657,359.927 508.581,359.927 \n",
       "  \"/>\n",
       "<polygon clip-path=\"url(#clip6402)\" points=\"\n",
       "512.657,359.936 512.657,360.065 516.733,360.065 516.733,359.936 512.657,359.936 512.657,359.936 \n",
       "  \" fill=\"#009af9\" fill-opacity=\"1\"/>\n",
       "<polyline clip-path=\"url(#clip6402)\" style=\"stroke:#000000; stroke-width:1; stroke-opacity:1; fill:none\" points=\"\n",
       "  512.657,359.936 512.657,360.065 516.733,360.065 516.733,359.936 512.657,359.936 \n",
       "  \"/>\n",
       "<polygon clip-path=\"url(#clip6402)\" points=\"\n",
       "516.733,359.94 516.733,360.065 520.809,360.065 520.809,359.94 516.733,359.94 516.733,359.94 \n",
       "  \" fill=\"#009af9\" fill-opacity=\"1\"/>\n",
       "<polyline clip-path=\"url(#clip6402)\" style=\"stroke:#000000; stroke-width:1; stroke-opacity:1; fill:none\" points=\"\n",
       "  516.733,359.94 516.733,360.065 520.809,360.065 520.809,359.94 516.733,359.94 \n",
       "  \"/>\n",
       "<polygon clip-path=\"url(#clip6402)\" points=\"\n",
       "520.809,359.945 520.809,360.065 524.884,360.065 524.884,359.945 520.809,359.945 520.809,359.945 \n",
       "  \" fill=\"#009af9\" fill-opacity=\"1\"/>\n",
       "<polyline clip-path=\"url(#clip6402)\" style=\"stroke:#000000; stroke-width:1; stroke-opacity:1; fill:none\" points=\"\n",
       "  520.809,359.945 520.809,360.065 524.884,360.065 524.884,359.945 520.809,359.945 \n",
       "  \"/>\n",
       "<polygon clip-path=\"url(#clip6402)\" points=\"\n",
       "524.884,359.902 524.884,360.065 528.96,360.065 528.96,359.902 524.884,359.902 524.884,359.902 \n",
       "  \" fill=\"#009af9\" fill-opacity=\"1\"/>\n",
       "<polyline clip-path=\"url(#clip6402)\" style=\"stroke:#000000; stroke-width:1; stroke-opacity:1; fill:none\" points=\"\n",
       "  524.884,359.902 524.884,360.065 528.96,360.065 528.96,359.902 524.884,359.902 \n",
       "  \"/>\n",
       "<polygon clip-path=\"url(#clip6402)\" points=\"\n",
       "528.96,359.956 528.96,360.065 533.036,360.065 533.036,359.956 528.96,359.956 528.96,359.956 \n",
       "  \" fill=\"#009af9\" fill-opacity=\"1\"/>\n",
       "<polyline clip-path=\"url(#clip6402)\" style=\"stroke:#000000; stroke-width:1; stroke-opacity:1; fill:none\" points=\"\n",
       "  528.96,359.956 528.96,360.065 533.036,360.065 533.036,359.956 528.96,359.956 \n",
       "  \"/>\n",
       "<polygon clip-path=\"url(#clip6402)\" points=\"\n",
       "533.036,359.963 533.036,360.065 537.112,360.065 537.112,359.963 533.036,359.963 533.036,359.963 \n",
       "  \" fill=\"#009af9\" fill-opacity=\"1\"/>\n",
       "<polyline clip-path=\"url(#clip6402)\" style=\"stroke:#000000; stroke-width:1; stroke-opacity:1; fill:none\" points=\"\n",
       "  533.036,359.963 533.036,360.065 537.112,360.065 537.112,359.963 533.036,359.963 \n",
       "  \"/>\n",
       "<polygon clip-path=\"url(#clip6402)\" points=\"\n",
       "537.112,359.969 537.112,360.065 541.187,360.065 541.187,359.969 537.112,359.969 537.112,359.969 \n",
       "  \" fill=\"#009af9\" fill-opacity=\"1\"/>\n",
       "<polyline clip-path=\"url(#clip6402)\" style=\"stroke:#000000; stroke-width:1; stroke-opacity:1; fill:none\" points=\"\n",
       "  537.112,359.969 537.112,360.065 541.187,360.065 541.187,359.969 537.112,359.969 \n",
       "  \"/>\n",
       "<polygon clip-path=\"url(#clip6402)\" points=\"\n",
       "541.187,359.967 541.187,360.065 545.263,360.065 545.263,359.967 541.187,359.967 541.187,359.967 \n",
       "  \" fill=\"#009af9\" fill-opacity=\"1\"/>\n",
       "<polyline clip-path=\"url(#clip6402)\" style=\"stroke:#000000; stroke-width:1; stroke-opacity:1; fill:none\" points=\"\n",
       "  541.187,359.967 541.187,360.065 545.263,360.065 545.263,359.967 541.187,359.967 \n",
       "  \"/>\n",
       "<polygon clip-path=\"url(#clip6402)\" points=\"\n",
       "545.263,359.977 545.263,360.065 549.339,360.065 549.339,359.977 545.263,359.977 545.263,359.977 \n",
       "  \" fill=\"#009af9\" fill-opacity=\"1\"/>\n",
       "<polyline clip-path=\"url(#clip6402)\" style=\"stroke:#000000; stroke-width:1; stroke-opacity:1; fill:none\" points=\"\n",
       "  545.263,359.977 545.263,360.065 549.339,360.065 549.339,359.977 545.263,359.977 \n",
       "  \"/>\n",
       "<polygon clip-path=\"url(#clip6402)\" points=\"\n",
       "549.339,359.954 549.339,360.065 553.415,360.065 553.415,359.954 549.339,359.954 549.339,359.954 \n",
       "  \" fill=\"#009af9\" fill-opacity=\"1\"/>\n",
       "<polyline clip-path=\"url(#clip6402)\" style=\"stroke:#000000; stroke-width:1; stroke-opacity:1; fill:none\" points=\"\n",
       "  549.339,359.954 549.339,360.065 553.415,360.065 553.415,359.954 549.339,359.954 \n",
       "  \"/>\n",
       "<polygon clip-path=\"url(#clip6402)\" points=\"\n",
       "553.415,359.978 553.415,360.065 557.491,360.065 557.491,359.978 553.415,359.978 553.415,359.978 \n",
       "  \" fill=\"#009af9\" fill-opacity=\"1\"/>\n",
       "<polyline clip-path=\"url(#clip6402)\" style=\"stroke:#000000; stroke-width:1; stroke-opacity:1; fill:none\" points=\"\n",
       "  553.415,359.978 553.415,360.065 557.491,360.065 557.491,359.978 553.415,359.978 \n",
       "  \"/>\n",
       "<polygon clip-path=\"url(#clip6402)\" points=\"\n",
       "557.491,359.952 557.491,360.065 561.566,360.065 561.566,359.952 557.491,359.952 557.491,359.952 \n",
       "  \" fill=\"#009af9\" fill-opacity=\"1\"/>\n",
       "<polyline clip-path=\"url(#clip6402)\" style=\"stroke:#000000; stroke-width:1; stroke-opacity:1; fill:none\" points=\"\n",
       "  557.491,359.952 557.491,360.065 561.566,360.065 561.566,359.952 557.491,359.952 \n",
       "  \"/>\n",
       "<polygon clip-path=\"url(#clip6402)\" points=\"\n",
       "561.566,359.987 561.566,360.065 565.642,360.065 565.642,359.987 561.566,359.987 561.566,359.987 \n",
       "  \" fill=\"#009af9\" fill-opacity=\"1\"/>\n",
       "<polyline clip-path=\"url(#clip6402)\" style=\"stroke:#000000; stroke-width:1; stroke-opacity:1; fill:none\" points=\"\n",
       "  561.566,359.987 561.566,360.065 565.642,360.065 565.642,359.987 561.566,359.987 \n",
       "  \"/>\n",
       "<polygon clip-path=\"url(#clip6402)\" points=\"\n",
       "76.5483,31.4961 76.5483,360.065 80.624,360.065 80.624,31.4961 76.5483,31.4961 76.5483,31.4961 \n",
       "  \" fill=\"#e26f46\" fill-opacity=\"1\"/>\n",
       "<polyline clip-path=\"url(#clip6402)\" style=\"stroke:#000000; stroke-width:1; stroke-opacity:1; fill:none\" points=\"\n",
       "  76.5483,31.4961 76.5483,360.065 80.624,360.065 80.624,31.4961 76.5483,31.4961 \n",
       "  \"/>\n",
       "<polygon clip-path=\"url(#clip6402)\" points=\"\n",
       "80.624,345.116 80.624,360.065 84.6998,360.065 84.6998,345.116 80.624,345.116 80.624,345.116 \n",
       "  \" fill=\"#e26f46\" fill-opacity=\"1\"/>\n",
       "<polyline clip-path=\"url(#clip6402)\" style=\"stroke:#000000; stroke-width:1; stroke-opacity:1; fill:none\" points=\"\n",
       "  80.624,345.116 80.624,360.065 84.6998,360.065 84.6998,345.116 80.624,345.116 \n",
       "  \"/>\n",
       "<polygon clip-path=\"url(#clip6402)\" points=\"\n",
       "84.6998,214.953 84.6998,360.065 88.7756,360.065 88.7756,214.953 84.6998,214.953 84.6998,214.953 \n",
       "  \" fill=\"#e26f46\" fill-opacity=\"1\"/>\n",
       "<polyline clip-path=\"url(#clip6402)\" style=\"stroke:#000000; stroke-width:1; stroke-opacity:1; fill:none\" points=\"\n",
       "  84.6998,214.953 84.6998,360.065 88.7756,360.065 88.7756,214.953 84.6998,214.953 \n",
       "  \"/>\n",
       "<polygon clip-path=\"url(#clip6402)\" points=\"\n",
       "88.7756,252.808 88.7756,360.065 92.8514,360.065 92.8514,252.808 88.7756,252.808 88.7756,252.808 \n",
       "  \" fill=\"#e26f46\" fill-opacity=\"1\"/>\n",
       "<polyline clip-path=\"url(#clip6402)\" style=\"stroke:#000000; stroke-width:1; stroke-opacity:1; fill:none\" points=\"\n",
       "  88.7756,252.808 88.7756,360.065 92.8514,360.065 92.8514,252.808 88.7756,252.808 \n",
       "  \"/>\n",
       "<polygon clip-path=\"url(#clip6402)\" points=\"\n",
       "92.8514,253.655 92.8514,360.065 96.9272,360.065 96.9272,253.655 92.8514,253.655 92.8514,253.655 \n",
       "  \" fill=\"#e26f46\" fill-opacity=\"1\"/>\n",
       "<polyline clip-path=\"url(#clip6402)\" style=\"stroke:#000000; stroke-width:1; stroke-opacity:1; fill:none\" points=\"\n",
       "  92.8514,253.655 92.8514,360.065 96.9272,360.065 96.9272,253.655 92.8514,253.655 \n",
       "  \"/>\n",
       "<polygon clip-path=\"url(#clip6402)\" points=\"\n",
       "96.9272,308.589 96.9272,360.065 101.003,360.065 101.003,308.589 96.9272,308.589 96.9272,308.589 \n",
       "  \" fill=\"#e26f46\" fill-opacity=\"1\"/>\n",
       "<polyline clip-path=\"url(#clip6402)\" style=\"stroke:#000000; stroke-width:1; stroke-opacity:1; fill:none\" points=\"\n",
       "  96.9272,308.589 96.9272,360.065 101.003,360.065 101.003,308.589 96.9272,308.589 \n",
       "  \"/>\n",
       "<polygon clip-path=\"url(#clip6402)\" points=\"\n",
       "101.003,318.837 101.003,360.065 105.079,360.065 105.079,318.837 101.003,318.837 101.003,318.837 \n",
       "  \" fill=\"#e26f46\" fill-opacity=\"1\"/>\n",
       "<polyline clip-path=\"url(#clip6402)\" style=\"stroke:#000000; stroke-width:1; stroke-opacity:1; fill:none\" points=\"\n",
       "  101.003,318.837 101.003,360.065 105.079,360.065 105.079,318.837 101.003,318.837 \n",
       "  \"/>\n",
       "<polygon clip-path=\"url(#clip6402)\" points=\"\n",
       "105.079,337.361 105.079,360.065 109.155,360.065 109.155,337.361 105.079,337.361 105.079,337.361 \n",
       "  \" fill=\"#e26f46\" fill-opacity=\"1\"/>\n",
       "<polyline clip-path=\"url(#clip6402)\" style=\"stroke:#000000; stroke-width:1; stroke-opacity:1; fill:none\" points=\"\n",
       "  105.079,337.361 105.079,360.065 109.155,360.065 109.155,337.361 105.079,337.361 \n",
       "  \"/>\n",
       "<polygon clip-path=\"url(#clip6402)\" points=\"\n",
       "109.155,341.436 109.155,360.065 113.23,360.065 113.23,341.436 109.155,341.436 109.155,341.436 \n",
       "  \" fill=\"#e26f46\" fill-opacity=\"1\"/>\n",
       "<polyline clip-path=\"url(#clip6402)\" style=\"stroke:#000000; stroke-width:1; stroke-opacity:1; fill:none\" points=\"\n",
       "  109.155,341.436 109.155,360.065 113.23,360.065 113.23,341.436 109.155,341.436 \n",
       "  \"/>\n",
       "<polygon clip-path=\"url(#clip6402)\" points=\"\n",
       "113.23,349.526 113.23,360.065 117.306,360.065 117.306,349.526 113.23,349.526 113.23,349.526 \n",
       "  \" fill=\"#e26f46\" fill-opacity=\"1\"/>\n",
       "<polyline clip-path=\"url(#clip6402)\" style=\"stroke:#000000; stroke-width:1; stroke-opacity:1; fill:none\" points=\"\n",
       "  113.23,349.526 113.23,360.065 117.306,360.065 117.306,349.526 113.23,349.526 \n",
       "  \"/>\n",
       "<polygon clip-path=\"url(#clip6402)\" points=\"\n",
       "117.306,346.576 117.306,360.065 121.382,360.065 121.382,346.576 117.306,346.576 117.306,346.576 \n",
       "  \" fill=\"#e26f46\" fill-opacity=\"1\"/>\n",
       "<polyline clip-path=\"url(#clip6402)\" style=\"stroke:#000000; stroke-width:1; stroke-opacity:1; fill:none\" points=\"\n",
       "  117.306,346.576 117.306,360.065 121.382,360.065 121.382,346.576 117.306,346.576 \n",
       "  \"/>\n",
       "<polygon clip-path=\"url(#clip6402)\" points=\"\n",
       "121.382,354.359 121.382,360.065 125.458,360.065 125.458,354.359 121.382,354.359 121.382,354.359 \n",
       "  \" fill=\"#e26f46\" fill-opacity=\"1\"/>\n",
       "<polyline clip-path=\"url(#clip6402)\" style=\"stroke:#000000; stroke-width:1; stroke-opacity:1; fill:none\" points=\"\n",
       "  121.382,354.359 121.382,360.065 125.458,360.065 125.458,354.359 121.382,354.359 \n",
       "  \"/>\n",
       "<polygon clip-path=\"url(#clip6402)\" points=\"\n",
       "125.458,353.76 125.458,360.065 129.533,360.065 129.533,353.76 125.458,353.76 125.458,353.76 \n",
       "  \" fill=\"#e26f46\" fill-opacity=\"1\"/>\n",
       "<polyline clip-path=\"url(#clip6402)\" style=\"stroke:#000000; stroke-width:1; stroke-opacity:1; fill:none\" points=\"\n",
       "  125.458,353.76 125.458,360.065 129.533,360.065 129.533,353.76 125.458,353.76 \n",
       "  \"/>\n",
       "<polygon clip-path=\"url(#clip6402)\" points=\"\n",
       "129.533,355.472 129.533,360.065 133.609,360.065 133.609,355.472 129.533,355.472 129.533,355.472 \n",
       "  \" fill=\"#e26f46\" fill-opacity=\"1\"/>\n",
       "<polyline clip-path=\"url(#clip6402)\" style=\"stroke:#000000; stroke-width:1; stroke-opacity:1; fill:none\" points=\"\n",
       "  129.533,355.472 129.533,360.065 133.609,360.065 133.609,355.472 129.533,355.472 \n",
       "  \"/>\n",
       "<polygon clip-path=\"url(#clip6402)\" points=\"\n",
       "133.609,355.057 133.609,360.065 137.685,360.065 137.685,355.057 133.609,355.057 133.609,355.057 \n",
       "  \" fill=\"#e26f46\" fill-opacity=\"1\"/>\n",
       "<polyline clip-path=\"url(#clip6402)\" style=\"stroke:#000000; stroke-width:1; stroke-opacity:1; fill:none\" points=\"\n",
       "  133.609,355.057 133.609,360.065 137.685,360.065 137.685,355.057 133.609,355.057 \n",
       "  \"/>\n",
       "<polygon clip-path=\"url(#clip6402)\" points=\"\n",
       "137.685,356.418 137.685,360.065 141.761,360.065 141.761,356.418 137.685,356.418 137.685,356.418 \n",
       "  \" fill=\"#e26f46\" fill-opacity=\"1\"/>\n",
       "<polyline clip-path=\"url(#clip6402)\" style=\"stroke:#000000; stroke-width:1; stroke-opacity:1; fill:none\" points=\"\n",
       "  137.685,356.418 137.685,360.065 141.761,360.065 141.761,356.418 137.685,356.418 \n",
       "  \"/>\n",
       "<polygon clip-path=\"url(#clip6402)\" points=\"\n",
       "141.761,356.022 141.761,360.065 145.837,360.065 145.837,356.022 141.761,356.022 141.761,356.022 \n",
       "  \" fill=\"#e26f46\" fill-opacity=\"1\"/>\n",
       "<polyline clip-path=\"url(#clip6402)\" style=\"stroke:#000000; stroke-width:1; stroke-opacity:1; fill:none\" points=\"\n",
       "  141.761,356.022 141.761,360.065 145.837,360.065 145.837,356.022 141.761,356.022 \n",
       "  \"/>\n",
       "<polygon clip-path=\"url(#clip6402)\" points=\"\n",
       "145.837,357.662 145.837,360.065 149.912,360.065 149.912,357.662 145.837,357.662 145.837,357.662 \n",
       "  \" fill=\"#e26f46\" fill-opacity=\"1\"/>\n",
       "<polyline clip-path=\"url(#clip6402)\" style=\"stroke:#000000; stroke-width:1; stroke-opacity:1; fill:none\" points=\"\n",
       "  145.837,357.662 145.837,360.065 149.912,360.065 149.912,357.662 145.837,357.662 \n",
       "  \"/>\n",
       "<polygon clip-path=\"url(#clip6402)\" points=\"\n",
       "149.912,357.962 149.912,360.065 153.988,360.065 153.988,357.962 149.912,357.962 149.912,357.962 \n",
       "  \" fill=\"#e26f46\" fill-opacity=\"1\"/>\n",
       "<polyline clip-path=\"url(#clip6402)\" style=\"stroke:#000000; stroke-width:1; stroke-opacity:1; fill:none\" points=\"\n",
       "  149.912,357.962 149.912,360.065 153.988,360.065 153.988,357.962 149.912,357.962 \n",
       "  \"/>\n",
       "<polygon clip-path=\"url(#clip6402)\" points=\"\n",
       "153.988,358.583 153.988,360.065 158.064,360.065 158.064,358.583 153.988,358.583 153.988,358.583 \n",
       "  \" fill=\"#e26f46\" fill-opacity=\"1\"/>\n",
       "<polyline clip-path=\"url(#clip6402)\" style=\"stroke:#000000; stroke-width:1; stroke-opacity:1; fill:none\" points=\"\n",
       "  153.988,358.583 153.988,360.065 158.064,360.065 158.064,358.583 153.988,358.583 \n",
       "  \"/>\n",
       "<polygon clip-path=\"url(#clip6402)\" points=\"\n",
       "158.064,356.989 158.064,360.065 162.14,360.065 162.14,356.989 158.064,356.989 158.064,356.989 \n",
       "  \" fill=\"#e26f46\" fill-opacity=\"1\"/>\n",
       "<polyline clip-path=\"url(#clip6402)\" style=\"stroke:#000000; stroke-width:1; stroke-opacity:1; fill:none\" points=\"\n",
       "  158.064,356.989 158.064,360.065 162.14,360.065 162.14,356.989 158.064,356.989 \n",
       "  \"/>\n",
       "<polygon clip-path=\"url(#clip6402)\" points=\"\n",
       "162.14,358.046 162.14,360.065 166.215,360.065 166.215,358.046 162.14,358.046 162.14,358.046 \n",
       "  \" fill=\"#e26f46\" fill-opacity=\"1\"/>\n",
       "<polyline clip-path=\"url(#clip6402)\" style=\"stroke:#000000; stroke-width:1; stroke-opacity:1; fill:none\" points=\"\n",
       "  162.14,358.046 162.14,360.065 166.215,360.065 166.215,358.046 162.14,358.046 \n",
       "  \"/>\n",
       "<polygon clip-path=\"url(#clip6402)\" points=\"\n",
       "166.215,359.121 166.215,360.065 170.291,360.065 170.291,359.121 166.215,359.121 166.215,359.121 \n",
       "  \" fill=\"#e26f46\" fill-opacity=\"1\"/>\n",
       "<polyline clip-path=\"url(#clip6402)\" style=\"stroke:#000000; stroke-width:1; stroke-opacity:1; fill:none\" points=\"\n",
       "  166.215,359.121 166.215,360.065 170.291,360.065 170.291,359.121 166.215,359.121 \n",
       "  \"/>\n",
       "<polygon clip-path=\"url(#clip6402)\" points=\"\n",
       "170.291,355.151 170.291,360.065 174.367,360.065 174.367,355.151 170.291,355.151 170.291,355.151 \n",
       "  \" fill=\"#e26f46\" fill-opacity=\"1\"/>\n",
       "<polyline clip-path=\"url(#clip6402)\" style=\"stroke:#000000; stroke-width:1; stroke-opacity:1; fill:none\" points=\"\n",
       "  170.291,355.151 170.291,360.065 174.367,360.065 174.367,355.151 170.291,355.151 \n",
       "  \"/>\n",
       "<polygon clip-path=\"url(#clip6402)\" points=\"\n",
       "174.367,359.407 174.367,360.065 178.443,360.065 178.443,359.407 174.367,359.407 174.367,359.407 \n",
       "  \" fill=\"#e26f46\" fill-opacity=\"1\"/>\n",
       "<polyline clip-path=\"url(#clip6402)\" style=\"stroke:#000000; stroke-width:1; stroke-opacity:1; fill:none\" points=\"\n",
       "  174.367,359.407 174.367,360.065 178.443,360.065 178.443,359.407 174.367,359.407 \n",
       "  \"/>\n",
       "<polygon clip-path=\"url(#clip6402)\" points=\"\n",
       "178.443,359.127 178.443,360.065 182.519,360.065 182.519,359.127 178.443,359.127 178.443,359.127 \n",
       "  \" fill=\"#e26f46\" fill-opacity=\"1\"/>\n",
       "<polyline clip-path=\"url(#clip6402)\" style=\"stroke:#000000; stroke-width:1; stroke-opacity:1; fill:none\" points=\"\n",
       "  178.443,359.127 178.443,360.065 182.519,360.065 182.519,359.127 178.443,359.127 \n",
       "  \"/>\n",
       "<polygon clip-path=\"url(#clip6402)\" points=\"\n",
       "182.519,359.475 182.519,360.065 186.594,360.065 186.594,359.475 182.519,359.475 182.519,359.475 \n",
       "  \" fill=\"#e26f46\" fill-opacity=\"1\"/>\n",
       "<polyline clip-path=\"url(#clip6402)\" style=\"stroke:#000000; stroke-width:1; stroke-opacity:1; fill:none\" points=\"\n",
       "  182.519,359.475 182.519,360.065 186.594,360.065 186.594,359.475 182.519,359.475 \n",
       "  \"/>\n",
       "<polygon clip-path=\"url(#clip6402)\" points=\"\n",
       "186.594,359.88 186.594,360.065 190.67,360.065 190.67,359.88 186.594,359.88 186.594,359.88 \n",
       "  \" fill=\"#e26f46\" fill-opacity=\"1\"/>\n",
       "<polyline clip-path=\"url(#clip6402)\" style=\"stroke:#000000; stroke-width:1; stroke-opacity:1; fill:none\" points=\"\n",
       "  186.594,359.88 186.594,360.065 190.67,360.065 190.67,359.88 186.594,359.88 \n",
       "  \"/>\n",
       "<polygon clip-path=\"url(#clip6402)\" points=\"\n",
       "190.67,359.809 190.67,360.065 194.746,360.065 194.746,359.809 190.67,359.809 190.67,359.809 \n",
       "  \" fill=\"#e26f46\" fill-opacity=\"1\"/>\n",
       "<polyline clip-path=\"url(#clip6402)\" style=\"stroke:#000000; stroke-width:1; stroke-opacity:1; fill:none\" points=\"\n",
       "  190.67,359.809 190.67,360.065 194.746,360.065 194.746,359.809 190.67,359.809 \n",
       "  \"/>\n",
       "<polygon clip-path=\"url(#clip6402)\" points=\"\n",
       "194.746,358.894 194.746,360.065 198.822,360.065 198.822,358.894 194.746,358.894 194.746,358.894 \n",
       "  \" fill=\"#e26f46\" fill-opacity=\"1\"/>\n",
       "<polyline clip-path=\"url(#clip6402)\" style=\"stroke:#000000; stroke-width:1; stroke-opacity:1; fill:none\" points=\"\n",
       "  194.746,358.894 194.746,360.065 198.822,360.065 198.822,358.894 194.746,358.894 \n",
       "  \"/>\n",
       "<polygon clip-path=\"url(#clip6402)\" points=\"\n",
       "198.822,359.664 198.822,360.065 202.898,360.065 202.898,359.664 198.822,359.664 198.822,359.664 \n",
       "  \" fill=\"#e26f46\" fill-opacity=\"1\"/>\n",
       "<polyline clip-path=\"url(#clip6402)\" style=\"stroke:#000000; stroke-width:1; stroke-opacity:1; fill:none\" points=\"\n",
       "  198.822,359.664 198.822,360.065 202.898,360.065 202.898,359.664 198.822,359.664 \n",
       "  \"/>\n",
       "<polygon clip-path=\"url(#clip6402)\" points=\"\n",
       "202.898,359.692 202.898,360.065 206.973,360.065 206.973,359.692 202.898,359.692 202.898,359.692 \n",
       "  \" fill=\"#e26f46\" fill-opacity=\"1\"/>\n",
       "<polyline clip-path=\"url(#clip6402)\" style=\"stroke:#000000; stroke-width:1; stroke-opacity:1; fill:none\" points=\"\n",
       "  202.898,359.692 202.898,360.065 206.973,360.065 206.973,359.692 202.898,359.692 \n",
       "  \"/>\n",
       "<polygon clip-path=\"url(#clip6402)\" points=\"\n",
       "206.973,359.925 206.973,360.065 211.049,360.065 211.049,359.925 206.973,359.925 206.973,359.925 \n",
       "  \" fill=\"#e26f46\" fill-opacity=\"1\"/>\n",
       "<polyline clip-path=\"url(#clip6402)\" style=\"stroke:#000000; stroke-width:1; stroke-opacity:1; fill:none\" points=\"\n",
       "  206.973,359.925 206.973,360.065 211.049,360.065 211.049,359.925 206.973,359.925 \n",
       "  \"/>\n",
       "<polygon clip-path=\"url(#clip6402)\" points=\"\n",
       "211.049,359.965 211.049,360.065 215.125,360.065 215.125,359.965 211.049,359.965 211.049,359.965 \n",
       "  \" fill=\"#e26f46\" fill-opacity=\"1\"/>\n",
       "<polyline clip-path=\"url(#clip6402)\" style=\"stroke:#000000; stroke-width:1; stroke-opacity:1; fill:none\" points=\"\n",
       "  211.049,359.965 211.049,360.065 215.125,360.065 215.125,359.965 211.049,359.965 \n",
       "  \"/>\n",
       "<polygon clip-path=\"url(#clip6402)\" points=\"\n",
       "215.125,359.947 215.125,360.065 219.201,360.065 219.201,359.947 215.125,359.947 215.125,359.947 \n",
       "  \" fill=\"#e26f46\" fill-opacity=\"1\"/>\n",
       "<polyline clip-path=\"url(#clip6402)\" style=\"stroke:#000000; stroke-width:1; stroke-opacity:1; fill:none\" points=\"\n",
       "  215.125,359.947 215.125,360.065 219.201,360.065 219.201,359.947 215.125,359.947 \n",
       "  \"/>\n",
       "<polygon clip-path=\"url(#clip6402)\" points=\"\n",
       "219.201,359.765 219.201,360.065 223.276,360.065 223.276,359.765 219.201,359.765 219.201,359.765 \n",
       "  \" fill=\"#e26f46\" fill-opacity=\"1\"/>\n",
       "<polyline clip-path=\"url(#clip6402)\" style=\"stroke:#000000; stroke-width:1; stroke-opacity:1; fill:none\" points=\"\n",
       "  219.201,359.765 219.201,360.065 223.276,360.065 223.276,359.765 219.201,359.765 \n",
       "  \"/>\n",
       "<polygon clip-path=\"url(#clip6402)\" points=\"\n",
       "223.276,359.968 223.276,360.065 227.352,360.065 227.352,359.968 223.276,359.968 223.276,359.968 \n",
       "  \" fill=\"#e26f46\" fill-opacity=\"1\"/>\n",
       "<polyline clip-path=\"url(#clip6402)\" style=\"stroke:#000000; stroke-width:1; stroke-opacity:1; fill:none\" points=\"\n",
       "  223.276,359.968 223.276,360.065 227.352,360.065 227.352,359.968 223.276,359.968 \n",
       "  \"/>\n",
       "<polygon clip-path=\"url(#clip6402)\" points=\"\n",
       "227.352,359.976 227.352,360.065 231.428,360.065 231.428,359.976 227.352,359.976 227.352,359.976 \n",
       "  \" fill=\"#e26f46\" fill-opacity=\"1\"/>\n",
       "<polyline clip-path=\"url(#clip6402)\" style=\"stroke:#000000; stroke-width:1; stroke-opacity:1; fill:none\" points=\"\n",
       "  227.352,359.976 227.352,360.065 231.428,360.065 231.428,359.976 227.352,359.976 \n",
       "  \"/>\n",
       "<polygon clip-path=\"url(#clip6402)\" points=\"\n",
       "231.428,360.016 231.428,360.065 235.504,360.065 235.504,360.016 231.428,360.016 231.428,360.016 \n",
       "  \" fill=\"#e26f46\" fill-opacity=\"1\"/>\n",
       "<polyline clip-path=\"url(#clip6402)\" style=\"stroke:#000000; stroke-width:1; stroke-opacity:1; fill:none\" points=\"\n",
       "  231.428,360.016 231.428,360.065 235.504,360.065 235.504,360.016 231.428,360.016 \n",
       "  \"/>\n",
       "<polygon clip-path=\"url(#clip6402)\" points=\"\n",
       "235.504,360.027 235.504,360.065 239.58,360.065 239.58,360.027 235.504,360.027 235.504,360.027 \n",
       "  \" fill=\"#e26f46\" fill-opacity=\"1\"/>\n",
       "<polyline clip-path=\"url(#clip6402)\" style=\"stroke:#000000; stroke-width:1; stroke-opacity:1; fill:none\" points=\"\n",
       "  235.504,360.027 235.504,360.065 239.58,360.065 239.58,360.027 235.504,360.027 \n",
       "  \"/>\n",
       "<polygon clip-path=\"url(#clip6402)\" points=\"\n",
       "239.58,359.864 239.58,360.065 243.655,360.065 243.655,359.864 239.58,359.864 239.58,359.864 \n",
       "  \" fill=\"#e26f46\" fill-opacity=\"1\"/>\n",
       "<polyline clip-path=\"url(#clip6402)\" style=\"stroke:#000000; stroke-width:1; stroke-opacity:1; fill:none\" points=\"\n",
       "  239.58,359.864 239.58,360.065 243.655,360.065 243.655,359.864 239.58,359.864 \n",
       "  \"/>\n",
       "<polygon clip-path=\"url(#clip6402)\" points=\"\n",
       "243.655,360.033 243.655,360.065 247.731,360.065 247.731,360.033 243.655,360.033 243.655,360.033 \n",
       "  \" fill=\"#e26f46\" fill-opacity=\"1\"/>\n",
       "<polyline clip-path=\"url(#clip6402)\" style=\"stroke:#000000; stroke-width:1; stroke-opacity:1; fill:none\" points=\"\n",
       "  243.655,360.033 243.655,360.065 247.731,360.065 247.731,360.033 243.655,360.033 \n",
       "  \"/>\n",
       "<polygon clip-path=\"url(#clip6402)\" points=\"\n",
       "247.731,360.03 247.731,360.065 251.807,360.065 251.807,360.03 247.731,360.03 247.731,360.03 \n",
       "  \" fill=\"#e26f46\" fill-opacity=\"1\"/>\n",
       "<polyline clip-path=\"url(#clip6402)\" style=\"stroke:#000000; stroke-width:1; stroke-opacity:1; fill:none\" points=\"\n",
       "  247.731,360.03 247.731,360.065 251.807,360.065 251.807,360.03 247.731,360.03 \n",
       "  \"/>\n",
       "<polygon clip-path=\"url(#clip6402)\" points=\"\n",
       "251.807,360.04 251.807,360.065 255.883,360.065 255.883,360.04 251.807,360.04 251.807,360.04 \n",
       "  \" fill=\"#e26f46\" fill-opacity=\"1\"/>\n",
       "<polyline clip-path=\"url(#clip6402)\" style=\"stroke:#000000; stroke-width:1; stroke-opacity:1; fill:none\" points=\"\n",
       "  251.807,360.04 251.807,360.065 255.883,360.065 255.883,360.04 251.807,360.04 \n",
       "  \"/>\n",
       "<polygon clip-path=\"url(#clip6402)\" points=\"\n",
       "255.883,360.025 255.883,360.065 259.958,360.065 259.958,360.025 255.883,360.025 255.883,360.025 \n",
       "  \" fill=\"#e26f46\" fill-opacity=\"1\"/>\n",
       "<polyline clip-path=\"url(#clip6402)\" style=\"stroke:#000000; stroke-width:1; stroke-opacity:1; fill:none\" points=\"\n",
       "  255.883,360.025 255.883,360.065 259.958,360.065 259.958,360.025 255.883,360.025 \n",
       "  \"/>\n",
       "<polygon clip-path=\"url(#clip6402)\" points=\"\n",
       "259.958,360.044 259.958,360.065 264.034,360.065 264.034,360.044 259.958,360.044 259.958,360.044 \n",
       "  \" fill=\"#e26f46\" fill-opacity=\"1\"/>\n",
       "<polyline clip-path=\"url(#clip6402)\" style=\"stroke:#000000; stroke-width:1; stroke-opacity:1; fill:none\" points=\"\n",
       "  259.958,360.044 259.958,360.065 264.034,360.065 264.034,360.044 259.958,360.044 \n",
       "  \"/>\n",
       "<polygon clip-path=\"url(#clip6402)\" points=\"\n",
       "264.034,360.043 264.034,360.065 268.11,360.065 268.11,360.043 264.034,360.043 264.034,360.043 \n",
       "  \" fill=\"#e26f46\" fill-opacity=\"1\"/>\n",
       "<polyline clip-path=\"url(#clip6402)\" style=\"stroke:#000000; stroke-width:1; stroke-opacity:1; fill:none\" points=\"\n",
       "  264.034,360.043 264.034,360.065 268.11,360.065 268.11,360.043 264.034,360.043 \n",
       "  \"/>\n",
       "<polygon clip-path=\"url(#clip6402)\" points=\"\n",
       "268.11,360.051 268.11,360.065 272.186,360.065 272.186,360.051 268.11,360.051 268.11,360.051 \n",
       "  \" fill=\"#e26f46\" fill-opacity=\"1\"/>\n",
       "<polyline clip-path=\"url(#clip6402)\" style=\"stroke:#000000; stroke-width:1; stroke-opacity:1; fill:none\" points=\"\n",
       "  268.11,360.051 268.11,360.065 272.186,360.065 272.186,360.051 268.11,360.051 \n",
       "  \"/>\n",
       "<polygon clip-path=\"url(#clip6402)\" points=\"\n",
       "272.186,360.044 272.186,360.065 276.262,360.065 276.262,360.044 272.186,360.044 272.186,360.044 \n",
       "  \" fill=\"#e26f46\" fill-opacity=\"1\"/>\n",
       "<polyline clip-path=\"url(#clip6402)\" style=\"stroke:#000000; stroke-width:1; stroke-opacity:1; fill:none\" points=\"\n",
       "  272.186,360.044 272.186,360.065 276.262,360.065 276.262,360.044 272.186,360.044 \n",
       "  \"/>\n",
       "<polygon clip-path=\"url(#clip6402)\" points=\"\n",
       "276.262,360.054 276.262,360.065 280.337,360.065 280.337,360.054 276.262,360.054 276.262,360.054 \n",
       "  \" fill=\"#e26f46\" fill-opacity=\"1\"/>\n",
       "<polyline clip-path=\"url(#clip6402)\" style=\"stroke:#000000; stroke-width:1; stroke-opacity:1; fill:none\" points=\"\n",
       "  276.262,360.054 276.262,360.065 280.337,360.065 280.337,360.054 276.262,360.054 \n",
       "  \"/>\n",
       "<polygon clip-path=\"url(#clip6402)\" points=\"\n",
       "280.337,360.012 280.337,360.065 284.413,360.065 284.413,360.012 280.337,360.012 280.337,360.012 \n",
       "  \" fill=\"#e26f46\" fill-opacity=\"1\"/>\n",
       "<polyline clip-path=\"url(#clip6402)\" style=\"stroke:#000000; stroke-width:1; stroke-opacity:1; fill:none\" points=\"\n",
       "  280.337,360.012 280.337,360.065 284.413,360.065 284.413,360.012 280.337,360.012 \n",
       "  \"/>\n",
       "<polygon clip-path=\"url(#clip6402)\" points=\"\n",
       "284.413,360.054 284.413,360.065 288.489,360.065 288.489,360.054 284.413,360.054 284.413,360.054 \n",
       "  \" fill=\"#e26f46\" fill-opacity=\"1\"/>\n",
       "<polyline clip-path=\"url(#clip6402)\" style=\"stroke:#000000; stroke-width:1; stroke-opacity:1; fill:none\" points=\"\n",
       "  284.413,360.054 284.413,360.065 288.489,360.065 288.489,360.054 284.413,360.054 \n",
       "  \"/>\n",
       "<polygon clip-path=\"url(#clip6402)\" points=\"\n",
       "288.489,360.05 288.489,360.065 292.565,360.065 292.565,360.05 288.489,360.05 288.489,360.05 \n",
       "  \" fill=\"#e26f46\" fill-opacity=\"1\"/>\n",
       "<polyline clip-path=\"url(#clip6402)\" style=\"stroke:#000000; stroke-width:1; stroke-opacity:1; fill:none\" points=\"\n",
       "  288.489,360.05 288.489,360.065 292.565,360.065 292.565,360.05 288.489,360.05 \n",
       "  \"/>\n",
       "<polygon clip-path=\"url(#clip6402)\" points=\"\n",
       "292.565,360.056 292.565,360.065 296.641,360.065 296.641,360.056 292.565,360.056 292.565,360.056 \n",
       "  \" fill=\"#e26f46\" fill-opacity=\"1\"/>\n",
       "<polyline clip-path=\"url(#clip6402)\" style=\"stroke:#000000; stroke-width:1; stroke-opacity:1; fill:none\" points=\"\n",
       "  292.565,360.056 292.565,360.065 296.641,360.065 296.641,360.056 292.565,360.056 \n",
       "  \"/>\n",
       "<polygon clip-path=\"url(#clip6402)\" points=\"\n",
       "296.641,360.052 296.641,360.065 300.716,360.065 300.716,360.052 296.641,360.052 296.641,360.052 \n",
       "  \" fill=\"#e26f46\" fill-opacity=\"1\"/>\n",
       "<polyline clip-path=\"url(#clip6402)\" style=\"stroke:#000000; stroke-width:1; stroke-opacity:1; fill:none\" points=\"\n",
       "  296.641,360.052 296.641,360.065 300.716,360.065 300.716,360.052 296.641,360.052 \n",
       "  \"/>\n",
       "<polygon clip-path=\"url(#clip6402)\" points=\"\n",
       "300.716,360.057 300.716,360.065 304.792,360.065 304.792,360.057 300.716,360.057 300.716,360.057 \n",
       "  \" fill=\"#e26f46\" fill-opacity=\"1\"/>\n",
       "<polyline clip-path=\"url(#clip6402)\" style=\"stroke:#000000; stroke-width:1; stroke-opacity:1; fill:none\" points=\"\n",
       "  300.716,360.057 300.716,360.065 304.792,360.065 304.792,360.057 300.716,360.057 \n",
       "  \"/>\n",
       "<polygon clip-path=\"url(#clip6402)\" points=\"\n",
       "304.792,360.055 304.792,360.065 308.868,360.065 308.868,360.055 304.792,360.055 304.792,360.055 \n",
       "  \" fill=\"#e26f46\" fill-opacity=\"1\"/>\n",
       "<polyline clip-path=\"url(#clip6402)\" style=\"stroke:#000000; stroke-width:1; stroke-opacity:1; fill:none\" points=\"\n",
       "  304.792,360.055 304.792,360.065 308.868,360.065 308.868,360.055 304.792,360.055 \n",
       "  \"/>\n",
       "<polygon clip-path=\"url(#clip6402)\" points=\"\n",
       "308.868,360.059 308.868,360.065 312.944,360.065 312.944,360.059 308.868,360.059 308.868,360.059 \n",
       "  \" fill=\"#e26f46\" fill-opacity=\"1\"/>\n",
       "<polyline clip-path=\"url(#clip6402)\" style=\"stroke:#000000; stroke-width:1; stroke-opacity:1; fill:none\" points=\"\n",
       "  308.868,360.059 308.868,360.065 312.944,360.065 312.944,360.059 308.868,360.059 \n",
       "  \"/>\n",
       "<polygon clip-path=\"url(#clip6402)\" points=\"\n",
       "312.944,360.058 312.944,360.065 317.019,360.065 317.019,360.058 312.944,360.058 312.944,360.058 \n",
       "  \" fill=\"#e26f46\" fill-opacity=\"1\"/>\n",
       "<polyline clip-path=\"url(#clip6402)\" style=\"stroke:#000000; stroke-width:1; stroke-opacity:1; fill:none\" points=\"\n",
       "  312.944,360.058 312.944,360.065 317.019,360.065 317.019,360.058 312.944,360.058 \n",
       "  \"/>\n",
       "<polygon clip-path=\"url(#clip6402)\" points=\"\n",
       "317.019,360.06 317.019,360.065 321.095,360.065 321.095,360.06 317.019,360.06 317.019,360.06 \n",
       "  \" fill=\"#e26f46\" fill-opacity=\"1\"/>\n",
       "<polyline clip-path=\"url(#clip6402)\" style=\"stroke:#000000; stroke-width:1; stroke-opacity:1; fill:none\" points=\"\n",
       "  317.019,360.06 317.019,360.065 321.095,360.065 321.095,360.06 317.019,360.06 \n",
       "  \"/>\n",
       "<polygon clip-path=\"url(#clip6402)\" points=\"\n",
       "321.095,360.028 321.095,360.065 325.171,360.065 325.171,360.028 321.095,360.028 321.095,360.028 \n",
       "  \" fill=\"#e26f46\" fill-opacity=\"1\"/>\n",
       "<polyline clip-path=\"url(#clip6402)\" style=\"stroke:#000000; stroke-width:1; stroke-opacity:1; fill:none\" points=\"\n",
       "  321.095,360.028 321.095,360.065 325.171,360.065 325.171,360.028 321.095,360.028 \n",
       "  \"/>\n",
       "<polygon clip-path=\"url(#clip6402)\" points=\"\n",
       "325.171,360.061 325.171,360.065 329.247,360.065 329.247,360.061 325.171,360.061 325.171,360.061 \n",
       "  \" fill=\"#e26f46\" fill-opacity=\"1\"/>\n",
       "<polyline clip-path=\"url(#clip6402)\" style=\"stroke:#000000; stroke-width:1; stroke-opacity:1; fill:none\" points=\"\n",
       "  325.171,360.061 325.171,360.065 329.247,360.065 329.247,360.061 325.171,360.061 \n",
       "  \"/>\n",
       "<polygon clip-path=\"url(#clip6402)\" points=\"\n",
       "329.247,360.059 329.247,360.065 333.323,360.065 333.323,360.059 329.247,360.059 329.247,360.059 \n",
       "  \" fill=\"#e26f46\" fill-opacity=\"1\"/>\n",
       "<polyline clip-path=\"url(#clip6402)\" style=\"stroke:#000000; stroke-width:1; stroke-opacity:1; fill:none\" points=\"\n",
       "  329.247,360.059 329.247,360.065 333.323,360.065 333.323,360.059 329.247,360.059 \n",
       "  \"/>\n",
       "<polygon clip-path=\"url(#clip6402)\" points=\"\n",
       "333.323,360.063 333.323,360.065 337.398,360.065 337.398,360.063 333.323,360.063 333.323,360.063 \n",
       "  \" fill=\"#e26f46\" fill-opacity=\"1\"/>\n",
       "<polyline clip-path=\"url(#clip6402)\" style=\"stroke:#000000; stroke-width:1; stroke-opacity:1; fill:none\" points=\"\n",
       "  333.323,360.063 333.323,360.065 337.398,360.065 337.398,360.063 333.323,360.063 \n",
       "  \"/>\n",
       "<polygon clip-path=\"url(#clip6402)\" points=\"\n",
       "337.398,360.057 337.398,360.065 341.474,360.065 341.474,360.057 337.398,360.057 337.398,360.057 \n",
       "  \" fill=\"#e26f46\" fill-opacity=\"1\"/>\n",
       "<polyline clip-path=\"url(#clip6402)\" style=\"stroke:#000000; stroke-width:1; stroke-opacity:1; fill:none\" points=\"\n",
       "  337.398,360.057 337.398,360.065 341.474,360.065 341.474,360.057 337.398,360.057 \n",
       "  \"/>\n",
       "<polygon clip-path=\"url(#clip6402)\" points=\"\n",
       "341.474,360.062 341.474,360.065 345.55,360.065 345.55,360.062 341.474,360.062 341.474,360.062 \n",
       "  \" fill=\"#e26f46\" fill-opacity=\"1\"/>\n",
       "<polyline clip-path=\"url(#clip6402)\" style=\"stroke:#000000; stroke-width:1; stroke-opacity:1; fill:none\" points=\"\n",
       "  341.474,360.062 341.474,360.065 345.55,360.065 345.55,360.062 341.474,360.062 \n",
       "  \"/>\n",
       "<polygon clip-path=\"url(#clip6402)\" points=\"\n",
       "345.55,360.056 345.55,360.065 349.626,360.065 349.626,360.056 345.55,360.056 345.55,360.056 \n",
       "  \" fill=\"#e26f46\" fill-opacity=\"1\"/>\n",
       "<polyline clip-path=\"url(#clip6402)\" style=\"stroke:#000000; stroke-width:1; stroke-opacity:1; fill:none\" points=\"\n",
       "  345.55,360.056 345.55,360.065 349.626,360.065 349.626,360.056 345.55,360.056 \n",
       "  \"/>\n",
       "<polygon clip-path=\"url(#clip6402)\" points=\"\n",
       "349.626,360.062 349.626,360.065 353.701,360.065 353.701,360.062 349.626,360.062 349.626,360.062 \n",
       "  \" fill=\"#e26f46\" fill-opacity=\"1\"/>\n",
       "<polyline clip-path=\"url(#clip6402)\" style=\"stroke:#000000; stroke-width:1; stroke-opacity:1; fill:none\" points=\"\n",
       "  349.626,360.062 349.626,360.065 353.701,360.065 353.701,360.062 349.626,360.062 \n",
       "  \"/>\n",
       "<polygon clip-path=\"url(#clip6402)\" points=\"\n",
       "353.701,360.061 353.701,360.065 357.777,360.065 357.777,360.061 353.701,360.061 353.701,360.061 \n",
       "  \" fill=\"#e26f46\" fill-opacity=\"1\"/>\n",
       "<polyline clip-path=\"url(#clip6402)\" style=\"stroke:#000000; stroke-width:1; stroke-opacity:1; fill:none\" points=\"\n",
       "  353.701,360.061 353.701,360.065 357.777,360.065 357.777,360.061 353.701,360.061 \n",
       "  \"/>\n",
       "<polygon clip-path=\"url(#clip6402)\" points=\"\n",
       "357.777,360.063 357.777,360.065 361.853,360.065 361.853,360.063 357.777,360.063 357.777,360.063 \n",
       "  \" fill=\"#e26f46\" fill-opacity=\"1\"/>\n",
       "<polyline clip-path=\"url(#clip6402)\" style=\"stroke:#000000; stroke-width:1; stroke-opacity:1; fill:none\" points=\"\n",
       "  357.777,360.063 357.777,360.065 361.853,360.065 361.853,360.063 357.777,360.063 \n",
       "  \"/>\n",
       "<polygon clip-path=\"url(#clip6402)\" points=\"\n",
       "361.853,360.054 361.853,360.065 365.929,360.065 365.929,360.054 361.853,360.054 361.853,360.054 \n",
       "  \" fill=\"#e26f46\" fill-opacity=\"1\"/>\n",
       "<polyline clip-path=\"url(#clip6402)\" style=\"stroke:#000000; stroke-width:1; stroke-opacity:1; fill:none\" points=\"\n",
       "  361.853,360.054 361.853,360.065 365.929,360.065 365.929,360.054 361.853,360.054 \n",
       "  \"/>\n",
       "<polygon clip-path=\"url(#clip6402)\" points=\"\n",
       "365.929,360.063 365.929,360.065 370.005,360.065 370.005,360.063 365.929,360.063 365.929,360.063 \n",
       "  \" fill=\"#e26f46\" fill-opacity=\"1\"/>\n",
       "<polyline clip-path=\"url(#clip6402)\" style=\"stroke:#000000; stroke-width:1; stroke-opacity:1; fill:none\" points=\"\n",
       "  365.929,360.063 365.929,360.065 370.005,360.065 370.005,360.063 365.929,360.063 \n",
       "  \"/>\n",
       "<polygon clip-path=\"url(#clip6402)\" points=\"\n",
       "370.005,360.06 370.005,360.065 374.08,360.065 374.08,360.06 370.005,360.06 370.005,360.06 \n",
       "  \" fill=\"#e26f46\" fill-opacity=\"1\"/>\n",
       "<polyline clip-path=\"url(#clip6402)\" style=\"stroke:#000000; stroke-width:1; stroke-opacity:1; fill:none\" points=\"\n",
       "  370.005,360.06 370.005,360.065 374.08,360.065 374.08,360.06 370.005,360.06 \n",
       "  \"/>\n",
       "<polygon clip-path=\"url(#clip6402)\" points=\"\n",
       "374.08,360.064 374.08,360.065 378.156,360.065 378.156,360.064 374.08,360.064 374.08,360.064 \n",
       "  \" fill=\"#e26f46\" fill-opacity=\"1\"/>\n",
       "<polyline clip-path=\"url(#clip6402)\" style=\"stroke:#000000; stroke-width:1; stroke-opacity:1; fill:none\" points=\"\n",
       "  374.08,360.064 374.08,360.065 378.156,360.065 378.156,360.064 374.08,360.064 \n",
       "  \"/>\n",
       "<polygon clip-path=\"url(#clip6402)\" points=\"\n",
       "378.156,360.063 378.156,360.065 382.232,360.065 382.232,360.063 378.156,360.063 378.156,360.063 \n",
       "  \" fill=\"#e26f46\" fill-opacity=\"1\"/>\n",
       "<polyline clip-path=\"url(#clip6402)\" style=\"stroke:#000000; stroke-width:1; stroke-opacity:1; fill:none\" points=\"\n",
       "  378.156,360.063 378.156,360.065 382.232,360.065 382.232,360.063 378.156,360.063 \n",
       "  \"/>\n",
       "<polygon clip-path=\"url(#clip6402)\" points=\"\n",
       "382.232,360.063 382.232,360.065 386.308,360.065 386.308,360.063 382.232,360.063 382.232,360.063 \n",
       "  \" fill=\"#e26f46\" fill-opacity=\"1\"/>\n",
       "<polyline clip-path=\"url(#clip6402)\" style=\"stroke:#000000; stroke-width:1; stroke-opacity:1; fill:none\" points=\"\n",
       "  382.232,360.063 382.232,360.065 386.308,360.065 386.308,360.063 382.232,360.063 \n",
       "  \"/>\n",
       "<polygon clip-path=\"url(#clip6402)\" points=\"\n",
       "386.308,360.062 386.308,360.065 390.384,360.065 390.384,360.062 386.308,360.062 386.308,360.062 \n",
       "  \" fill=\"#e26f46\" fill-opacity=\"1\"/>\n",
       "<polyline clip-path=\"url(#clip6402)\" style=\"stroke:#000000; stroke-width:1; stroke-opacity:1; fill:none\" points=\"\n",
       "  386.308,360.062 386.308,360.065 390.384,360.065 390.384,360.062 386.308,360.062 \n",
       "  \"/>\n",
       "<polygon clip-path=\"url(#clip6402)\" points=\"\n",
       "390.384,360.064 390.384,360.065 394.459,360.065 394.459,360.064 390.384,360.064 390.384,360.064 \n",
       "  \" fill=\"#e26f46\" fill-opacity=\"1\"/>\n",
       "<polyline clip-path=\"url(#clip6402)\" style=\"stroke:#000000; stroke-width:1; stroke-opacity:1; fill:none\" points=\"\n",
       "  390.384,360.064 390.384,360.065 394.459,360.065 394.459,360.064 390.384,360.064 \n",
       "  \"/>\n",
       "<polygon clip-path=\"url(#clip6402)\" points=\"\n",
       "394.459,360.063 394.459,360.065 398.535,360.065 398.535,360.063 394.459,360.063 394.459,360.063 \n",
       "  \" fill=\"#e26f46\" fill-opacity=\"1\"/>\n",
       "<polyline clip-path=\"url(#clip6402)\" style=\"stroke:#000000; stroke-width:1; stroke-opacity:1; fill:none\" points=\"\n",
       "  394.459,360.063 394.459,360.065 398.535,360.065 398.535,360.063 394.459,360.063 \n",
       "  \"/>\n",
       "<polygon clip-path=\"url(#clip6402)\" points=\"\n",
       "398.535,360.064 398.535,360.065 402.611,360.065 402.611,360.064 398.535,360.064 398.535,360.064 \n",
       "  \" fill=\"#e26f46\" fill-opacity=\"1\"/>\n",
       "<polyline clip-path=\"url(#clip6402)\" style=\"stroke:#000000; stroke-width:1; stroke-opacity:1; fill:none\" points=\"\n",
       "  398.535,360.064 398.535,360.065 402.611,360.065 402.611,360.064 398.535,360.064 \n",
       "  \"/>\n",
       "<polygon clip-path=\"url(#clip6402)\" points=\"\n",
       "402.611,360.047 402.611,360.065 406.687,360.065 406.687,360.047 402.611,360.047 402.611,360.047 \n",
       "  \" fill=\"#e26f46\" fill-opacity=\"1\"/>\n",
       "<polyline clip-path=\"url(#clip6402)\" style=\"stroke:#000000; stroke-width:1; stroke-opacity:1; fill:none\" points=\"\n",
       "  402.611,360.047 402.611,360.065 406.687,360.065 406.687,360.047 402.611,360.047 \n",
       "  \"/>\n",
       "<polygon clip-path=\"url(#clip6402)\" points=\"\n",
       "406.687,360.064 406.687,360.065 410.762,360.065 410.762,360.064 406.687,360.064 406.687,360.064 \n",
       "  \" fill=\"#e26f46\" fill-opacity=\"1\"/>\n",
       "<polyline clip-path=\"url(#clip6402)\" style=\"stroke:#000000; stroke-width:1; stroke-opacity:1; fill:none\" points=\"\n",
       "  406.687,360.064 406.687,360.065 410.762,360.065 410.762,360.064 406.687,360.064 \n",
       "  \"/>\n",
       "<polygon clip-path=\"url(#clip6402)\" points=\"\n",
       "410.762,360.063 410.762,360.065 414.838,360.065 414.838,360.063 410.762,360.063 410.762,360.063 \n",
       "  \" fill=\"#e26f46\" fill-opacity=\"1\"/>\n",
       "<polyline clip-path=\"url(#clip6402)\" style=\"stroke:#000000; stroke-width:1; stroke-opacity:1; fill:none\" points=\"\n",
       "  410.762,360.063 410.762,360.065 414.838,360.065 414.838,360.063 410.762,360.063 \n",
       "  \"/>\n",
       "<polygon clip-path=\"url(#clip6402)\" points=\"\n",
       "414.838,360.064 414.838,360.065 418.914,360.065 418.914,360.064 414.838,360.064 414.838,360.064 \n",
       "  \" fill=\"#e26f46\" fill-opacity=\"1\"/>\n",
       "<polyline clip-path=\"url(#clip6402)\" style=\"stroke:#000000; stroke-width:1; stroke-opacity:1; fill:none\" points=\"\n",
       "  414.838,360.064 414.838,360.065 418.914,360.065 418.914,360.064 414.838,360.064 \n",
       "  \"/>\n",
       "<polygon clip-path=\"url(#clip6402)\" points=\"\n",
       "418.914,360.063 418.914,360.065 422.99,360.065 422.99,360.063 418.914,360.063 418.914,360.063 \n",
       "  \" fill=\"#e26f46\" fill-opacity=\"1\"/>\n",
       "<polyline clip-path=\"url(#clip6402)\" style=\"stroke:#000000; stroke-width:1; stroke-opacity:1; fill:none\" points=\"\n",
       "  418.914,360.063 418.914,360.065 422.99,360.065 422.99,360.063 418.914,360.063 \n",
       "  \"/>\n",
       "<polygon clip-path=\"url(#clip6402)\" points=\"\n",
       "422.99,360.064 422.99,360.065 427.066,360.065 427.066,360.064 422.99,360.064 422.99,360.064 \n",
       "  \" fill=\"#e26f46\" fill-opacity=\"1\"/>\n",
       "<polyline clip-path=\"url(#clip6402)\" style=\"stroke:#000000; stroke-width:1; stroke-opacity:1; fill:none\" points=\"\n",
       "  422.99,360.064 422.99,360.065 427.066,360.065 427.066,360.064 422.99,360.064 \n",
       "  \"/>\n",
       "<polygon clip-path=\"url(#clip6402)\" points=\"\n",
       "427.066,360.064 427.066,360.065 431.141,360.065 431.141,360.064 427.066,360.064 427.066,360.064 \n",
       "  \" fill=\"#e26f46\" fill-opacity=\"1\"/>\n",
       "<polyline clip-path=\"url(#clip6402)\" style=\"stroke:#000000; stroke-width:1; stroke-opacity:1; fill:none\" points=\"\n",
       "  427.066,360.064 427.066,360.065 431.141,360.065 431.141,360.064 427.066,360.064 \n",
       "  \"/>\n",
       "<polygon clip-path=\"url(#clip6402)\" points=\"\n",
       "431.141,360.065 431.141,360.065 435.217,360.065 435.217,360.065 431.141,360.065 431.141,360.065 \n",
       "  \" fill=\"#e26f46\" fill-opacity=\"1\"/>\n",
       "<polyline clip-path=\"url(#clip6402)\" style=\"stroke:#000000; stroke-width:1; stroke-opacity:1; fill:none\" points=\"\n",
       "  431.141,360.065 431.141,360.065 435.217,360.065 435.217,360.065 431.141,360.065 \n",
       "  \"/>\n",
       "<polygon clip-path=\"url(#clip6402)\" points=\"\n",
       "435.217,360.063 435.217,360.065 439.293,360.065 439.293,360.063 435.217,360.063 435.217,360.063 \n",
       "  \" fill=\"#e26f46\" fill-opacity=\"1\"/>\n",
       "<polyline clip-path=\"url(#clip6402)\" style=\"stroke:#000000; stroke-width:1; stroke-opacity:1; fill:none\" points=\"\n",
       "  435.217,360.063 435.217,360.065 439.293,360.065 439.293,360.063 435.217,360.063 \n",
       "  \"/>\n",
       "<polygon clip-path=\"url(#clip6402)\" points=\"\n",
       "439.293,360.065 439.293,360.065 443.369,360.065 443.369,360.065 439.293,360.065 439.293,360.065 \n",
       "  \" fill=\"#e26f46\" fill-opacity=\"1\"/>\n",
       "<polyline clip-path=\"url(#clip6402)\" style=\"stroke:#000000; stroke-width:1; stroke-opacity:1; fill:none\" points=\"\n",
       "  439.293,360.065 439.293,360.065 443.369,360.065 443.369,360.065 439.293,360.065 \n",
       "  \"/>\n",
       "<polygon clip-path=\"url(#clip6402)\" points=\"\n",
       "443.369,360.059 443.369,360.065 447.444,360.065 447.444,360.059 443.369,360.059 443.369,360.059 \n",
       "  \" fill=\"#e26f46\" fill-opacity=\"1\"/>\n",
       "<polyline clip-path=\"url(#clip6402)\" style=\"stroke:#000000; stroke-width:1; stroke-opacity:1; fill:none\" points=\"\n",
       "  443.369,360.059 443.369,360.065 447.444,360.065 447.444,360.059 443.369,360.059 \n",
       "  \"/>\n",
       "<polygon clip-path=\"url(#clip6402)\" points=\"\n",
       "447.444,360.065 447.444,360.065 451.52,360.065 451.52,360.065 447.444,360.065 447.444,360.065 \n",
       "  \" fill=\"#e26f46\" fill-opacity=\"1\"/>\n",
       "<polyline clip-path=\"url(#clip6402)\" style=\"stroke:#000000; stroke-width:1; stroke-opacity:1; fill:none\" points=\"\n",
       "  447.444,360.065 447.444,360.065 451.52,360.065 451.52,360.065 447.444,360.065 \n",
       "  \"/>\n",
       "<polygon clip-path=\"url(#clip6402)\" points=\"\n",
       "451.52,360.063 451.52,360.065 455.596,360.065 455.596,360.063 451.52,360.063 451.52,360.063 \n",
       "  \" fill=\"#e26f46\" fill-opacity=\"1\"/>\n",
       "<polyline clip-path=\"url(#clip6402)\" style=\"stroke:#000000; stroke-width:1; stroke-opacity:1; fill:none\" points=\"\n",
       "  451.52,360.063 451.52,360.065 455.596,360.065 455.596,360.063 451.52,360.063 \n",
       "  \"/>\n",
       "<polygon clip-path=\"url(#clip6402)\" points=\"\n",
       "455.596,360.064 455.596,360.065 459.672,360.065 459.672,360.064 455.596,360.064 455.596,360.064 \n",
       "  \" fill=\"#e26f46\" fill-opacity=\"1\"/>\n",
       "<polyline clip-path=\"url(#clip6402)\" style=\"stroke:#000000; stroke-width:1; stroke-opacity:1; fill:none\" points=\"\n",
       "  455.596,360.064 455.596,360.065 459.672,360.065 459.672,360.064 455.596,360.064 \n",
       "  \"/>\n",
       "<polygon clip-path=\"url(#clip6402)\" points=\"\n",
       "459.672,360.064 459.672,360.065 463.748,360.065 463.748,360.064 459.672,360.064 459.672,360.064 \n",
       "  \" fill=\"#e26f46\" fill-opacity=\"1\"/>\n",
       "<polyline clip-path=\"url(#clip6402)\" style=\"stroke:#000000; stroke-width:1; stroke-opacity:1; fill:none\" points=\"\n",
       "  459.672,360.064 459.672,360.065 463.748,360.065 463.748,360.064 459.672,360.064 \n",
       "  \"/>\n",
       "<polygon clip-path=\"url(#clip6402)\" points=\"\n",
       "463.748,360.065 463.748,360.065 467.823,360.065 467.823,360.065 463.748,360.065 463.748,360.065 \n",
       "  \" fill=\"#e26f46\" fill-opacity=\"1\"/>\n",
       "<polyline clip-path=\"url(#clip6402)\" style=\"stroke:#000000; stroke-width:1; stroke-opacity:1; fill:none\" points=\"\n",
       "  463.748,360.065 463.748,360.065 467.823,360.065 467.823,360.065 463.748,360.065 \n",
       "  \"/>\n",
       "<polygon clip-path=\"url(#clip6402)\" points=\"\n",
       "467.823,360.064 467.823,360.065 471.899,360.065 471.899,360.064 467.823,360.064 467.823,360.064 \n",
       "  \" fill=\"#e26f46\" fill-opacity=\"1\"/>\n",
       "<polyline clip-path=\"url(#clip6402)\" style=\"stroke:#000000; stroke-width:1; stroke-opacity:1; fill:none\" points=\"\n",
       "  467.823,360.064 467.823,360.065 471.899,360.065 471.899,360.064 467.823,360.064 \n",
       "  \"/>\n",
       "<polygon clip-path=\"url(#clip6402)\" points=\"\n",
       "471.899,360.065 471.899,360.065 475.975,360.065 475.975,360.065 471.899,360.065 471.899,360.065 \n",
       "  \" fill=\"#e26f46\" fill-opacity=\"1\"/>\n",
       "<polyline clip-path=\"url(#clip6402)\" style=\"stroke:#000000; stroke-width:1; stroke-opacity:1; fill:none\" points=\"\n",
       "  471.899,360.065 471.899,360.065 475.975,360.065 475.975,360.065 471.899,360.065 \n",
       "  \"/>\n",
       "<polygon clip-path=\"url(#clip6402)\" points=\"\n",
       "475.975,360.065 475.975,360.065 480.051,360.065 480.051,360.065 475.975,360.065 475.975,360.065 \n",
       "  \" fill=\"#e26f46\" fill-opacity=\"1\"/>\n",
       "<polyline clip-path=\"url(#clip6402)\" style=\"stroke:#000000; stroke-width:1; stroke-opacity:1; fill:none\" points=\"\n",
       "  475.975,360.065 475.975,360.065 480.051,360.065 480.051,360.065 475.975,360.065 \n",
       "  \"/>\n",
       "<polygon clip-path=\"url(#clip6402)\" points=\"\n",
       "480.051,360.065 480.051,360.065 484.126,360.065 484.126,360.065 480.051,360.065 480.051,360.065 \n",
       "  \" fill=\"#e26f46\" fill-opacity=\"1\"/>\n",
       "<polyline clip-path=\"url(#clip6402)\" style=\"stroke:#000000; stroke-width:1; stroke-opacity:1; fill:none\" points=\"\n",
       "  480.051,360.065 480.051,360.065 484.126,360.065 484.126,360.065 480.051,360.065 \n",
       "  \"/>\n",
       "<polygon clip-path=\"url(#clip6402)\" points=\"\n",
       "484.126,360.051 484.126,360.065 488.202,360.065 488.202,360.051 484.126,360.051 484.126,360.051 \n",
       "  \" fill=\"#e26f46\" fill-opacity=\"1\"/>\n",
       "<polyline clip-path=\"url(#clip6402)\" style=\"stroke:#000000; stroke-width:1; stroke-opacity:1; fill:none\" points=\"\n",
       "  484.126,360.051 484.126,360.065 488.202,360.065 488.202,360.051 484.126,360.051 \n",
       "  \"/>\n",
       "<polygon clip-path=\"url(#clip6402)\" points=\"\n",
       "488.202,360.065 488.202,360.065 492.278,360.065 492.278,360.065 488.202,360.065 488.202,360.065 \n",
       "  \" fill=\"#e26f46\" fill-opacity=\"1\"/>\n",
       "<polyline clip-path=\"url(#clip6402)\" style=\"stroke:#000000; stroke-width:1; stroke-opacity:1; fill:none\" points=\"\n",
       "  488.202,360.065 488.202,360.065 492.278,360.065 492.278,360.065 488.202,360.065 \n",
       "  \"/>\n",
       "<polygon clip-path=\"url(#clip6402)\" points=\"\n",
       "492.278,360.064 492.278,360.065 496.354,360.065 496.354,360.064 492.278,360.064 492.278,360.064 \n",
       "  \" fill=\"#e26f46\" fill-opacity=\"1\"/>\n",
       "<polyline clip-path=\"url(#clip6402)\" style=\"stroke:#000000; stroke-width:1; stroke-opacity:1; fill:none\" points=\"\n",
       "  492.278,360.064 492.278,360.065 496.354,360.065 496.354,360.064 492.278,360.064 \n",
       "  \"/>\n",
       "<polygon clip-path=\"url(#clip6402)\" points=\"\n",
       "496.354,360.064 496.354,360.065 500.43,360.065 500.43,360.064 496.354,360.064 496.354,360.064 \n",
       "  \" fill=\"#e26f46\" fill-opacity=\"1\"/>\n",
       "<polyline clip-path=\"url(#clip6402)\" style=\"stroke:#000000; stroke-width:1; stroke-opacity:1; fill:none\" points=\"\n",
       "  496.354,360.064 496.354,360.065 500.43,360.065 500.43,360.064 496.354,360.064 \n",
       "  \"/>\n",
       "<polygon clip-path=\"url(#clip6402)\" points=\"\n",
       "500.43,360.064 500.43,360.065 504.505,360.065 504.505,360.064 500.43,360.064 500.43,360.064 \n",
       "  \" fill=\"#e26f46\" fill-opacity=\"1\"/>\n",
       "<polyline clip-path=\"url(#clip6402)\" style=\"stroke:#000000; stroke-width:1; stroke-opacity:1; fill:none\" points=\"\n",
       "  500.43,360.064 500.43,360.065 504.505,360.065 504.505,360.064 500.43,360.064 \n",
       "  \"/>\n",
       "<polygon clip-path=\"url(#clip6402)\" points=\"\n",
       "504.505,360.065 504.505,360.065 508.581,360.065 508.581,360.065 504.505,360.065 504.505,360.065 \n",
       "  \" fill=\"#e26f46\" fill-opacity=\"1\"/>\n",
       "<polyline clip-path=\"url(#clip6402)\" style=\"stroke:#000000; stroke-width:1; stroke-opacity:1; fill:none\" points=\"\n",
       "  504.505,360.065 504.505,360.065 508.581,360.065 508.581,360.065 504.505,360.065 \n",
       "  \"/>\n",
       "<polygon clip-path=\"url(#clip6402)\" points=\"\n",
       "508.581,360.064 508.581,360.065 512.657,360.065 512.657,360.064 508.581,360.064 508.581,360.064 \n",
       "  \" fill=\"#e26f46\" fill-opacity=\"1\"/>\n",
       "<polyline clip-path=\"url(#clip6402)\" style=\"stroke:#000000; stroke-width:1; stroke-opacity:1; fill:none\" points=\"\n",
       "  508.581,360.064 508.581,360.065 512.657,360.065 512.657,360.064 508.581,360.064 \n",
       "  \"/>\n",
       "<polygon clip-path=\"url(#clip6402)\" points=\"\n",
       "512.657,360.065 512.657,360.065 516.733,360.065 516.733,360.065 512.657,360.065 512.657,360.065 \n",
       "  \" fill=\"#e26f46\" fill-opacity=\"1\"/>\n",
       "<polyline clip-path=\"url(#clip6402)\" style=\"stroke:#000000; stroke-width:1; stroke-opacity:1; fill:none\" points=\"\n",
       "  512.657,360.065 512.657,360.065 516.733,360.065 516.733,360.065 512.657,360.065 \n",
       "  \"/>\n",
       "<polygon clip-path=\"url(#clip6402)\" points=\"\n",
       "516.733,360.064 516.733,360.065 520.809,360.065 520.809,360.064 516.733,360.064 516.733,360.064 \n",
       "  \" fill=\"#e26f46\" fill-opacity=\"1\"/>\n",
       "<polyline clip-path=\"url(#clip6402)\" style=\"stroke:#000000; stroke-width:1; stroke-opacity:1; fill:none\" points=\"\n",
       "  516.733,360.064 516.733,360.065 520.809,360.065 520.809,360.064 516.733,360.064 \n",
       "  \"/>\n",
       "<polygon clip-path=\"url(#clip6402)\" points=\"\n",
       "520.809,360.065 520.809,360.065 524.884,360.065 524.884,360.065 520.809,360.065 520.809,360.065 \n",
       "  \" fill=\"#e26f46\" fill-opacity=\"1\"/>\n",
       "<polyline clip-path=\"url(#clip6402)\" style=\"stroke:#000000; stroke-width:1; stroke-opacity:1; fill:none\" points=\"\n",
       "  520.809,360.065 520.809,360.065 524.884,360.065 524.884,360.065 520.809,360.065 \n",
       "  \"/>\n",
       "<polygon clip-path=\"url(#clip6402)\" points=\"\n",
       "524.884,360.062 524.884,360.065 528.96,360.065 528.96,360.062 524.884,360.062 524.884,360.062 \n",
       "  \" fill=\"#e26f46\" fill-opacity=\"1\"/>\n",
       "<polyline clip-path=\"url(#clip6402)\" style=\"stroke:#000000; stroke-width:1; stroke-opacity:1; fill:none\" points=\"\n",
       "  524.884,360.062 524.884,360.065 528.96,360.065 528.96,360.062 524.884,360.062 \n",
       "  \"/>\n",
       "<polygon clip-path=\"url(#clip6402)\" points=\"\n",
       "528.96,360.065 528.96,360.065 533.036,360.065 533.036,360.065 528.96,360.065 528.96,360.065 \n",
       "  \" fill=\"#e26f46\" fill-opacity=\"1\"/>\n",
       "<polyline clip-path=\"url(#clip6402)\" style=\"stroke:#000000; stroke-width:1; stroke-opacity:1; fill:none\" points=\"\n",
       "  528.96,360.065 528.96,360.065 533.036,360.065 533.036,360.065 528.96,360.065 \n",
       "  \"/>\n",
       "<polygon clip-path=\"url(#clip6402)\" points=\"\n",
       "533.036,360.065 533.036,360.065 537.112,360.065 537.112,360.065 533.036,360.065 533.036,360.065 \n",
       "  \" fill=\"#e26f46\" fill-opacity=\"1\"/>\n",
       "<polyline clip-path=\"url(#clip6402)\" style=\"stroke:#000000; stroke-width:1; stroke-opacity:1; fill:none\" points=\"\n",
       "  533.036,360.065 533.036,360.065 537.112,360.065 537.112,360.065 533.036,360.065 \n",
       "  \"/>\n",
       "<polygon clip-path=\"url(#clip6402)\" points=\"\n",
       "537.112,360.065 537.112,360.065 541.187,360.065 541.187,360.065 537.112,360.065 537.112,360.065 \n",
       "  \" fill=\"#e26f46\" fill-opacity=\"1\"/>\n",
       "<polyline clip-path=\"url(#clip6402)\" style=\"stroke:#000000; stroke-width:1; stroke-opacity:1; fill:none\" points=\"\n",
       "  537.112,360.065 537.112,360.065 541.187,360.065 541.187,360.065 537.112,360.065 \n",
       "  \"/>\n",
       "<polygon clip-path=\"url(#clip6402)\" points=\"\n",
       "541.187,360.064 541.187,360.065 545.263,360.065 545.263,360.064 541.187,360.064 541.187,360.064 \n",
       "  \" fill=\"#e26f46\" fill-opacity=\"1\"/>\n",
       "<polyline clip-path=\"url(#clip6402)\" style=\"stroke:#000000; stroke-width:1; stroke-opacity:1; fill:none\" points=\"\n",
       "  541.187,360.064 541.187,360.065 545.263,360.065 545.263,360.064 541.187,360.064 \n",
       "  \"/>\n",
       "<polygon clip-path=\"url(#clip6402)\" points=\"\n",
       "545.263,360.065 545.263,360.065 549.339,360.065 549.339,360.065 545.263,360.065 545.263,360.065 \n",
       "  \" fill=\"#e26f46\" fill-opacity=\"1\"/>\n",
       "<polyline clip-path=\"url(#clip6402)\" style=\"stroke:#000000; stroke-width:1; stroke-opacity:1; fill:none\" points=\"\n",
       "  545.263,360.065 545.263,360.065 549.339,360.065 549.339,360.065 545.263,360.065 \n",
       "  \"/>\n",
       "<polygon clip-path=\"url(#clip6402)\" points=\"\n",
       "549.339,360.064 549.339,360.065 553.415,360.065 553.415,360.064 549.339,360.064 549.339,360.064 \n",
       "  \" fill=\"#e26f46\" fill-opacity=\"1\"/>\n",
       "<polyline clip-path=\"url(#clip6402)\" style=\"stroke:#000000; stroke-width:1; stroke-opacity:1; fill:none\" points=\"\n",
       "  549.339,360.064 549.339,360.065 553.415,360.065 553.415,360.064 549.339,360.064 \n",
       "  \"/>\n",
       "<polygon clip-path=\"url(#clip6402)\" points=\"\n",
       "553.415,360.065 553.415,360.065 557.491,360.065 557.491,360.065 553.415,360.065 553.415,360.065 \n",
       "  \" fill=\"#e26f46\" fill-opacity=\"1\"/>\n",
       "<polyline clip-path=\"url(#clip6402)\" style=\"stroke:#000000; stroke-width:1; stroke-opacity:1; fill:none\" points=\"\n",
       "  553.415,360.065 553.415,360.065 557.491,360.065 557.491,360.065 553.415,360.065 \n",
       "  \"/>\n",
       "<polygon clip-path=\"url(#clip6402)\" points=\"\n",
       "557.491,360.065 557.491,360.065 561.566,360.065 561.566,360.065 557.491,360.065 557.491,360.065 \n",
       "  \" fill=\"#e26f46\" fill-opacity=\"1\"/>\n",
       "<polyline clip-path=\"url(#clip6402)\" style=\"stroke:#000000; stroke-width:1; stroke-opacity:1; fill:none\" points=\"\n",
       "  557.491,360.065 557.491,360.065 561.566,360.065 561.566,360.065 557.491,360.065 \n",
       "  \"/>\n",
       "<polygon clip-path=\"url(#clip6402)\" points=\"\n",
       "561.566,360.065 561.566,360.065 565.642,360.065 565.642,360.065 561.566,360.065 561.566,360.065 \n",
       "  \" fill=\"#e26f46\" fill-opacity=\"1\"/>\n",
       "<polyline clip-path=\"url(#clip6402)\" style=\"stroke:#000000; stroke-width:1; stroke-opacity:1; fill:none\" points=\"\n",
       "  561.566,360.065 561.566,360.065 565.642,360.065 565.642,360.065 561.566,360.065 \n",
       "  \"/>\n",
       "<polygon clip-path=\"url(#clip6400)\" points=\"\n",
       "477.948,97.7361 562.315,97.7361 562.315,52.3761 477.948,52.3761 \n",
       "  \" fill=\"#ffffff\" fill-opacity=\"1\"/>\n",
       "<polyline clip-path=\"url(#clip6400)\" style=\"stroke:#000000; stroke-width:1; stroke-opacity:1; fill:none\" points=\"\n",
       "  477.948,97.7361 562.315,97.7361 562.315,52.3761 477.948,52.3761 477.948,97.7361 \n",
       "  \"/>\n",
       "<polygon clip-path=\"url(#clip6400)\" points=\"\n",
       "483.948,73.5441 519.948,73.5441 519.948,61.4481 483.948,61.4481 483.948,73.5441 \n",
       "  \" fill=\"#009af9\" fill-opacity=\"1\"/>\n",
       "<polyline clip-path=\"url(#clip6400)\" style=\"stroke:#000000; stroke-width:1; stroke-opacity:1; fill:none\" points=\"\n",
       "  483.948,73.5441 519.948,73.5441 519.948,61.4481 483.948,61.4481 483.948,73.5441 \n",
       "  \"/>\n",
       "<g clip-path=\"url(#clip6400)\">\n",
       "<text style=\"fill:#000000; fill-opacity:1; font-family:Arial,Helvetica Neue,Helvetica,sans-serif; font-size:12; text-anchor:start;\" transform=\"rotate(0, 525.948, 71.9961)\" x=\"525.948\" y=\"71.9961\">Fare</text>\n",
       "</g>\n",
       "<polygon clip-path=\"url(#clip6400)\" points=\"\n",
       "483.948,88.6641 519.948,88.6641 519.948,76.5681 483.948,76.5681 483.948,88.6641 \n",
       "  \" fill=\"#e26f46\" fill-opacity=\"1\"/>\n",
       "<polyline clip-path=\"url(#clip6400)\" style=\"stroke:#000000; stroke-width:1; stroke-opacity:1; fill:none\" points=\"\n",
       "  483.948,88.6641 519.948,88.6641 519.948,76.5681 483.948,76.5681 483.948,88.6641 \n",
       "  \"/>\n",
       "<g clip-path=\"url(#clip6400)\">\n",
       "<text style=\"fill:#000000; fill-opacity:1; font-family:Arial,Helvetica Neue,Helvetica,sans-serif; font-size:12; text-anchor:start;\" transform=\"rotate(0, 525.948, 87.1161)\" x=\"525.948\" y=\"87.1161\">Tip</text>\n",
       "</g>\n",
       "</svg>\n"
      ]
     },
     "execution_count": 36,
     "metadata": {},
     "output_type": "execute_result"
    }
   ],
   "source": [
    "@time h = reduce(2 * OHistogram(0:.5:60), db; \n",
    "    select = (:fare_amount, :tip_amount))\n",
    "plot(h, label = [:Fare :Tip], xlab = :Amount, title = \"Fare and Tips\")"
   ]
  },
  {
   "cell_type": "markdown",
   "metadata": {
    "slideshow": {
     "slide_type": "slide"
    }
   },
   "source": [
    "# Generic programming"
   ]
  },
  {
   "cell_type": "code",
   "execution_count": 36,
   "metadata": {
    "slideshow": {
     "slide_type": "skip"
    }
   },
   "outputs": [
    {
     "name": "stderr",
     "output_type": "stream",
     "text": [
      "WARNING: using IntervalArithmetic... in module Main conflicts with an existing identifier.\n"
     ]
    }
   ],
   "source": [
    "using IntervalArithmetic"
   ]
  },
  {
   "cell_type": "markdown",
   "metadata": {
    "slideshow": {
     "slide_type": "fragment"
    }
   },
   "source": [
    "```julia\n",
    "struct Interval{T<:Real} <: AbstractInterval{T}\n",
    "    lo :: T\n",
    "    hi :: T\n",
    "end\n",
    "```"
   ]
  },
  {
   "cell_type": "code",
   "execution_count": 37,
   "metadata": {
    "slideshow": {
     "slide_type": "fragment"
    }
   },
   "outputs": [
    {
     "name": "stderr",
     "output_type": "stream",
     "text": [
      "WARNING: using IntervalArithmetic... in module Main conflicts with an existing identifier.\n"
     ]
    },
    {
     "data": {
      "text/plain": [
       "Table with 1000 rows, 2 columns:\n",
       "x     y\n",
       "────────────────────────────\n",
       "0.01  [0.322962, 0.332643]\n",
       "0.02  [-0.0439964, -0.03876]\n",
       "0.03  [0.538294, 0.544605]\n",
       "0.04  [0.505144, 0.51171]\n",
       "0.05  [0.191351, 0.193898]\n",
       "0.06  [0.491707, 0.501525]\n",
       "0.07  [1.73475, 1.74019]\n",
       "0.08  [1.84793, 1.85041]\n",
       "0.09  [1.78546, 1.79336]\n",
       "0.1   [1.33753, 1.33804]\n",
       "0.11  [1.80163, 1.80276]\n",
       "0.12  [2.16451, 2.16617]\n",
       "⋮\n",
       "9.9   [10.1441, 10.1465]\n",
       "9.91  [11.0515, 11.0616]\n",
       "9.92  [8.32325, 8.32436]\n",
       "9.93  [6.30902, 6.31034]\n",
       "9.94  [7.50891, 7.512]\n",
       "9.95  [8.93406, 8.94314]\n",
       "9.96  [8.37298, 8.37558]\n",
       "9.97  [8.5586, 8.56715]\n",
       "9.98  [9.34336, 9.34716]\n",
       "9.99  [10.1923, 10.1928]\n",
       "10.0  [12.0832, 12.0855]"
      ]
     },
     "execution_count": 37,
     "metadata": {},
     "output_type": "execute_result"
    }
   ],
   "source": [
    "using IntervalArithmetic\n",
    "\n",
    "y0 = cumsum(randn(1000))\n",
    "dx = 0.01 .* rand(1000)\n",
    "y = IntervalArithmetic.Interval.(y0, y0.+dx)\n",
    "\n",
    "sensor = table([0.01:0.01:10;], y, names=[:x,:y])"
   ]
  },
  {
   "cell_type": "markdown",
   "metadata": {
    "slideshow": {
     "slide_type": "slide"
    }
   },
   "source": [
    "# Generic programming"
   ]
  },
  {
   "cell_type": "code",
   "execution_count": 38,
   "metadata": {
    "slideshow": {
     "slide_type": "-"
    }
   },
   "outputs": [
    {
     "data": {
      "text/plain": [
       "▦ Series{0}  |  EqualWeight  |  nobs = 1000\n",
       "└── Mean{Interval{Float64}}([-1.82017, 5.75715])"
      ]
     },
     "execution_count": 38,
     "metadata": {},
     "output_type": "execute_result"
    }
   ],
   "source": [
    "reduce(Mean{IntervalArithmetic.Interval{Float64}}(), sensor, select=:y)\n"
   ]
  },
  {
   "cell_type": "markdown",
   "metadata": {
    "slideshow": {
     "slide_type": "slide"
    }
   },
   "source": [
    "# Benchmarks\n",
    "\n",
    "\n",
    "bit.ly/juliadb-pydata-benchmarks"
   ]
  },
  {
   "cell_type": "code",
   "execution_count": 9,
   "metadata": {
    "slideshow": {
     "slide_type": "skip"
    }
   },
   "outputs": [
    {
     "data": {
      "text/plain": [
       "Table with 13 rows, 4 columns:\n",
       "benchgroup   benchmark                                   JuliaDB  Pandas\n",
       "─────────────────────────────────────────────────────────────────────────\n",
       "\"loadtable\"  \"Read CSV (DateTime)\"                       16.8086  32.8733\n",
       "\"loadtable\"  \"Read CSV (String)\"                         18.0826  29.6489\n",
       "\"groupby\"    \"mean(VendorID)\"                            11.797   16.487\n",
       "\"groupby\"    \"count(dayofweek, passenger_count)\"         47.192   83.629\n",
       "\"groupby\"    \"count(UDF, passenger_count)\"               51.797   280.981\n",
       "\"groupby\"    \"count(dayofweek, passenger_count, floor)\"  190.741  115.429\n",
       "\"groupby\"    \"count(passenger_count, dayofweek)\"         5.207    51.726\n",
       "\"join\"       \"Inner Join (String)\"                       41.59    16.48\n",
       "\"join\"       \"Inner Join (Number)\"                       12.4     19.28\n",
       "\"join\"       \"Outer Join (String)\"                       44.43    24.92\n",
       "\"join\"       \"Outer Join (Number)\"                       15.06    37.32\n",
       "\"join\"       \"Left Join (String)\"                        42.88    16.87\n",
       "\"join\"       \"Left Join (Number)\"                        13.34    19.57"
      ]
     },
     "execution_count": 9,
     "metadata": {},
     "output_type": "execute_result"
    }
   ],
   "source": [
    "benchtype = vcat(fill(\"loadtable\", 2), fill(\"groupby\", 5), fill(\"join\", 6))\n",
    "bench = [\"Read CSV (DateTime)\", \n",
    "    \"Read CSV (String)\", \n",
    "    \"mean(VendorID)\", \n",
    "    \"count(dayofweek, passenger_count)\",\n",
    "    \"count(UDF, passenger_count)\", \n",
    "    \"count(dayofweek, passenger_count, floor)\", \n",
    "    \"count(passenger_count, dayofweek)\", \n",
    "    \"Inner Join (String)\", \"Inner Join (Number)\", \"Outer Join (String)\", \"Outer Join (Number)\",\n",
    "    \"Left Join (String)\",\"Left Join (Number)\"]\n",
    "jdb = [16.8086,18.0826,11.797,47.192, 51.797,190.741, 5.207,41.59,12.40,44.43,15.06,42.88,13.34]\n",
    "pan = [32.8733,29.6489,16.487,83.629,280.981,115.429,51.726,16.48,19.28,24.92,37.32,16.87,19.57]\n",
    "\n",
    "tb = table(benchtype, bench, jdb, pan; names = [:benchgroup, :benchmark, :JuliaDB, :Pandas])"
   ]
  },
  {
   "cell_type": "code",
   "execution_count": 10,
   "metadata": {
    "collapsed": true,
    "slideshow": {
     "slide_type": "skip"
    }
   },
   "outputs": [],
   "source": [
    "ratio = JuliaDB.select(tb, (:JuliaDB, :Pandas) => t -> t[1] / t[2])\n",
    "plt = scatter(JuliaDB.select(tb, :benchgroup), ratio, group=JuliaDB.select(tb, :benchmark),\n",
    "    title = \"JuliaDB vs. Pandas Benchmarks\", size=(1000, 400), ylab = \"Time Relative to Pandas\");"
   ]
  },
  {
   "cell_type": "code",
   "execution_count": 11,
   "metadata": {
    "slideshow": {
     "slide_type": "slide"
    }
   },
   "outputs": [
    {
     "data": {
      "text/html": [
       "<?xml version=\"1.0\" encoding=\"utf-8\"?>\n",
       "<svg xmlns=\"http://www.w3.org/2000/svg\" xmlns:xlink=\"http://www.w3.org/1999/xlink\" width=\"1000\" height=\"400\" viewBox=\"0 0 1000 400\">\n",
       "<defs>\n",
       "  <clipPath id=\"clip00\">\n",
       "    <rect x=\"0\" y=\"0\" width=\"1000\" height=\"400\"/>\n",
       "  </clipPath>\n",
       "</defs>\n",
       "<polygon clip-path=\"url(#clip3000)\" points=\"\n",
       "0,400 1000,400 1000,0 0,0 \n",
       "  \" fill=\"#ffffff\" fill-opacity=\"1\"/>\n",
       "<defs>\n",
       "  <clipPath id=\"clip01\">\n",
       "    <rect x=\"200\" y=\"0\" width=\"701\" height=\"400\"/>\n",
       "  </clipPath>\n",
       "</defs>\n",
       "<polygon clip-path=\"url(#clip3000)\" points=\"\n",
       "47.9701,375.813 980.315,375.813 980.315,31.4961 47.9701,31.4961 \n",
       "  \" fill=\"#ffffff\" fill-opacity=\"1\"/>\n",
       "<defs>\n",
       "  <clipPath id=\"clip02\">\n",
       "    <rect x=\"47\" y=\"31\" width=\"933\" height=\"345\"/>\n",
       "  </clipPath>\n",
       "</defs>\n",
       "<polyline clip-path=\"url(#clip3002)\" style=\"stroke:#000000; stroke-width:0.5; stroke-opacity:0.1; fill:none\" points=\"\n",
       "  74.3573,370.649 74.3573,36.6608 \n",
       "  \"/>\n",
       "<polyline clip-path=\"url(#clip3002)\" style=\"stroke:#000000; stroke-width:0.5; stroke-opacity:0.1; fill:none\" points=\"\n",
       "  514.143,370.649 514.143,36.6608 \n",
       "  \"/>\n",
       "<polyline clip-path=\"url(#clip3002)\" style=\"stroke:#000000; stroke-width:0.5; stroke-opacity:0.1; fill:none\" points=\"\n",
       "  953.928,370.649 953.928,36.6608 \n",
       "  \"/>\n",
       "<polyline clip-path=\"url(#clip3002)\" style=\"stroke:#000000; stroke-width:0.5; stroke-opacity:0.1; fill:none\" points=\"\n",
       "  61.9553,312.931 966.33,312.931 \n",
       "  \"/>\n",
       "<polyline clip-path=\"url(#clip3002)\" style=\"stroke:#000000; stroke-width:0.5; stroke-opacity:0.1; fill:none\" points=\"\n",
       "  61.9553,246.399 966.33,246.399 \n",
       "  \"/>\n",
       "<polyline clip-path=\"url(#clip3002)\" style=\"stroke:#000000; stroke-width:0.5; stroke-opacity:0.1; fill:none\" points=\"\n",
       "  61.9553,179.866 966.33,179.866 \n",
       "  \"/>\n",
       "<polyline clip-path=\"url(#clip3002)\" style=\"stroke:#000000; stroke-width:0.5; stroke-opacity:0.1; fill:none\" points=\"\n",
       "  61.9553,113.334 966.33,113.334 \n",
       "  \"/>\n",
       "<polyline clip-path=\"url(#clip3002)\" style=\"stroke:#000000; stroke-width:0.5; stroke-opacity:0.1; fill:none\" points=\"\n",
       "  61.9553,46.8017 966.33,46.8017 \n",
       "  \"/>\n",
       "<polyline clip-path=\"url(#clip3000)\" style=\"stroke:#000000; stroke-width:1; stroke-opacity:1; fill:none\" points=\"\n",
       "  47.9701,375.813 980.315,375.813 \n",
       "  \"/>\n",
       "<polyline clip-path=\"url(#clip3000)\" style=\"stroke:#000000; stroke-width:1; stroke-opacity:1; fill:none\" points=\"\n",
       "  47.9701,375.813 47.9701,31.4961 \n",
       "  \"/>\n",
       "<polyline clip-path=\"url(#clip3000)\" style=\"stroke:#000000; stroke-width:1; stroke-opacity:1; fill:none\" points=\"\n",
       "  74.3573,375.813 74.3573,370.649 \n",
       "  \"/>\n",
       "<polyline clip-path=\"url(#clip3000)\" style=\"stroke:#000000; stroke-width:1; stroke-opacity:1; fill:none\" points=\"\n",
       "  514.143,375.813 514.143,370.649 \n",
       "  \"/>\n",
       "<polyline clip-path=\"url(#clip3000)\" style=\"stroke:#000000; stroke-width:1; stroke-opacity:1; fill:none\" points=\"\n",
       "  953.928,375.813 953.928,370.649 \n",
       "  \"/>\n",
       "<polyline clip-path=\"url(#clip3000)\" style=\"stroke:#000000; stroke-width:1; stroke-opacity:1; fill:none\" points=\"\n",
       "  47.9701,312.931 61.9553,312.931 \n",
       "  \"/>\n",
       "<polyline clip-path=\"url(#clip3000)\" style=\"stroke:#000000; stroke-width:1; stroke-opacity:1; fill:none\" points=\"\n",
       "  47.9701,246.399 61.9553,246.399 \n",
       "  \"/>\n",
       "<polyline clip-path=\"url(#clip3000)\" style=\"stroke:#000000; stroke-width:1; stroke-opacity:1; fill:none\" points=\"\n",
       "  47.9701,179.866 61.9553,179.866 \n",
       "  \"/>\n",
       "<polyline clip-path=\"url(#clip3000)\" style=\"stroke:#000000; stroke-width:1; stroke-opacity:1; fill:none\" points=\"\n",
       "  47.9701,113.334 61.9553,113.334 \n",
       "  \"/>\n",
       "<polyline clip-path=\"url(#clip3000)\" style=\"stroke:#000000; stroke-width:1; stroke-opacity:1; fill:none\" points=\"\n",
       "  47.9701,46.8017 61.9553,46.8017 \n",
       "  \"/>\n",
       "<g clip-path=\"url(#clip3000)\">\n",
       "<text style=\"fill:#000000; fill-opacity:1; font-family:Arial,Helvetica Neue,Helvetica,sans-serif; font-size:12; text-anchor:middle;\" transform=\"rotate(0, 74.3573, 391.613)\" x=\"74.3573\" y=\"391.613\">join</text>\n",
       "</g>\n",
       "<g clip-path=\"url(#clip3000)\">\n",
       "<text style=\"fill:#000000; fill-opacity:1; font-family:Arial,Helvetica Neue,Helvetica,sans-serif; font-size:12; text-anchor:middle;\" transform=\"rotate(0, 514.143, 391.613)\" x=\"514.143\" y=\"391.613\">loadtable</text>\n",
       "</g>\n",
       "<g clip-path=\"url(#clip3000)\">\n",
       "<text style=\"fill:#000000; fill-opacity:1; font-family:Arial,Helvetica Neue,Helvetica,sans-serif; font-size:12; text-anchor:middle;\" transform=\"rotate(0, 953.928, 391.613)\" x=\"953.928\" y=\"391.613\">groupby</text>\n",
       "</g>\n",
       "<g clip-path=\"url(#clip3000)\">\n",
       "<text style=\"fill:#000000; fill-opacity:1; font-family:Arial,Helvetica Neue,Helvetica,sans-serif; font-size:12; text-anchor:end;\" transform=\"rotate(0, 37.9701, 317.431)\" x=\"37.9701\" y=\"317.431\">0.5</text>\n",
       "</g>\n",
       "<g clip-path=\"url(#clip3000)\">\n",
       "<text style=\"fill:#000000; fill-opacity:1; font-family:Arial,Helvetica Neue,Helvetica,sans-serif; font-size:12; text-anchor:end;\" transform=\"rotate(0, 37.9701, 250.899)\" x=\"37.9701\" y=\"250.899\">1.0</text>\n",
       "</g>\n",
       "<g clip-path=\"url(#clip3000)\">\n",
       "<text style=\"fill:#000000; fill-opacity:1; font-family:Arial,Helvetica Neue,Helvetica,sans-serif; font-size:12; text-anchor:end;\" transform=\"rotate(0, 37.9701, 184.366)\" x=\"37.9701\" y=\"184.366\">1.5</text>\n",
       "</g>\n",
       "<g clip-path=\"url(#clip3000)\">\n",
       "<text style=\"fill:#000000; fill-opacity:1; font-family:Arial,Helvetica Neue,Helvetica,sans-serif; font-size:12; text-anchor:end;\" transform=\"rotate(0, 37.9701, 117.834)\" x=\"37.9701\" y=\"117.834\">2.0</text>\n",
       "</g>\n",
       "<g clip-path=\"url(#clip3000)\">\n",
       "<text style=\"fill:#000000; fill-opacity:1; font-family:Arial,Helvetica Neue,Helvetica,sans-serif; font-size:12; text-anchor:end;\" transform=\"rotate(0, 37.9701, 51.3017)\" x=\"37.9701\" y=\"51.3017\">2.5</text>\n",
       "</g>\n",
       "<g clip-path=\"url(#clip3000)\">\n",
       "<text style=\"fill:#000000; fill-opacity:1; font-family:Arial,Helvetica Neue,Helvetica,sans-serif; font-size:21; text-anchor:middle;\" transform=\"rotate(0, 514.143, 18)\" x=\"514.143\" y=\"18\">JuliaDB vs. Pandas Benchmarks</text>\n",
       "</g>\n",
       "<g clip-path=\"url(#clip3000)\">\n",
       "<text style=\"fill:#000000; fill-opacity:1; font-family:Arial,Helvetica Neue,Helvetica,sans-serif; font-size:16; text-anchor:middle;\" transform=\"rotate(-90, 14.4, 203.655)\" x=\"14.4\" y=\"203.655\">Time Relative to Pandas</text>\n",
       "</g>\n",
       "<circle clip-path=\"url(#clip3002)\" style=\"fill:#000000; stroke:none; fill-opacity:1\" cx=\"74.3573\" cy=\"293.883\" r=\"4\"/>\n",
       "<circle clip-path=\"url(#clip3002)\" style=\"fill:#009af9; stroke:none; fill-opacity:1\" cx=\"74.3573\" cy=\"293.883\" r=\"3\"/>\n",
       "<circle clip-path=\"url(#clip3002)\" style=\"fill:#000000; stroke:none; fill-opacity:1\" cx=\"74.3573\" cy=\"43.6527\" r=\"4\"/>\n",
       "<circle clip-path=\"url(#clip3002)\" style=\"fill:#e26f46; stroke:none; fill-opacity:1\" cx=\"74.3573\" cy=\"43.6527\" r=\"3\"/>\n",
       "<circle clip-path=\"url(#clip3002)\" style=\"fill:#000000; stroke:none; fill-opacity:1\" cx=\"74.3573\" cy=\"288.759\" r=\"4\"/>\n",
       "<circle clip-path=\"url(#clip3002)\" style=\"fill:#3da44d; stroke:none; fill-opacity:1\" cx=\"74.3573\" cy=\"288.759\" r=\"3\"/>\n",
       "<circle clip-path=\"url(#clip3002)\" style=\"fill:#000000; stroke:none; fill-opacity:1\" cx=\"74.3573\" cy=\"41.2409\" r=\"4\"/>\n",
       "<circle clip-path=\"url(#clip3002)\" style=\"fill:#c271d2; stroke:none; fill-opacity:1\" cx=\"74.3573\" cy=\"41.2409\" r=\"3\"/>\n",
       "<circle clip-path=\"url(#clip3002)\" style=\"fill:#000000; stroke:none; fill-opacity:1\" cx=\"74.3573\" cy=\"325.767\" r=\"4\"/>\n",
       "<circle clip-path=\"url(#clip3002)\" style=\"fill:#ac8d18; stroke:none; fill-opacity:1\" cx=\"74.3573\" cy=\"325.767\" r=\"3\"/>\n",
       "<circle clip-path=\"url(#clip3002)\" style=\"fill:#000000; stroke:none; fill-opacity:1\" cx=\"74.3573\" cy=\"142.222\" r=\"4\"/>\n",
       "<circle clip-path=\"url(#clip3002)\" style=\"fill:#00a9ad; stroke:none; fill-opacity:1\" cx=\"74.3573\" cy=\"142.222\" r=\"3\"/>\n",
       "<circle clip-path=\"url(#clip3002)\" style=\"fill:#000000; stroke:none; fill-opacity:1\" cx=\"514.143\" cy=\"311.426\" r=\"4\"/>\n",
       "<circle clip-path=\"url(#clip3002)\" style=\"fill:#ed5d92; stroke:none; fill-opacity:1\" cx=\"514.143\" cy=\"311.426\" r=\"3\"/>\n",
       "<circle clip-path=\"url(#clip3002)\" style=\"fill:#000000; stroke:none; fill-opacity:1\" cx=\"514.143\" cy=\"298.309\" r=\"4\"/>\n",
       "<circle clip-path=\"url(#clip3002)\" style=\"fill:#c68125; stroke:none; fill-opacity:1\" cx=\"514.143\" cy=\"298.309\" r=\"3\"/>\n",
       "<circle clip-path=\"url(#clip3002)\" style=\"fill:#000000; stroke:none; fill-opacity:1\" cx=\"953.928\" cy=\"354.934\" r=\"4\"/>\n",
       "<circle clip-path=\"url(#clip3002)\" style=\"fill:#00a98d; stroke:none; fill-opacity:1\" cx=\"953.928\" cy=\"354.934\" r=\"3\"/>\n",
       "<circle clip-path=\"url(#clip3002)\" style=\"fill:#000000; stroke:none; fill-opacity:1\" cx=\"953.928\" cy=\"304.375\" r=\"4\"/>\n",
       "<circle clip-path=\"url(#clip3002)\" style=\"fill:#8e971d; stroke:none; fill-opacity:1\" cx=\"953.928\" cy=\"304.375\" r=\"3\"/>\n",
       "<circle clip-path=\"url(#clip3002)\" style=\"fill:#000000; stroke:none; fill-opacity:1\" cx=\"953.928\" cy=\"159.58\" r=\"4\"/>\n",
       "<circle clip-path=\"url(#clip3002)\" style=\"fill:#00a8cb; stroke:none; fill-opacity:1\" cx=\"953.928\" cy=\"159.58\" r=\"3\"/>\n",
       "<circle clip-path=\"url(#clip3002)\" style=\"fill:#000000; stroke:none; fill-opacity:1\" cx=\"953.928\" cy=\"366.069\" r=\"4\"/>\n",
       "<circle clip-path=\"url(#clip3002)\" style=\"fill:#9b7fe8; stroke:none; fill-opacity:1\" cx=\"953.928\" cy=\"366.069\" r=\"3\"/>\n",
       "<circle clip-path=\"url(#clip3002)\" style=\"fill:#000000; stroke:none; fill-opacity:1\" cx=\"953.928\" cy=\"284.251\" r=\"4\"/>\n",
       "<circle clip-path=\"url(#clip3002)\" style=\"fill:#608cf6; stroke:none; fill-opacity:1\" cx=\"953.928\" cy=\"284.251\" r=\"3\"/>\n",
       "<polygon clip-path=\"url(#clip3000)\" points=\"\n",
       "629.633,288.056 950.315,288.056 950.315,76.3761 629.633,76.3761 \n",
       "  \" fill=\"#ffffff\" fill-opacity=\"1\"/>\n",
       "<polyline clip-path=\"url(#clip3000)\" style=\"stroke:#000000; stroke-width:1.4; stroke-opacity:1; fill:none\" points=\"\n",
       "  629.633,288.056 950.315,288.056 950.315,76.3761 629.633,76.3761 629.633,288.056 \n",
       "  \"/>\n",
       "<circle clip-path=\"url(#clip3000)\" style=\"fill:#000000; stroke:none; fill-opacity:1\" cx=\"674.633\" cy=\"91.4961\" r=\"6\"/>\n",
       "<circle clip-path=\"url(#clip3000)\" style=\"fill:#009af9; stroke:none; fill-opacity:1\" cx=\"674.633\" cy=\"91.4961\" r=\"5\"/>\n",
       "<g clip-path=\"url(#clip3000)\">\n",
       "<text style=\"fill:#000000; fill-opacity:1; font-family:Arial,Helvetica Neue,Helvetica,sans-serif; font-size:12; text-anchor:start;\" transform=\"rotate(0, 709.633, 95.9961)\" x=\"709.633\" y=\"95.9961\">Inner Join (Number)</text>\n",
       "</g>\n",
       "<circle clip-path=\"url(#clip3000)\" style=\"fill:#000000; stroke:none; fill-opacity:1\" cx=\"674.633\" cy=\"106.616\" r=\"6\"/>\n",
       "<circle clip-path=\"url(#clip3000)\" style=\"fill:#e26f46; stroke:none; fill-opacity:1\" cx=\"674.633\" cy=\"106.616\" r=\"5\"/>\n",
       "<g clip-path=\"url(#clip3000)\">\n",
       "<text style=\"fill:#000000; fill-opacity:1; font-family:Arial,Helvetica Neue,Helvetica,sans-serif; font-size:12; text-anchor:start;\" transform=\"rotate(0, 709.633, 111.116)\" x=\"709.633\" y=\"111.116\">Inner Join (String)</text>\n",
       "</g>\n",
       "<circle clip-path=\"url(#clip3000)\" style=\"fill:#000000; stroke:none; fill-opacity:1\" cx=\"674.633\" cy=\"121.736\" r=\"6\"/>\n",
       "<circle clip-path=\"url(#clip3000)\" style=\"fill:#3da44d; stroke:none; fill-opacity:1\" cx=\"674.633\" cy=\"121.736\" r=\"5\"/>\n",
       "<g clip-path=\"url(#clip3000)\">\n",
       "<text style=\"fill:#000000; fill-opacity:1; font-family:Arial,Helvetica Neue,Helvetica,sans-serif; font-size:12; text-anchor:start;\" transform=\"rotate(0, 709.633, 126.236)\" x=\"709.633\" y=\"126.236\">Left Join (Number)</text>\n",
       "</g>\n",
       "<circle clip-path=\"url(#clip3000)\" style=\"fill:#000000; stroke:none; fill-opacity:1\" cx=\"674.633\" cy=\"136.856\" r=\"6\"/>\n",
       "<circle clip-path=\"url(#clip3000)\" style=\"fill:#c271d2; stroke:none; fill-opacity:1\" cx=\"674.633\" cy=\"136.856\" r=\"5\"/>\n",
       "<g clip-path=\"url(#clip3000)\">\n",
       "<text style=\"fill:#000000; fill-opacity:1; font-family:Arial,Helvetica Neue,Helvetica,sans-serif; font-size:12; text-anchor:start;\" transform=\"rotate(0, 709.633, 141.356)\" x=\"709.633\" y=\"141.356\">Left Join (String)</text>\n",
       "</g>\n",
       "<circle clip-path=\"url(#clip3000)\" style=\"fill:#000000; stroke:none; fill-opacity:1\" cx=\"674.633\" cy=\"151.976\" r=\"6\"/>\n",
       "<circle clip-path=\"url(#clip3000)\" style=\"fill:#ac8d18; stroke:none; fill-opacity:1\" cx=\"674.633\" cy=\"151.976\" r=\"5\"/>\n",
       "<g clip-path=\"url(#clip3000)\">\n",
       "<text style=\"fill:#000000; fill-opacity:1; font-family:Arial,Helvetica Neue,Helvetica,sans-serif; font-size:12; text-anchor:start;\" transform=\"rotate(0, 709.633, 156.476)\" x=\"709.633\" y=\"156.476\">Outer Join (Number)</text>\n",
       "</g>\n",
       "<circle clip-path=\"url(#clip3000)\" style=\"fill:#000000; stroke:none; fill-opacity:1\" cx=\"674.633\" cy=\"167.096\" r=\"6\"/>\n",
       "<circle clip-path=\"url(#clip3000)\" style=\"fill:#00a9ad; stroke:none; fill-opacity:1\" cx=\"674.633\" cy=\"167.096\" r=\"5\"/>\n",
       "<g clip-path=\"url(#clip3000)\">\n",
       "<text style=\"fill:#000000; fill-opacity:1; font-family:Arial,Helvetica Neue,Helvetica,sans-serif; font-size:12; text-anchor:start;\" transform=\"rotate(0, 709.633, 171.596)\" x=\"709.633\" y=\"171.596\">Outer Join (String)</text>\n",
       "</g>\n",
       "<circle clip-path=\"url(#clip3000)\" style=\"fill:#000000; stroke:none; fill-opacity:1\" cx=\"674.633\" cy=\"182.216\" r=\"6\"/>\n",
       "<circle clip-path=\"url(#clip3000)\" style=\"fill:#ed5d92; stroke:none; fill-opacity:1\" cx=\"674.633\" cy=\"182.216\" r=\"5\"/>\n",
       "<g clip-path=\"url(#clip3000)\">\n",
       "<text style=\"fill:#000000; fill-opacity:1; font-family:Arial,Helvetica Neue,Helvetica,sans-serif; font-size:12; text-anchor:start;\" transform=\"rotate(0, 709.633, 186.716)\" x=\"709.633\" y=\"186.716\">Read CSV (DateTime)</text>\n",
       "</g>\n",
       "<circle clip-path=\"url(#clip3000)\" style=\"fill:#000000; stroke:none; fill-opacity:1\" cx=\"674.633\" cy=\"197.336\" r=\"6\"/>\n",
       "<circle clip-path=\"url(#clip3000)\" style=\"fill:#c68125; stroke:none; fill-opacity:1\" cx=\"674.633\" cy=\"197.336\" r=\"5\"/>\n",
       "<g clip-path=\"url(#clip3000)\">\n",
       "<text style=\"fill:#000000; fill-opacity:1; font-family:Arial,Helvetica Neue,Helvetica,sans-serif; font-size:12; text-anchor:start;\" transform=\"rotate(0, 709.633, 201.836)\" x=\"709.633\" y=\"201.836\">Read CSV (String)</text>\n",
       "</g>\n",
       "<circle clip-path=\"url(#clip3000)\" style=\"fill:#000000; stroke:none; fill-opacity:1\" cx=\"674.633\" cy=\"212.456\" r=\"6\"/>\n",
       "<circle clip-path=\"url(#clip3000)\" style=\"fill:#00a98d; stroke:none; fill-opacity:1\" cx=\"674.633\" cy=\"212.456\" r=\"5\"/>\n",
       "<g clip-path=\"url(#clip3000)\">\n",
       "<text style=\"fill:#000000; fill-opacity:1; font-family:Arial,Helvetica Neue,Helvetica,sans-serif; font-size:12; text-anchor:start;\" transform=\"rotate(0, 709.633, 216.956)\" x=\"709.633\" y=\"216.956\">count(UDF, passenger_count)</text>\n",
       "</g>\n",
       "<circle clip-path=\"url(#clip3000)\" style=\"fill:#000000; stroke:none; fill-opacity:1\" cx=\"674.633\" cy=\"227.576\" r=\"6\"/>\n",
       "<circle clip-path=\"url(#clip3000)\" style=\"fill:#8e971d; stroke:none; fill-opacity:1\" cx=\"674.633\" cy=\"227.576\" r=\"5\"/>\n",
       "<g clip-path=\"url(#clip3000)\">\n",
       "<text style=\"fill:#000000; fill-opacity:1; font-family:Arial,Helvetica Neue,Helvetica,sans-serif; font-size:12; text-anchor:start;\" transform=\"rotate(0, 709.633, 232.076)\" x=\"709.633\" y=\"232.076\">count(dayofweek, passenger_count)</text>\n",
       "</g>\n",
       "<circle clip-path=\"url(#clip3000)\" style=\"fill:#000000; stroke:none; fill-opacity:1\" cx=\"674.633\" cy=\"242.696\" r=\"6\"/>\n",
       "<circle clip-path=\"url(#clip3000)\" style=\"fill:#00a8cb; stroke:none; fill-opacity:1\" cx=\"674.633\" cy=\"242.696\" r=\"5\"/>\n",
       "<g clip-path=\"url(#clip3000)\">\n",
       "<text style=\"fill:#000000; fill-opacity:1; font-family:Arial,Helvetica Neue,Helvetica,sans-serif; font-size:12; text-anchor:start;\" transform=\"rotate(0, 709.633, 247.196)\" x=\"709.633\" y=\"247.196\">count(dayofweek, passenger_count, floor)</text>\n",
       "</g>\n",
       "<circle clip-path=\"url(#clip3000)\" style=\"fill:#000000; stroke:none; fill-opacity:1\" cx=\"674.633\" cy=\"257.816\" r=\"6\"/>\n",
       "<circle clip-path=\"url(#clip3000)\" style=\"fill:#9b7fe8; stroke:none; fill-opacity:1\" cx=\"674.633\" cy=\"257.816\" r=\"5\"/>\n",
       "<g clip-path=\"url(#clip3000)\">\n",
       "<text style=\"fill:#000000; fill-opacity:1; font-family:Arial,Helvetica Neue,Helvetica,sans-serif; font-size:12; text-anchor:start;\" transform=\"rotate(0, 709.633, 262.316)\" x=\"709.633\" y=\"262.316\">count(passenger_count, dayofweek)</text>\n",
       "</g>\n",
       "<circle clip-path=\"url(#clip3000)\" style=\"fill:#000000; stroke:none; fill-opacity:1\" cx=\"674.633\" cy=\"272.936\" r=\"6\"/>\n",
       "<circle clip-path=\"url(#clip3000)\" style=\"fill:#608cf6; stroke:none; fill-opacity:1\" cx=\"674.633\" cy=\"272.936\" r=\"5\"/>\n",
       "<g clip-path=\"url(#clip3000)\">\n",
       "<text style=\"fill:#000000; fill-opacity:1; font-family:Arial,Helvetica Neue,Helvetica,sans-serif; font-size:12; text-anchor:start;\" transform=\"rotate(0, 709.633, 277.436)\" x=\"709.633\" y=\"277.436\">mean(VendorID)</text>\n",
       "</g>\n",
       "</svg>\n"
      ]
     },
     "execution_count": 11,
     "metadata": {},
     "output_type": "execute_result"
    }
   ],
   "source": [
    "plt"
   ]
  },
  {
   "cell_type": "markdown",
   "metadata": {
    "slideshow": {
     "slide_type": "slide"
    }
   },
   "source": [
    "# `loadtable` benchmarks\n",
    "\n",
    "- NY Taxi file: yellow_trips_2016-01.csv -- 10.9 million rows, 19 columns\n",
    "<br>\n",
    "<table>\n",
    "    <tr>\n",
    "        <td style=\"width: 200px\"><strong style=\"font-size:20px;\">Benchmark</strong></td> \n",
    "        <td style=\"width: 200px\"><strong style=\"font-size:20px;\">JuliaDB</strong></td>\n",
    "        <td style=\"width: 200px\"><strong style=\"font-size:20px;\">Pandas</strong></td>\n",
    "    </tr>\n",
    "    <tr>\n",
    "        <td style=\"width: 300px\"><strong style=\"font-size:20px;\">Read CSV (DateTime)</strong></td>\n",
    "        <td style=\"font-size:20px;\">16.8086 s</td>\n",
    "        <td style=\"font-size:20px;\">32.8733 s</td>\n",
    "    </tr>\n",
    "    <tr>\n",
    "        <td style=\"width: 300px\"><strong style=\"font-size:20px;\">Read CSV (String)</strong></td>\n",
    "        <td style=\"font-size:20px;\">18.0826 s</td>\n",
    "        <td style=\"font-size:20px;\">29.6489 s</td>\n",
    "    </tr>\n",
    "</table>"
   ]
  },
  {
   "cell_type": "markdown",
   "metadata": {
    "slideshow": {
     "slide_type": "slide"
    }
   },
   "source": [
    "# `groupby` Benchmarks\n",
    "\n",
    "1.6 million rows of taxi data\n",
    "\n",
    "<br>\n",
    "<table>\n",
    "    <tr>\n",
    "        <td style=\"width: 200px\"><strong style=\"font-size:20px;\">Benchmark</strong></td> \n",
    "        <td style=\"width: 200px\"><strong style=\"font-size:20px;\">JuliaDB</strong></td>\n",
    "        <td style=\"width: 200px\"><strong style=\"font-size:20px;\">Pandas</strong></td>\n",
    "    </tr>\n",
    "    <tr>\n",
    "        <td style=\"width: 300px\"><strong style=\"font-size:20px;\">mean(VendorID)</strong></td>\n",
    "        <td style=\"font-size:20px;\">11.797 ms</td>\n",
    "        <td style=\"font-size:20px;\">16.487 ms</td>\n",
    "    </tr>\n",
    "    <tr>\n",
    "        <td style=\"width: 300px\"><strong style=\"font-size:20px;\">count(dayofweek, passenger_count)</strong></td>\n",
    "        <td style=\"font-size:20px;\">47.192 ms</td>\n",
    "        <td style=\"font-size:20px;\">83.629 ms</td>\n",
    "    </tr>\n",
    "    <tr>\n",
    "        <td style=\"width: 300px\"><strong style=\"font-size:20px;\">count(UDF, passenger_count)</strong></td>\n",
    "        <td style=\"font-size:20px;\">51.797 ms</td>\n",
    "        <td style=\"font-size:20px;\">280.981 ms</td>\n",
    "    </tr>\n",
    "    <tr>\n",
    "        <td style=\"width: 300px\"><strong style=\"font-size:20px;\">count(dayofweek, passenger_count, floor)</strong></td>\n",
    "        <td style=\"font-size:20px;\">190.741 ms</td>\n",
    "        <td style=\"font-size:20px;\">115.429 ms</td>\n",
    "    </tr>\n",
    "    <tr>\n",
    "        <td style=\"width: 300px\"><strong style=\"font-size:20px;\">count(dayofweek, passenger_count, floor(Int))</strong></td>\n",
    "        <td style=\"font-size:20px;\">95.103 ms</td>\n",
    "        <td style=\"font-size:20px;\">NA</td>\n",
    "    </tr>\n",
    "    <tr>\n",
    "        <td style=\"width: 300px\"><strong style=\"font-size:20px;\">count(passenger_count, dayofweek)</strong></td>\n",
    "        <td style=\"font-size:20px;\">5.207 ms</td>\n",
    "        <td style=\"font-size:20px;\">51.726 ms</td>\n",
    "    </tr>\n",
    "</table>"
   ]
  },
  {
   "cell_type": "markdown",
   "metadata": {
    "slideshow": {
     "slide_type": "slide"
    }
   },
   "source": [
    "# Join Benchmarks\n",
    "\n",
    "**left:** 80k keys with 8k with uniques\n",
    "\n",
    "**right:** 8k keys where 6k are present in left\n",
    "\n",
    "**Key types:** 2 string fields, 2 floating point fields\n",
    "\n",
    "<br>\n",
    "<table>\n",
    "    <tr>\n",
    "        <td style=\"width: 200px\"><strong style=\"font-size:20px;\">Benchmark</strong></td> \n",
    "        <td style=\"width: 200px\"><strong style=\"font-size:20px;\">JuliaDB (String)</strong></td>\n",
    "        <td style=\"width: 200px\"><strong style=\"font-size:20px;\">Pandas (String)</strong></td>\n",
    "        <td style=\"width: 200px\"><strong style=\"font-size:20px;\">JuliaDB (Number)</strong></td>\n",
    "        <td style=\"width: 200px\"><strong style=\"font-size:20px;\">Pandas (Number)</strong></td>\n",
    "    </tr>\n",
    "    <tr>\n",
    "        <td style=\"width: 300px\"><strong style=\"font-size:20px;\">Inner Join</strong></td>\n",
    "        <td style=\"font-size:20px;\">41.59 ms</td>\n",
    "        <td style=\"font-size:20px;\">16.48 ms</td>\n",
    "        <td style=\"font-size:20px;\">12.40 ms</td>\n",
    "        <td style=\"font-size:20px;\">19.28 ms</td>\n",
    "    </tr>\n",
    "    <tr>\n",
    "        <td style=\"width: 300px\"><strong style=\"font-size:20px;\">Outer Join</strong></td>\n",
    "        <td style=\"font-size:20px;\">44.43 ms</td>\n",
    "        <td style=\"font-size:20px;\">24.92 ms</td>\n",
    "        <td style=\"font-size:20px;\">15.06 ms</td>\n",
    "        <td style=\"font-size:20px;\">37.32 ms</td>\n",
    "    </tr>\n",
    "    <tr>\n",
    "        <td style=\"width: 300px\"><strong style=\"font-size:20px;\">Left Join</strong></td>\n",
    "        <td style=\"font-size:20px;\">42.88 ms</td>\n",
    "        <td style=\"font-size:20px;\">16.87 ms</td>\n",
    "        <td style=\"font-size:20px;\">13.34 ms</td>\n",
    "        <td style=\"font-size:20px;\">19.57 ms</td>\n",
    "    </tr>\n",
    "</table>"
   ]
  },
  {
   "cell_type": "markdown",
   "metadata": {
    "slideshow": {
     "slide_type": "slide"
    }
   },
   "source": [
    "# API Overview\n",
    "\n",
    "## Data structures\n",
    "\n",
    "- **Table** -- a collection of rows, ordered by some fields\n",
    "  - Good for analytics workloads\n",
    "- **NDSparse** -- N-Dimensional sparse array\n",
    "  - Good for scientific computing workloads"
   ]
  },
  {
   "cell_type": "markdown",
   "metadata": {
    "slideshow": {
     "slide_type": "slide"
    }
   },
   "source": [
    "# API Overview\n",
    "\n",
    "```\n",
    "reindex, select, map, filter, dropna, columns, rows\n",
    "\n",
    "setcol, pushcol, popcol, insertcol, insertcolafter, insertcolbefore, renamecol\n",
    "\n",
    "reduce, groupreduce, groupby, flatten\n",
    "\n",
    "join, groupjoin, asofjoin, merge\n",
    "\n",
    "save, load\n",
    "```"
   ]
  },
  {
   "cell_type": "markdown",
   "metadata": {
    "slideshow": {
     "slide_type": "slide"
    }
   },
   "source": [
    "## Table specific\n",
    "\n",
    "`loadtable`\n",
    "\n",
    "## NDSparse specific\n",
    "\n",
    "`loadndsparse, keys, values, selectkeys, selectvalues, reducedim, broadcast`"
   ]
  },
  {
   "cell_type": "markdown",
   "metadata": {
    "slideshow": {
     "slide_type": "slide"
    }
   },
   "source": [
    "# Selection\n"
   ]
  },
  {
   "cell_type": "code",
   "execution_count": 39,
   "metadata": {
    "slideshow": {
     "slide_type": "skip"
    }
   },
   "outputs": [
    {
     "data": {
      "text/html": [
       "<div id=\"interact-js-shim\">\n",
       "    <script charset=\"utf-8\">\n",
       "(function (IPython, $, _, MathJax) {\n",
       "    $.event.special.destroyed = {\n",
       "\tremove: function(o) {\n",
       "\t    if (o.handler) {\n",
       "\t\to.handler.apply(this, arguments)\n",
       "\t    }\n",
       "\t}\n",
       "    }\n",
       "\n",
       "    var OutputArea = IPython.version >= \"4.0.0\" ? require(\"notebook/js/outputarea\").OutputArea : IPython.OutputArea;\n",
       "\n",
       "    var redrawValue = function (container, type, val) {\n",
       "\tvar selector = $(\"<div/>\");\n",
       "\tvar oa = new OutputArea(_.extend(selector, {\n",
       "\t    selector: selector,\n",
       "\t    prompt_area: true,\n",
       "\t    events: IPython.events,\n",
       "\t    keyboard_manager: IPython.keyboard_manager\n",
       "\t})); // Hack to work with IPython 2.1.0\n",
       "\n",
       "\tswitch (type) {\n",
       "\tcase \"image/png\":\n",
       "            var _src = 'data:' + type + ';base64,' + val;\n",
       "\t    $(container).find(\"img\").attr('src', _src);\n",
       "\t    break;\n",
       "\tcase \"text/latex\":\n",
       "\t\tif (MathJax){\n",
       "\t\t\tvar math = MathJax.Hub.getAllJax(container)[0];\n",
       "\t\t\tMathJax.Hub.Queue([\"Text\", math, val.replace(/^\\${1,2}|\\${1,2}$/g, '')]);\n",
       "\t\t\tbreak;\n",
       "\t\t}\n",
       "\tdefault:\n",
       "\t    var toinsert = OutputArea.append_map[type].apply(\n",
       "\t\toa, [val, {}, selector]\n",
       "\t    );\n",
       "\t    $(container).empty().append(toinsert.contents());\n",
       "\t    selector.remove();\n",
       "\t}\n",
       "    }\n",
       "\n",
       "\n",
       "    $(document).ready(function() {\n",
       "\tfunction initComm(evt, data) {\n",
       "\t    var comm_manager = data.kernel.comm_manager;\n",
       "        //_.extend(comm_manager.targets, require(\"widgets/js/widget\"))\n",
       "\t    comm_manager.register_target(\"Signal\", function (comm) {\n",
       "            comm.on_msg(function (msg) {\n",
       "                var val = msg.content.data.value;\n",
       "                $(\".signal-\" + comm.comm_id).each(function() {\n",
       "                var type = $(this).data(\"type\");\n",
       "                if (typeof(val[type]) !== \"undefined\" && val[type] !== null) {\n",
       "                    redrawValue(this, type, val[type], type);\n",
       "                }\n",
       "                });\n",
       "                delete val;\n",
       "                delete msg.content.data.value;\n",
       "            });\n",
       "\t    });\n",
       "\n",
       "\t    // coordingate with Comm and redraw Signals\n",
       "\t    // XXX: Test using Reactive here to improve performance\n",
       "\t    $([IPython.events]).on(\n",
       "\t\t'output_appended.OutputArea', function (event, type, value, md, toinsert) {\n",
       "\t\t    if (md && md.reactive) {\n",
       "                // console.log(md.comm_id);\n",
       "                toinsert.addClass(\"signal-\" + md.comm_id);\n",
       "                toinsert.data(\"type\", type);\n",
       "                // Signal back indicating the mimetype required\n",
       "                var comm_manager = IPython.notebook.kernel.comm_manager;\n",
       "                var comm = comm_manager.comms[md.comm_id];\n",
       "                comm.then(function (c) {\n",
       "                    c.send({action: \"subscribe_mime\",\n",
       "                       mime: type});\n",
       "                    toinsert.bind(\"destroyed\", function() {\n",
       "                        c.send({action: \"unsubscribe_mime\",\n",
       "                               mime: type});\n",
       "                    });\n",
       "                })\n",
       "\t\t    }\n",
       "\t    });\n",
       "\t}\n",
       "\n",
       "\ttry {\n",
       "\t    // try to initialize right away. otherwise, wait on the status_started event.\n",
       "\t    initComm(undefined, IPython.notebook);\n",
       "\t} catch (e) {\n",
       "\t    $([IPython.events]).on('kernel_created.Kernel kernel_created.Session', initComm);\n",
       "\t}\n",
       "    });\n",
       "})(IPython, jQuery, _, MathJax);\n",
       "</script>\n",
       "    <script>\n",
       "        window.interactLoadedFlag = true\n",
       "       $(\"#interact-js-shim\").bind(\"destroyed\", function () {\n",
       "           if (window.interactLoadedFlag) {\n",
       "               console.warn(\"JavaScript required by Interact will be removed if you remove this cell or run using Interact more than once.\")\n",
       "           }\n",
       "       })\n",
       "       $([IPython.events]).on(\"kernel_starting.Kernel kernel_restarting.Kernel\", function () { window.interactLoadedFlag = false })\n",
       "   </script>\n",
       "</div>"
      ]
     },
     "metadata": {},
     "output_type": "display_data"
    }
   ],
   "source": [
    "using Interact, JuliaDB\n",
    "tbl = table([0.01,0.05,0.07], [1,2,3], [6,5,4], names=[:t, :x, :y])\n",
    "\n",
    "selectors = split(\"\"\"\n",
    "    :x\n",
    "    (:x, :y)\n",
    "    :x => -\n",
    "    (:x, :y) => p -> hypot(p.x, p.y)\n",
    "    [1,2,3]\n",
    "    (:x, :z => [7,8,9])\n",
    "    (:t, :r => (:x, :y) => p -> hypot(p.x, p.y))\"\"\", \"\\n\")\n",
    "\n",
    "\n",
    "opts = Interact.selection(selectors)\n",
    "\n",
    "ui = :(@manipulate for sel in opts\n",
    "    code = \"JuliaDB.select(tbl, $sel)\"\n",
    "    HTML(\"<pre>\n",
    "        <strong>\n",
    "        select(tbl, <span style='color:green'>$sel</span>)</strong>\\n\\n\" * repr(\n",
    "        eval(parse(\"JuliaDB.$code\"))) * \"</pre>\"\n",
    "    )\n",
    "end);"
   ]
  },
  {
   "cell_type": "code",
   "execution_count": 40,
   "metadata": {
    "slideshow": {
     "slide_type": "-"
    }
   },
   "outputs": [
    {
     "data": {
      "text/plain": [
       "Table with 3 rows, 3 columns:\n",
       "t     x  y\n",
       "──────────\n",
       "0.01  1  6\n",
       "0.05  2  5\n",
       "0.07  3  4"
      ]
     },
     "metadata": {},
     "output_type": "display_data"
    },
    {
     "data": {
      "application/vnd.jupyter.widget-view+json": {
       "model_id": "de3f87df-3144-46d2-8a3f-b8b363823f4f",
       "version_major": 2,
       "version_minor": 0
      }
     },
     "metadata": {},
     "output_type": "display_data"
    },
    {
     "data": {
      "text/html": [],
      "text/plain": [
       "Interact.Options{:Select,SubString{String}}(1: \"input\" = :x SubString{String} , \"\", \":x\", \":x\", 0, Interact.OptionDict(DataStructures.OrderedDict(\":x\"=>\":x\",\"(:x, :y)\"=>\"(:x, :y)\",\":x => -\"=>\":x => -\",\"(:x, :y) => p -> hypot(p.x, p.y)\"=>\"(:x, :y) => p -> hypot(p.x, p.y)\",\"[1,2,3]\"=>\"[1,2,3]\",\"(:x, :z => [7,8,9])\"=>\"(:x, :z => [7,8,9])\",\"(:t, :r => (:x, :y) => p -> hypot(p.x, p.y))\"=>\"(:t, :r => (:x, :y) => p -> hypot(p.x, p.y))\"), Dict(\":x\"=>\":x\",\"(:x, :y) => p -> hypot(p.x, p.y)\"=>\"(:x, :y) => p -> hypot(p.x, p.y)\",\"(:x, :z => [7,8,9])\"=>\"(:x, :z => [7,8,9])\",\"(:x, :y)\"=>\"(:x, :y)\",\":x => -\"=>\":x => -\",\"(:t, :r => (:x, :y) => p -> hypot(p.x, p.y))\"=>\"(:t, :r => (:x, :y) => p -> hypot(p.x, p.y))\",\"[1,2,3]\"=>\"[1,2,3]\")), Any[], Any[], true, \"horizontal\")"
      ]
     },
     "metadata": {},
     "output_type": "display_data"
    },
    {
     "data": {
      "text/html": [
       "<pre>\n",
       "        <strong>\n",
       "        select(tbl, <span style='color:green'>:x</span>)</strong>\n",
       "\n",
       "[1, 2, 3]</pre>"
      ],
      "text/plain": [
       "HTML{String}(\"<pre>\\n        <strong>\\n        select(tbl, <span style='color:green'>:x</span>)</strong>\\n\\n[1, 2, 3]</pre>\")"
      ]
     },
     "execution_count": 40,
     "metadata": {
      "comm_id": "26b25cc8-c0e8-4367-b272-008d7ed86b02",
      "reactive": true
     },
     "output_type": "execute_result"
    }
   ],
   "source": [
    "display(tbl)\n",
    "eval(ui)"
   ]
  },
  {
   "cell_type": "markdown",
   "metadata": {
    "slideshow": {
     "slide_type": "slide"
    }
   },
   "source": [
    "# Selection\n",
    "\n",
    "Wildly useful.\n",
    "\n",
    "<code>select(t, <span style=\"color: green\">which</span>)\n",
    "map(f, t; <span style=\"color: green\">select</span>)\n",
    "reduce(f, t; <span style=\"color: green\">select</span>)\n",
    "filter(f, t; <span style=\"color: green\">select</span>)\n",
    "groupby(f, t, <span style=\"color: green\">by</span>; <span style=\"color: green\">select</span>)\n",
    "groupreduce(f, t, <span style=\"color: green\">by</span>; <span style=\"color: green\">select</span>)\n",
    "join(f, l, r; how, <span style=\"color: green\">lkey</span>, <span style=\"color: green\">rkey</span>, <span style=\"color: green\">lselect</span>, <span style=\"color: green\">rselect</span>)\n",
    "groupjoin(f, l, r;how,  <span style=\"color: green\">lkey</span>, <span style=\"color: green\">rkey</span>, <span style=\"color: green\">lselect</span>, <span style=\"color: green\">rselect</span>)\n",
    "</code>\n",
    "\n",
    "\n",
    "(Green arguments are selectors)"
   ]
  },
  {
   "cell_type": "code",
   "execution_count": 41,
   "metadata": {},
   "outputs": [
    {
     "data": {
      "text/plain": [
       "Distributed Table with 23217099 rows in 4 chunks:\n",
       "Columns:\n",
       "\u001b[1m#   \u001b[22m\u001b[1mcolname                \u001b[22m\u001b[1mtype\u001b[22m\n",
       "───────────────────────────────────\n",
       "1   VendorID               Int64\n",
       "2   tpep_pickup_datetime   DateTime\n",
       "3   tpep_dropoff_datetime  DateTime\n",
       "4   passenger_count        Int64\n",
       "5   trip_distance          Float64\n",
       "6   pickup_longitude       Float64\n",
       "7   pickup_latitude        Float64\n",
       "8   RatecodeID             Int64\n",
       "9   store_and_fwd_flag     String\n",
       "10  dropoff_longitude      Float64\n",
       "11  dropoff_latitude       Float64\n",
       "12  payment_type           Int64\n",
       "13  fare_amount            Float64\n",
       "14  extra                  Float64\n",
       "15  mta_tax                Float64\n",
       "16  tip_amount             Float64\n",
       "17  tolls_amount           Float64\n",
       "18  improvement_surcharge  Float64\n",
       "19  total_amount           Float64"
      ]
     },
     "execution_count": 41,
     "metadata": {},
     "output_type": "execute_result"
    }
   ],
   "source": [
    "groupby(f, t, select=:dattime=>Dates.dayofweek)"
   ]
  },
  {
   "cell_type": "markdown",
   "metadata": {
    "slideshow": {
     "slide_type": "slide"
    }
   },
   "source": [
    "# NDSparse\n",
    "\n",
    "Key-value store that behaves like an n-dimensional array"
   ]
  },
  {
   "cell_type": "code",
   "execution_count": 46,
   "metadata": {
    "slideshow": {
     "slide_type": "fragment"
    }
   },
   "outputs": [
    {
     "name": "stdout",
     "output_type": "stream",
     "text": [
      "Metadata for 5 / 5 files can be loaded from cache.\n"
     ]
    },
    {
     "data": {
      "text/plain": [
       "2-d NDSparse with 6532219 values (2 field named tuples):\n",
       "pair       time                    │ bid      ask\n",
       "───────────────────────────────────┼─────────────────\n",
       "\"AUD/JPY\"  2016-12-01T00:00:00.04  │ 84.719   84.736\n",
       "\"AUD/JPY\"  2016-12-01T00:00:00.415 │ 84.722   84.738\n",
       "\"AUD/JPY\"  2016-12-01T00:00:00.625 │ 84.717   84.734\n",
       "\"AUD/JPY\"  2016-12-01T00:00:00.842 │ 84.716   84.727\n",
       "\"AUD/JPY\"  2016-12-01T00:00:01.056 │ 84.713   84.73\n",
       "\"AUD/JPY\"  2016-12-01T00:00:01.457 │ 84.715   84.731\n",
       "\"AUD/JPY\"  2016-12-01T00:00:01.926 │ 84.713   84.729\n",
       "\"AUD/JPY\"  2016-12-01T00:00:02.39  │ 84.714   84.73\n",
       "\"AUD/JPY\"  2016-12-01T00:00:02.611 │ 84.714   84.73\n",
       "\"AUD/JPY\"  2016-12-01T00:00:02.85  │ 84.721   84.734\n",
       "\"AUD/JPY\"  2016-12-01T00:00:03.159 │ 84.719   84.733\n",
       "\"AUD/JPY\"  2016-12-01T00:00:03.407 │ 84.725   84.739\n",
       "                                   ⋮\n",
       "\"EUR/CHF\"  2016-12-30T21:59:11.315 │ 1.07122  1.07281\n",
       "\"EUR/CHF\"  2016-12-30T21:59:17.272 │ 1.07122  1.07276\n",
       "\"EUR/CHF\"  2016-12-30T21:59:23.293 │ 1.07132  1.07247\n",
       "\"EUR/CHF\"  2016-12-30T21:59:25.069 │ 1.07132  1.07252\n",
       "\"EUR/CHF\"  2016-12-30T21:59:27.241 │ 1.07122  1.07285\n",
       "\"EUR/CHF\"  2016-12-30T21:59:29.473 │ 1.07122  1.07276\n",
       "\"EUR/CHF\"  2016-12-30T21:59:35.949 │ 1.07122  1.07275\n",
       "\"EUR/CHF\"  2016-12-30T21:59:40.014 │ 1.07115  1.07276\n",
       "\"EUR/CHF\"  2016-12-30T21:59:41.132 │ 1.07097  1.07246\n",
       "\"EUR/CHF\"  2016-12-30T21:59:45.047 │ 1.07106  1.07277\n",
       "\"EUR/CHF\"  2016-12-30T21:59:46.19  │ 1.0708   1.07277"
      ]
     },
     "execution_count": 46,
     "metadata": {},
     "output_type": "execute_result"
    }
   ],
   "source": [
    "path = \"truefx\"\n",
    "X = loadndsparse(path,\n",
    "        indexcols=[1,2],\n",
    "        header_exists=false,\n",
    "        distributed=false,\n",
    "        colnames=[\"pair\", \"time\", \"bid\", \"ask\"])"
   ]
  },
  {
   "cell_type": "markdown",
   "metadata": {
    "slideshow": {
     "slide_type": "slide"
    }
   },
   "source": [
    "# Indexing by arbitrary keys"
   ]
  },
  {
   "cell_type": "code",
   "execution_count": 15,
   "metadata": {},
   "outputs": [
    {
     "data": {
      "text/plain": [
       "Tuple{String,DateTime}"
      ]
     },
     "execution_count": 15,
     "metadata": {},
     "output_type": "execute_result"
    }
   ],
   "source": [
    "keytype(X)"
   ]
  },
  {
   "cell_type": "code",
   "execution_count": 16,
   "metadata": {},
   "outputs": [
    {
     "data": {
      "text/plain": [
       "NamedTuples._NT_bid_ask{Float64,Float64}"
      ]
     },
     "execution_count": 16,
     "metadata": {},
     "output_type": "execute_result"
    }
   ],
   "source": [
    "eltype(X)"
   ]
  },
  {
   "cell_type": "code",
   "execution_count": 17,
   "metadata": {},
   "outputs": [
    {
     "data": {
      "text/plain": [
       "(bid = 84.153, ask = 84.171997)"
      ]
     },
     "execution_count": 17,
     "metadata": {},
     "output_type": "execute_result"
    }
   ],
   "source": [
    "X[\"AUD/JPY\", DateTime(\"2016-12-30T00:00:00.032\")]"
   ]
  },
  {
   "cell_type": "code",
   "execution_count": 18,
   "metadata": {
    "collapsed": true,
    "slideshow": {
     "slide_type": "skip"
    }
   },
   "outputs": [],
   "source": [
    "using IntervalSets"
   ]
  },
  {
   "cell_type": "code",
   "execution_count": 19,
   "metadata": {
    "slideshow": {
     "slide_type": "fragment"
    }
   },
   "outputs": [
    {
     "data": {
      "text/plain": [
       "Table with 6532219 rows, 4 columns:\n",
       "pair       time                     bid      ask\n",
       "────────────────────────────────────────────────────\n",
       "\"AUD/JPY\"  2016-12-01T00:00:00.04   84.719   84.736\n",
       "\"AUD/JPY\"  2016-12-01T00:00:00.415  84.722   84.738\n",
       "\"AUD/JPY\"  2016-12-01T00:00:00.625  84.717   84.734\n",
       "\"AUD/JPY\"  2016-12-01T00:00:00.842  84.716   84.727\n",
       "\"AUD/JPY\"  2016-12-01T00:00:01.056  84.713   84.73\n",
       "\"AUD/JPY\"  2016-12-01T00:00:01.457  84.715   84.731\n",
       "\"AUD/JPY\"  2016-12-01T00:00:01.926  84.713   84.729\n",
       "\"AUD/JPY\"  2016-12-01T00:00:02.39   84.714   84.73\n",
       "\"AUD/JPY\"  2016-12-01T00:00:02.611  84.714   84.73\n",
       "\"AUD/JPY\"  2016-12-01T00:00:02.85   84.721   84.734\n",
       "\"AUD/JPY\"  2016-12-01T00:00:03.159  84.719   84.733\n",
       "\"AUD/JPY\"  2016-12-01T00:00:03.407  84.725   84.739\n",
       "⋮\n",
       "\"EUR/CHF\"  2016-12-30T21:59:11.315  1.07122  1.07281\n",
       "\"EUR/CHF\"  2016-12-30T21:59:17.272  1.07122  1.07276\n",
       "\"EUR/CHF\"  2016-12-30T21:59:23.293  1.07132  1.07247\n",
       "\"EUR/CHF\"  2016-12-30T21:59:25.069  1.07132  1.07252\n",
       "\"EUR/CHF\"  2016-12-30T21:59:27.241  1.07122  1.07285\n",
       "\"EUR/CHF\"  2016-12-30T21:59:29.473  1.07122  1.07276\n",
       "\"EUR/CHF\"  2016-12-30T21:59:35.949  1.07122  1.07275\n",
       "\"EUR/CHF\"  2016-12-30T21:59:40.014  1.07115  1.07276\n",
       "\"EUR/CHF\"  2016-12-30T21:59:41.132  1.07097  1.07246\n",
       "\"EUR/CHF\"  2016-12-30T21:59:45.047  1.07106  1.07277\n",
       "\"EUR/CHF\"  2016-12-30T21:59:46.19   1.0708   1.07277"
      ]
     },
     "execution_count": 19,
     "metadata": {},
     "output_type": "execute_result"
    }
   ],
   "source": [
    "t = table(X)"
   ]
  },
  {
   "cell_type": "code",
   "execution_count": 20,
   "metadata": {},
   "outputs": [
    {
     "data": {
      "text/plain": [
       "(pair = \"AUD/JPY\", time = 2016-12-01T00:00:00.04, bid = 84.719002, ask = 84.736)"
      ]
     },
     "execution_count": 20,
     "metadata": {},
     "output_type": "execute_result"
    }
   ],
   "source": [
    "t[1]"
   ]
  },
  {
   "cell_type": "markdown",
   "metadata": {
    "slideshow": {
     "slide_type": "slide"
    }
   },
   "source": [
    "# Indexing by arbitrary keys"
   ]
  },
  {
   "cell_type": "code",
   "execution_count": 21,
   "metadata": {},
   "outputs": [
    {
     "data": {
      "text/plain": [
       "2-d NDSparse with 323859 values (2 field named tuples):\n",
       "pair       time                    │ bid      ask\n",
       "───────────────────────────────────┼─────────────────\n",
       "\"AUD/JPY\"  2016-12-30T00:00:00.032 │ 84.153   84.172\n",
       "\"AUD/JPY\"  2016-12-30T00:00:00.457 │ 84.158   84.172\n",
       "\"AUD/JPY\"  2016-12-30T00:00:00.978 │ 84.161   84.174\n",
       "\"AUD/JPY\"  2016-12-30T00:00:01.579 │ 84.159   84.169\n",
       "\"AUD/JPY\"  2016-12-30T00:00:02.213 │ 84.154   84.172\n",
       "\"AUD/JPY\"  2016-12-30T00:00:03.301 │ 84.154   84.171\n",
       "\"AUD/JPY\"  2016-12-30T00:00:04.558 │ 84.155   84.172\n",
       "\"AUD/JPY\"  2016-12-30T00:00:05.427 │ 84.154   84.169\n",
       "\"AUD/JPY\"  2016-12-30T00:00:06.258 │ 84.156   84.174\n",
       "\"AUD/JPY\"  2016-12-30T00:00:07.086 │ 84.158   84.175\n",
       "\"AUD/JPY\"  2016-12-30T00:00:08.134 │ 84.158   84.175\n",
       "\"AUD/JPY\"  2016-12-30T00:00:08.747 │ 84.155   84.167\n",
       "                                   ⋮\n",
       "\"EUR/CHF\"  2016-12-30T21:59:11.315 │ 1.07122  1.07281\n",
       "\"EUR/CHF\"  2016-12-30T21:59:17.272 │ 1.07122  1.07276\n",
       "\"EUR/CHF\"  2016-12-30T21:59:23.293 │ 1.07132  1.07247\n",
       "\"EUR/CHF\"  2016-12-30T21:59:25.069 │ 1.07132  1.07252\n",
       "\"EUR/CHF\"  2016-12-30T21:59:27.241 │ 1.07122  1.07285\n",
       "\"EUR/CHF\"  2016-12-30T21:59:29.473 │ 1.07122  1.07276\n",
       "\"EUR/CHF\"  2016-12-30T21:59:35.949 │ 1.07122  1.07275\n",
       "\"EUR/CHF\"  2016-12-30T21:59:40.014 │ 1.07115  1.07276\n",
       "\"EUR/CHF\"  2016-12-30T21:59:41.132 │ 1.07097  1.07246\n",
       "\"EUR/CHF\"  2016-12-30T21:59:45.047 │ 1.07106  1.07277\n",
       "\"EUR/CHF\"  2016-12-30T21:59:46.19  │ 1.0708   1.07277"
      ]
     },
     "execution_count": 21,
     "metadata": {},
     "output_type": "execute_result"
    }
   ],
   "source": [
    "X[:, Date(\"2016-12-30\")..Date(\"2016-12-31\")]"
   ]
  },
  {
   "cell_type": "markdown",
   "metadata": {
    "slideshow": {
     "slide_type": "slide"
    }
   },
   "source": [
    "# Indexing by arbitrary keys"
   ]
  },
  {
   "cell_type": "code",
   "execution_count": 22,
   "metadata": {
    "slideshow": {
     "slide_type": "-"
    }
   },
   "outputs": [
    {
     "data": {
      "text/plain": [
       "2-d NDSparse with 113955 values (2 field named tuples):\n",
       "pair       time                    │ bid      ask\n",
       "───────────────────────────────────┼─────────────────\n",
       "\"AUD/USD\"  2016-12-30T00:00:00.617 │ 0.72343  0.72358\n",
       "\"AUD/USD\"  2016-12-30T00:00:01.433 │ 0.72343  0.72357\n",
       "\"AUD/USD\"  2016-12-30T00:00:01.932 │ 0.72343  0.72356\n",
       "\"AUD/USD\"  2016-12-30T00:00:03.168 │ 0.72342  0.72356\n",
       "\"AUD/USD\"  2016-12-30T00:00:04.431 │ 0.72343  0.72357\n",
       "\"AUD/USD\"  2016-12-30T00:00:06.205 │ 0.72343  0.72357\n",
       "\"AUD/USD\"  2016-12-30T00:00:07.025 │ 0.72343  0.72357\n",
       "\"AUD/USD\"  2016-12-30T00:00:08.548 │ 0.72343  0.72358\n",
       "\"AUD/USD\"  2016-12-30T00:00:09.573 │ 0.72353  0.72361\n",
       "\"AUD/USD\"  2016-12-30T00:00:10.19  │ 0.72353  0.72366\n",
       "\"AUD/USD\"  2016-12-30T00:00:11.076 │ 0.72353  0.72368\n",
       "\"AUD/USD\"  2016-12-30T00:00:11.965 │ 0.72353  0.72368\n",
       "                                   ⋮\n",
       "\"CAD/JPY\"  2016-12-30T21:58:52.225 │ 87.003   87.156\n",
       "\"CAD/JPY\"  2016-12-30T21:59:00.056 │ 86.818   87.156\n",
       "\"CAD/JPY\"  2016-12-30T21:59:01.092 │ 86.976   87.285\n",
       "\"CAD/JPY\"  2016-12-30T21:59:07.292 │ 87.003   87.2\n",
       "\"CAD/JPY\"  2016-12-30T21:59:15.858 │ 86.961   87.159\n",
       "\"CAD/JPY\"  2016-12-30T21:59:23.009 │ 87.003   87.162\n",
       "\"CAD/JPY\"  2016-12-30T21:59:25.844 │ 87.003   87.184\n",
       "\"CAD/JPY\"  2016-12-30T21:59:30.112 │ 87.003   87.159\n",
       "\"CAD/JPY\"  2016-12-30T21:59:40.332 │ 86.952   87.192\n",
       "\"CAD/JPY\"  2016-12-30T21:59:45.025 │ 86.856   87.208\n",
       "\"CAD/JPY\"  2016-12-30T21:59:56.051 │ 86.896   87.208"
      ]
     },
     "execution_count": 22,
     "metadata": {},
     "output_type": "execute_result"
    }
   ],
   "source": [
    "X[[\"AUD/USD\", \"CAD/JPY\"], Date(\"2016-12-30\")..Date(\"2016-12-31\")]"
   ]
  },
  {
   "cell_type": "markdown",
   "metadata": {
    "slideshow": {
     "slide_type": "slide"
    }
   },
   "source": [
    "# Indexing by arbitrary keys"
   ]
  },
  {
   "cell_type": "code",
   "execution_count": 62,
   "metadata": {},
   "outputs": [
    {
     "data": {
      "text/plain": [
       "2-d NDSparse with 6532219 values (Float64):\n",
       "pair       time                    │\n",
       "───────────────────────────────────┼────────\n",
       "\"AUD/JPY\"  2016-12-01T00:00:00.04  │ 84.719\n",
       "\"AUD/JPY\"  2016-12-01T00:00:00.415 │ 84.722\n",
       "\"AUD/JPY\"  2016-12-01T00:00:00.625 │ 84.717\n",
       "\"AUD/JPY\"  2016-12-01T00:00:00.842 │ 84.716\n",
       "\"AUD/JPY\"  2016-12-01T00:00:01.056 │ 84.713\n",
       "\"AUD/JPY\"  2016-12-01T00:00:01.457 │ 84.715\n",
       "\"AUD/JPY\"  2016-12-01T00:00:01.926 │ 84.713\n",
       "\"AUD/JPY\"  2016-12-01T00:00:02.39  │ 84.714\n",
       "\"AUD/JPY\"  2016-12-01T00:00:02.611 │ 84.714\n",
       "\"AUD/JPY\"  2016-12-01T00:00:02.85  │ 84.721\n",
       "\"AUD/JPY\"  2016-12-01T00:00:03.159 │ 84.719\n",
       "\"AUD/JPY\"  2016-12-01T00:00:03.407 │ 84.725\n",
       "                                   ⋮\n",
       "\"EUR/CHF\"  2016-12-30T21:59:11.315 │ 1.07122\n",
       "\"EUR/CHF\"  2016-12-30T21:59:17.272 │ 1.07122\n",
       "\"EUR/CHF\"  2016-12-30T21:59:23.293 │ 1.07132\n",
       "\"EUR/CHF\"  2016-12-30T21:59:25.069 │ 1.07132\n",
       "\"EUR/CHF\"  2016-12-30T21:59:27.241 │ 1.07122\n",
       "\"EUR/CHF\"  2016-12-30T21:59:29.473 │ 1.07122\n",
       "\"EUR/CHF\"  2016-12-30T21:59:35.949 │ 1.07122\n",
       "\"EUR/CHF\"  2016-12-30T21:59:40.014 │ 1.07115\n",
       "\"EUR/CHF\"  2016-12-30T21:59:41.132 │ 1.07097\n",
       "\"EUR/CHF\"  2016-12-30T21:59:45.047 │ 1.07106\n",
       "\"EUR/CHF\"  2016-12-30T21:59:46.19  │ 1.0708"
      ]
     },
     "execution_count": 62,
     "metadata": {},
     "output_type": "execute_result"
    }
   ],
   "source": [
    "bids = selectvalues(X, :bid)"
   ]
  },
  {
   "cell_type": "markdown",
   "metadata": {
    "slideshow": {
     "slide_type": "slide"
    }
   },
   "source": [
    "# Behaves like N-Dimensional Array"
   ]
  },
  {
   "cell_type": "code",
   "execution_count": 63,
   "metadata": {},
   "outputs": [
    {
     "data": {
      "text/plain": [
       "Float64"
      ]
     },
     "execution_count": 63,
     "metadata": {},
     "output_type": "execute_result"
    }
   ],
   "source": [
    "eltype(bids)"
   ]
  },
  {
   "cell_type": "code",
   "execution_count": 64,
   "metadata": {},
   "outputs": [
    {
     "data": {
      "text/plain": [
       "10×1 Array{Float64,2}:\n",
       " 6.8444 \n",
       " 4.63053\n",
       " 6.88201\n",
       " 4.74688\n",
       " 4.71064\n",
       " 3.67683\n",
       " 6.9873 \n",
       " 4.62026\n",
       " 3.02223\n",
       " 5.3963 "
      ]
     },
     "execution_count": 64,
     "metadata": {},
     "output_type": "execute_result"
    }
   ],
   "source": [
    "reducedim(+, rand(10,10), 2)"
   ]
  },
  {
   "cell_type": "code",
   "execution_count": 65,
   "metadata": {},
   "outputs": [
    {
     "data": {
      "text/plain": [
       "1-d NDSparse with 5 values (Float64):\n",
       "pair      │\n",
       "──────────┼──────────\n",
       "\"AUD/JPY\" │ 1.2507e8\n",
       "\"AUD/NZD\" │ 1.16549e6\n",
       "\"AUD/USD\" │ 1.05043e6\n",
       "\"CAD/JPY\" │ 9.32479e7\n",
       "\"EUR/CHF\" │ 1.55584e6"
      ]
     },
     "execution_count": 65,
     "metadata": {},
     "output_type": "execute_result"
    }
   ],
   "source": [
    "reducedim(+, bids, 2)"
   ]
  },
  {
   "cell_type": "markdown",
   "metadata": {
    "slideshow": {
     "slide_type": "slide"
    }
   },
   "source": [
    "# Behaves like N-Dimensional Array"
   ]
  },
  {
   "cell_type": "code",
   "execution_count": 67,
   "metadata": {},
   "outputs": [
    {
     "data": {
      "text/plain": [
       "2-d NDSparse with 2590 values (Float64):\n",
       "pair       time                │\n",
       "───────────────────────────────┼────────\n",
       "\"AUD/JPY\"  2016-12-01T00:00:00 │ 0.0\n",
       "\"AUD/JPY\"  2016-12-01T01:00:00 │ 84.706\n",
       "\"AUD/JPY\"  2016-12-01T02:00:00 │ 84.662\n",
       "\"AUD/JPY\"  2016-12-01T03:00:00 │ 84.595\n",
       "\"AUD/JPY\"  2016-12-01T04:00:00 │ 84.674\n",
       "\"AUD/JPY\"  2016-12-01T05:00:00 │ 84.599\n",
       "\"AUD/JPY\"  2016-12-01T06:00:00 │ 84.651\n",
       "\"AUD/JPY\"  2016-12-01T07:00:00 │ 84.534\n",
       "\"AUD/JPY\"  2016-12-01T08:00:00 │ 84.542\n",
       "\"AUD/JPY\"  2016-12-01T09:00:00 │ 84.538\n",
       "\"AUD/JPY\"  2016-12-01T10:00:00 │ 84.508\n",
       "\"AUD/JPY\"  2016-12-01T11:00:00 │ 84.487\n",
       "                               ⋮\n",
       "\"EUR/CHF\"  2016-12-30T11:00:00 │ 1.07544\n",
       "\"EUR/CHF\"  2016-12-30T12:00:00 │ 1.07557\n",
       "\"EUR/CHF\"  2016-12-30T13:00:00 │ 1.07405\n",
       "\"EUR/CHF\"  2016-12-30T14:00:00 │ 1.07304\n",
       "\"EUR/CHF\"  2016-12-30T15:00:00 │ 1.07451\n",
       "\"EUR/CHF\"  2016-12-30T16:00:00 │ 1.07316\n",
       "\"EUR/CHF\"  2016-12-30T17:00:00 │ 1.07311\n",
       "\"EUR/CHF\"  2016-12-30T18:00:00 │ 1.07293\n",
       "\"EUR/CHF\"  2016-12-30T19:00:00 │ 1.07288\n",
       "\"EUR/CHF\"  2016-12-30T20:00:00 │ 1.07259\n",
       "\"EUR/CHF\"  2016-12-30T21:00:00 │ 1.0722"
      ]
     },
     "execution_count": 67,
     "metadata": {},
     "output_type": "execute_result"
    }
   ],
   "source": [
    "# Aggregate maximum bid for every hour\n",
    "\n",
    "hourlybids = convertdim(bids, :time, x->trunc(x, Dates.Hour),\n",
    "                        agg=max)\n",
    "\n",
    "hourlybids[\"AUD/JPY\", DateTime(\"2016-12-01T00:00:00\")] = 0\n",
    "hourlybids"
   ]
  },
  {
   "cell_type": "markdown",
   "metadata": {
    "slideshow": {
     "slide_type": "slide"
    }
   },
   "source": [
    "# Behaves like N-Dimensional Array"
   ]
  },
  {
   "cell_type": "code",
   "execution_count": 61,
   "metadata": {},
   "outputs": [
    {
     "ename": "LoadError",
     "evalue": "\u001b[91mUndefVarError: hourlybids not defined\u001b[39m",
     "output_type": "error",
     "traceback": [
      "\u001b[91mUndefVarError: hourlybids not defined\u001b[39m",
      ""
     ]
    }
   ],
   "source": [
    "hourlybids"
   ]
  },
  {
   "cell_type": "code",
   "execution_count": 69,
   "metadata": {},
   "outputs": [
    {
     "data": {
      "text/plain": [
       "1-d NDSparse with 518 values (Float64):\n",
       "time                │\n",
       "────────────────────┼───────\n",
       "2016-12-01T00:00:00 │ 0.0\n",
       "2016-12-01T01:00:00 │ 84.706\n",
       "2016-12-01T02:00:00 │ 84.662\n",
       "2016-12-01T03:00:00 │ 84.595\n",
       "2016-12-01T04:00:00 │ 84.674\n",
       "2016-12-01T05:00:00 │ 84.599\n",
       "2016-12-01T06:00:00 │ 84.651\n",
       "2016-12-01T07:00:00 │ 84.534\n",
       "2016-12-01T08:00:00 │ 84.542\n",
       "2016-12-01T09:00:00 │ 84.538\n",
       "2016-12-01T10:00:00 │ 84.508\n",
       "2016-12-01T11:00:00 │ 84.487\n",
       "                    ⋮\n",
       "2016-12-30T11:00:00 │ 84.548\n",
       "2016-12-30T12:00:00 │ 84.59\n",
       "2016-12-30T13:00:00 │ 84.565\n",
       "2016-12-30T14:00:00 │ 84.474\n",
       "2016-12-30T15:00:00 │ 84.518\n",
       "2016-12-30T16:00:00 │ 84.515\n",
       "2016-12-30T17:00:00 │ 84.429\n",
       "2016-12-30T18:00:00 │ 84.378\n",
       "2016-12-30T19:00:00 │ 84.351\n",
       "2016-12-30T20:00:00 │ 84.345\n",
       "2016-12-30T21:00:00 │ 84.381"
      ]
     },
     "execution_count": 69,
     "metadata": {},
     "output_type": "execute_result"
    }
   ],
   "source": [
    "audjpy = hourlybids[[\"AUD/JPY\"], :]\n",
    "audjpy = selectkeys(audjpy, (:time,)) # squeeze"
   ]
  },
  {
   "cell_type": "markdown",
   "metadata": {
    "slideshow": {
     "slide_type": "slide"
    }
   },
   "source": [
    "# Behaves like N-Dimensional Array"
   ]
  },
  {
   "cell_type": "code",
   "execution_count": 70,
   "metadata": {},
   "outputs": [
    {
     "data": {
      "text/plain": [
       "2-d NDSparse with 2590 values (Float64):\n",
       "pair       time                │\n",
       "───────────────────────────────┼──────────\n",
       "\"AUD/JPY\"  2016-12-01T00:00:00 │ NaN\n",
       "\"AUD/JPY\"  2016-12-01T01:00:00 │ 1.0\n",
       "\"AUD/JPY\"  2016-12-01T02:00:00 │ 1.0\n",
       "\"AUD/JPY\"  2016-12-01T03:00:00 │ 1.0\n",
       "\"AUD/JPY\"  2016-12-01T04:00:00 │ 1.0\n",
       "\"AUD/JPY\"  2016-12-01T05:00:00 │ 1.0\n",
       "\"AUD/JPY\"  2016-12-01T06:00:00 │ 1.0\n",
       "\"AUD/JPY\"  2016-12-01T07:00:00 │ 1.0\n",
       "\"AUD/JPY\"  2016-12-01T08:00:00 │ 1.0\n",
       "\"AUD/JPY\"  2016-12-01T09:00:00 │ 1.0\n",
       "\"AUD/JPY\"  2016-12-01T10:00:00 │ 1.0\n",
       "\"AUD/JPY\"  2016-12-01T11:00:00 │ 1.0\n",
       "                               ⋮\n",
       "\"EUR/CHF\"  2016-12-30T11:00:00 │ 0.0127199\n",
       "\"EUR/CHF\"  2016-12-30T12:00:00 │ 0.0127151\n",
       "\"EUR/CHF\"  2016-12-30T13:00:00 │ 0.0127009\n",
       "\"EUR/CHF\"  2016-12-30T14:00:00 │ 0.0127026\n",
       "\"EUR/CHF\"  2016-12-30T15:00:00 │ 0.0127134\n",
       "\"EUR/CHF\"  2016-12-30T16:00:00 │ 0.0126979\n",
       "\"EUR/CHF\"  2016-12-30T17:00:00 │ 0.0127102\n",
       "\"EUR/CHF\"  2016-12-30T18:00:00 │ 0.0127158\n",
       "\"EUR/CHF\"  2016-12-30T19:00:00 │ 0.0127192\n",
       "\"EUR/CHF\"  2016-12-30T20:00:00 │ 0.0127167\n",
       "\"EUR/CHF\"  2016-12-30T21:00:00 │ 0.0127067"
      ]
     },
     "execution_count": 70,
     "metadata": {},
     "output_type": "execute_result"
    }
   ],
   "source": [
    "hourlybids ./ audjpy"
   ]
  },
  {
   "cell_type": "markdown",
   "metadata": {
    "slideshow": {
     "slide_type": "slide"
    }
   },
   "source": [
    "# Behaves like N-Dimensional Array"
   ]
  },
  {
   "cell_type": "code",
   "execution_count": 71,
   "metadata": {},
   "outputs": [
    {
     "data": {
      "text/plain": [
       "2-d NDSparse with 2590 values (Float64):\n",
       "pair       time                │\n",
       "───────────────────────────────┼────────\n",
       "\"AUD/JPY\"  2016-12-01T00:00:00 │ 0.0\n",
       "\"AUD/JPY\"  2016-12-01T01:00:00 │ 119.792\n",
       "\"AUD/JPY\"  2016-12-01T02:00:00 │ 119.73\n",
       "\"AUD/JPY\"  2016-12-01T03:00:00 │ 119.635\n",
       "\"AUD/JPY\"  2016-12-01T04:00:00 │ 119.747\n",
       "\"AUD/JPY\"  2016-12-01T05:00:00 │ 119.641\n",
       "\"AUD/JPY\"  2016-12-01T06:00:00 │ 119.715\n",
       "\"AUD/JPY\"  2016-12-01T07:00:00 │ 119.549\n",
       "\"AUD/JPY\"  2016-12-01T08:00:00 │ 119.56\n",
       "\"AUD/JPY\"  2016-12-01T09:00:00 │ 119.555\n",
       "\"AUD/JPY\"  2016-12-01T10:00:00 │ 119.512\n",
       "\"AUD/JPY\"  2016-12-01T11:00:00 │ 119.483\n",
       "                               ⋮\n",
       "\"EUR/CHF\"  2016-12-30T11:00:00 │ 84.5548\n",
       "\"EUR/CHF\"  2016-12-30T12:00:00 │ 84.5968\n",
       "\"EUR/CHF\"  2016-12-30T13:00:00 │ 84.5718\n",
       "\"EUR/CHF\"  2016-12-30T14:00:00 │ 84.4808\n",
       "\"EUR/CHF\"  2016-12-30T15:00:00 │ 84.5248\n",
       "\"EUR/CHF\"  2016-12-30T16:00:00 │ 84.5218\n",
       "\"EUR/CHF\"  2016-12-30T17:00:00 │ 84.4358\n",
       "\"EUR/CHF\"  2016-12-30T18:00:00 │ 84.3848\n",
       "\"EUR/CHF\"  2016-12-30T19:00:00 │ 84.3578\n",
       "\"EUR/CHF\"  2016-12-30T20:00:00 │ 84.3518\n",
       "\"EUR/CHF\"  2016-12-30T21:00:00 │ 84.3878"
      ]
     },
     "execution_count": 71,
     "metadata": {},
     "output_type": "execute_result"
    }
   ],
   "source": [
    "broadcast(hypot, hourlybids, audjpy)"
   ]
  },
  {
   "cell_type": "markdown",
   "metadata": {
    "slideshow": {
     "slide_type": "slide"
    }
   },
   "source": [
    "# NDSparse -- summary\n",
    "\n",
    "- indexing by arbitrary keys or intervals of values\n",
    "- iterates by values\n",
    "- behaves like multi-dimensional arrays\n",
    "- supports array syntax like broadcast, reducedim, map, reduce\n",
    "- great for any \"Series\" -- esp. time series"
   ]
  },
  {
   "cell_type": "markdown",
   "metadata": {
    "slideshow": {
     "slide_type": "slide"
    }
   },
   "source": [
    "## Onward!\n",
    "\n",
    "- Feature extraction for machine-learning\n",
    "- More comprehensive out-of-core support\n",
    "- Dense ND data store (e.g. satellite imagery: X, Y, Z, T -> R, G, B)\n",
    "- Streaming updates"
   ]
  },
  {
   "cell_type": "markdown",
   "metadata": {
    "slideshow": {
     "slide_type": "slide"
    }
   },
   "source": [
    "## AxisArrays\n",
    "\n",
    "by Matt Bauman & Tim Holy"
   ]
  },
  {
   "cell_type": "code",
   "execution_count": 9,
   "metadata": {},
   "outputs": [
    {
     "data": {
      "text/plain": [
       "2-dimensional AxisArray{Float64,2,...} with axes:\n",
       "    :time, 0.0 s:2.5e-5 s:60.0 s\n",
       "    :chan, Symbol[:c1, :c2]\n",
       "And data, a 2400001×2 Array{Float64,2}:\n",
       "  0.506574     1.01315  \n",
       " -4.19304     -8.38609  \n",
       " -5.99589    -11.9918   \n",
       " -8.89848    -17.797    \n",
       " -0.775896    -1.55179  \n",
       "  2.64324      5.28647  \n",
       " -2.25918     -4.51835  \n",
       "  0.706311     1.41262  \n",
       "  0.577695     1.15539  \n",
       "  0.314756     0.629511 \n",
       " -0.0258826   -0.0517652\n",
       "  2.22995      4.4599   \n",
       "  0.228836     0.457673 \n",
       "  ⋮                     \n",
       "  1.95706      3.91411  \n",
       " -5.26999    -10.54     \n",
       "  3.36631      6.73263  \n",
       " -2.99364     -5.98728  \n",
       " -1.86019     -3.72038  \n",
       "  4.59813      9.19626  \n",
       "  2.68705      5.3741   \n",
       " -5.06223    -10.1245   \n",
       " -3.74294     -7.48587  \n",
       " -2.86978     -5.73957  \n",
       " -1.52418     -3.04835  \n",
       " -2.17526     -4.35053  "
      ]
     },
     "execution_count": 9,
     "metadata": {},
     "output_type": "execute_result"
    }
   ],
   "source": [
    "using AxisArrays\n",
    "using Unitful\n",
    "import Unitful: s, ms, µs\n",
    "\n",
    "fs = 40000 # Generate a 40kHz noisy signal, with spike-like stuff added for testing\n",
    "sig = randn(60*fs+1).*3\n",
    "A = AxisArray([sig 2sig], Axis{:time}(0s:1s/fs:60s), Axis{:chan}([:c1, :c2]))"
   ]
  },
  {
   "cell_type": "code",
   "execution_count": 10,
   "metadata": {
    "slideshow": {
     "slide_type": "slide"
    }
   },
   "outputs": [
    {
     "data": {
      "text/plain": [
       "1-dimensional AxisArray{Float64,1,...} with axes:\n",
       "    :time, 5.0e-5 s:2.5e-5 s:0.0002 s\n",
       "And data, a 7-element Array{Float64,1}:\n",
       " -5.99589 \n",
       " -8.89848 \n",
       " -0.775896\n",
       "  2.64324 \n",
       " -2.25918 \n",
       "  0.706311\n",
       "  0.577695"
      ]
     },
     "execution_count": 10,
     "metadata": {},
     "output_type": "execute_result"
    }
   ],
   "source": [
    "A[40µs .. 220µs, :c1]"
   ]
  },
  {
   "cell_type": "code",
   "execution_count": 72,
   "metadata": {
    "slideshow": {
     "slide_type": "fragment"
    }
   },
   "outputs": [
    {
     "data": {
      "text/plain": [
       "2400001×2 Array{Float64,2}:\n",
       "  0.506574     1.01315  \n",
       " -4.19304     -8.38609  \n",
       " -5.99589    -11.9918   \n",
       " -8.89848    -17.797    \n",
       " -0.775896    -1.55179  \n",
       "  2.64324      5.28647  \n",
       " -2.25918     -4.51835  \n",
       "  0.706311     1.41262  \n",
       "  0.577695     1.15539  \n",
       "  0.314756     0.629511 \n",
       " -0.0258826   -0.0517652\n",
       "  2.22995      4.4599   \n",
       "  0.228836     0.457673 \n",
       "  ⋮                     \n",
       "  1.95706      3.91411  \n",
       " -5.26999    -10.54     \n",
       "  3.36631      6.73263  \n",
       " -2.99364     -5.98728  \n",
       " -1.86019     -3.72038  \n",
       "  4.59813      9.19626  \n",
       "  2.68705      5.3741   \n",
       " -5.06223    -10.1245   \n",
       " -3.74294     -7.48587  \n",
       " -2.86978     -5.73957  \n",
       " -1.52418     -3.04835  \n",
       " -2.17526     -4.35053  "
      ]
     },
     "execution_count": 72,
     "metadata": {},
     "output_type": "execute_result"
    }
   ],
   "source": [
    "A.data"
   ]
  },
  {
   "cell_type": "code",
   "execution_count": 60,
   "metadata": {},
   "outputs": [
    {
     "data": {
      "text/plain": [
       "4-d NDSparse with 10000 values (Float64):\n",
       "1   2   3   4  │\n",
       "───────────────┼────────\n",
       "1   1   1   1  │ 5.32901\n",
       "1   1   1   2  │ 5.76525\n",
       "1   1   1   3  │ 5.44826\n",
       "1   1   1   4  │ 5.81331\n",
       "1   1   1   5  │ 5.84824\n",
       "1   1   1   6  │ 5.55324\n",
       "1   1   1   7  │ 5.18814\n",
       "1   1   1   8  │ 5.6918\n",
       "1   1   1   9  │ 5.47839\n",
       "1   1   1   10 │ 5.73206\n",
       "1   1   2   1  │ 5.09805\n",
       "1   1   2   2  │ 5.18688\n",
       "               ⋮\n",
       "10  10  9   10 │ 5.76604\n",
       "10  10  10  1  │ 5.07316\n",
       "10  10  10  2  │ 5.06954\n",
       "10  10  10  3  │ 5.83907\n",
       "10  10  10  4  │ 5.81525\n",
       "10  10  10  5  │ 5.37452\n",
       "10  10  10  6  │ 5.84794\n",
       "10  10  10  7  │ 5.9642\n",
       "10  10  10  8  │ 5.44779\n",
       "10  10  10  9  │ 5.97696\n",
       "10  10  10  10 │ 5.1319"
      ]
     },
     "execution_count": 60,
     "metadata": {},
     "output_type": "execute_result"
    }
   ],
   "source": [
    "x =rand(10,10,10, 10);\n",
    "\n",
    "y = convert(NDSparse, x)\n",
    "y[1,1,1,1] += 1\n",
    "z = ndsparse([1],[5])\n",
    "\n",
    "y .+ [5]"
   ]
  },
  {
   "cell_type": "markdown",
   "metadata": {
    "slideshow": {
     "slide_type": "slide"
    }
   },
   "source": [
    "# Thank You\n",
    "\n",
    "<center><img src = \"https://juliacomputing.com/assets/img/new/JuliaDB_logo2.svg\" width=400>\n",
    "\n",
    "</center>\n",
    "<br>\n",
    "<table>\n",
    "    <tr>\n",
    "        <td style=\"width: 200px\"><strong style=\"font-size:20px;\">jeff@juliacomputing.com<br>shashi@juliacomputing.com<br>josh@juliacomputing.com</strong></td>\n",
    "        <td><img src = \"https://juliacomputing.com/assets/img/new/julia-computing.svg\" width=400></td>\n",
    "    </tr>\n",
    "</table>\n",
    "\n",
    "- https://github.com/JuliaComputing/JuliaDB.jl\n",
    "- https://juliacomputing.com"
   ]
  }
 ],
 "metadata": {
  "celltoolbar": "Slideshow",
  "kernelspec": {
   "display_name": "Julia 0.6.0",
   "language": "julia",
   "name": "julia-0.6"
  },
  "language_info": {
   "file_extension": ".jl",
   "mimetype": "application/julia",
   "name": "julia",
   "version": "0.6.0"
  }
 },
 "nbformat": 4,
 "nbformat_minor": 2
}
